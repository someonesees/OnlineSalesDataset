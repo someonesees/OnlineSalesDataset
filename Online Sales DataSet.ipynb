{
 "cells": [
  {
   "cell_type": "markdown",
   "metadata": {
    "application/vnd.databricks.v1+cell": {
     "cellMetadata": {},
     "inputWidgets": {},
     "nuid": "452d119c-f087-4a24-b281-0a9261abacf1",
     "showTitle": false,
     "title": ""
    }
   },
   "source": [
    "Importing necessary libraries from pyspark rquire for this project"
   ]
  },
  {
   "cell_type": "code",
   "execution_count": 0,
   "metadata": {
    "application/vnd.databricks.v1+cell": {
     "cellMetadata": {
      "byteLimit": 2048000,
      "rowLimit": 10000
     },
     "inputWidgets": {},
     "nuid": "d6b59bde-ba56-47e9-91e8-0f0eebc07c68",
     "showTitle": false,
     "title": ""
    }
   },
   "outputs": [],
   "source": [
    "from pyspark.sql import functions as F\n",
    "from pyspark.sql.functions import month\n",
    "from pyspark.sql.functions import *\n",
    "from pyspark.sql.types import *"
   ]
  },
  {
   "cell_type": "markdown",
   "metadata": {
    "application/vnd.databricks.v1+cell": {
     "cellMetadata": {},
     "inputWidgets": {},
     "nuid": "c23f4609-7325-4529-8531-2f3e63a26b74",
     "showTitle": false,
     "title": ""
    }
   },
   "source": [
    "Reading the csv file and capturing it into data frame"
   ]
  },
  {
   "cell_type": "code",
   "execution_count": 0,
   "metadata": {
    "application/vnd.databricks.v1+cell": {
     "cellMetadata": {
      "byteLimit": 2048000,
      "rowLimit": 10000
     },
     "inputWidgets": {},
     "nuid": "42cccffd-7d67-4e14-8cb3-9d4c7cd75ece",
     "showTitle": false,
     "title": ""
    }
   },
   "outputs": [],
   "source": [
    "df=spark.read.format(\"csv\")\\\n",
    "    .option(\"Header\",\"true\")\\\n",
    "        .option(\"inferschema\",\"true\")\\\n",
    "            .option(\"mode\",\"permissive\")\\\n",
    "                .load(\"/FileStore/tables/Online_Sales_Data.csv\")"
   ]
  },
  {
   "cell_type": "code",
   "execution_count": 0,
   "metadata": {
    "application/vnd.databricks.v1+cell": {
     "cellMetadata": {
      "byteLimit": 2048000,
      "rowLimit": 10000
     },
     "inputWidgets": {},
     "nuid": "1c07c10c-0e8e-4b75-87b4-f2d54913f655",
     "showTitle": false,
     "title": ""
    }
   },
   "outputs": [
    {
     "output_type": "stream",
     "name": "stdout",
     "output_type": "stream",
     "text": [
      "root\n |-- Transaction ID: integer (nullable = true)\n |-- Date: date (nullable = true)\n |-- Product Category: string (nullable = true)\n |-- Product Name: string (nullable = true)\n |-- Units Sold: integer (nullable = true)\n |-- Unit Price: double (nullable = true)\n |-- Total Revenue: double (nullable = true)\n |-- Region: string (nullable = true)\n |-- Payment Method: string (nullable = true)\n\n"
     ]
    }
   ],
   "source": [
    "df.printSchema()"
   ]
  },
  {
   "cell_type": "code",
   "execution_count": 0,
   "metadata": {
    "application/vnd.databricks.v1+cell": {
     "cellMetadata": {
      "byteLimit": 2048000,
      "rowLimit": 10000
     },
     "inputWidgets": {},
     "nuid": "f580ce66-fc21-417b-8b51-90cbc9114f91",
     "showTitle": false,
     "title": ""
    }
   },
   "outputs": [
    {
     "output_type": "display_data",
     "data": {
      "text/html": [
       "<style scoped>\n",
       "  .table-result-container {\n",
       "    max-height: 300px;\n",
       "    overflow: auto;\n",
       "  }\n",
       "  table, th, td {\n",
       "    border: 1px solid black;\n",
       "    border-collapse: collapse;\n",
       "  }\n",
       "  th, td {\n",
       "    padding: 5px;\n",
       "  }\n",
       "  th {\n",
       "    text-align: left;\n",
       "  }\n",
       "</style><div class='table-result-container'><table class='table-result'><thead style='background-color: white'><tr><th>Transaction ID</th><th>Date</th><th>Product Category</th><th>Product Name</th><th>Units Sold</th><th>Unit Price</th><th>Total Revenue</th><th>Region</th><th>Payment Method</th></tr></thead><tbody><tr><td>10001</td><td>2024-01-01</td><td>Electronics</td><td>iPhone 14 Pro</td><td>2</td><td>999.99</td><td>1999.98</td><td>North America</td><td>Credit Card</td></tr><tr><td>10002</td><td>2024-01-02</td><td>Home Appliances</td><td>Dyson V11 Vacuum</td><td>1</td><td>499.99</td><td>499.99</td><td>Europe</td><td>PayPal</td></tr><tr><td>10003</td><td>2024-01-03</td><td>Clothing</td><td>Levi's 501 Jeans</td><td>3</td><td>69.99</td><td>209.97</td><td>Asia</td><td>Debit Card</td></tr><tr><td>10004</td><td>2024-01-04</td><td>Books</td><td>The Da Vinci Code</td><td>4</td><td>15.99</td><td>63.96</td><td>North America</td><td>Credit Card</td></tr><tr><td>10005</td><td>2024-01-05</td><td>Beauty Products</td><td>Neutrogena Skincare Set</td><td>1</td><td>89.99</td><td>89.99</td><td>Europe</td><td>PayPal</td></tr><tr><td>10006</td><td>2024-01-06</td><td>Sports</td><td>Wilson Evolution Basketball</td><td>5</td><td>29.99</td><td>149.95</td><td>Asia</td><td>Credit Card</td></tr><tr><td>10007</td><td>2024-01-07</td><td>Electronics</td><td>MacBook Pro 16-inch</td><td>1</td><td>2499.99</td><td>2499.99</td><td>North America</td><td>Credit Card</td></tr><tr><td>10008</td><td>2024-01-08</td><td>Home Appliances</td><td>Blueair Classic 480i</td><td>2</td><td>599.99</td><td>1199.98</td><td>Europe</td><td>PayPal</td></tr><tr><td>10009</td><td>2024-01-09</td><td>Clothing</td><td>Nike Air Force 1</td><td>6</td><td>89.99</td><td>539.94</td><td>Asia</td><td>Debit Card</td></tr><tr><td>10010</td><td>2024-01-10</td><td>Books</td><td>Dune by Frank Herbert</td><td>2</td><td>25.99</td><td>51.98</td><td>North America</td><td>Credit Card</td></tr><tr><td>10011</td><td>2024-01-11</td><td>Beauty Products</td><td>Chanel No. 5 Perfume</td><td>1</td><td>129.99</td><td>129.99</td><td>Europe</td><td>PayPal</td></tr><tr><td>10012</td><td>2024-01-12</td><td>Sports</td><td>Babolat Pure Drive Tennis Racket</td><td>3</td><td>199.99</td><td>599.97</td><td>Asia</td><td>Credit Card</td></tr><tr><td>10013</td><td>2024-01-13</td><td>Electronics</td><td>Samsung Galaxy Tab S8</td><td>2</td><td>749.99</td><td>1499.98</td><td>North America</td><td>Credit Card</td></tr><tr><td>10014</td><td>2024-01-14</td><td>Home Appliances</td><td>Keurig K-Elite Coffee Maker</td><td>1</td><td>189.99</td><td>189.99</td><td>Europe</td><td>PayPal</td></tr><tr><td>10015</td><td>2024-01-15</td><td>Clothing</td><td>North Face Down Jacket</td><td>2</td><td>249.99</td><td>499.98</td><td>Asia</td><td>Debit Card</td></tr><tr><td>10016</td><td>2024-01-16</td><td>Books</td><td>Salt, Fat, Acid, Heat by Samin Nosrat</td><td>3</td><td>35.99</td><td>107.97</td><td>North America</td><td>Credit Card</td></tr><tr><td>10017</td><td>2024-01-17</td><td>Beauty Products</td><td>Dyson Supersonic Hair Dryer</td><td>1</td><td>399.99</td><td>399.99</td><td>Europe</td><td>PayPal</td></tr><tr><td>10018</td><td>2024-01-18</td><td>Sports</td><td>Manduka PRO Yoga Mat</td><td>4</td><td>119.99</td><td>479.96</td><td>Asia</td><td>Credit Card</td></tr><tr><td>10019</td><td>2024-01-19</td><td>Electronics</td><td>Garmin Forerunner 945</td><td>2</td><td>499.99</td><td>999.98</td><td>North America</td><td>Credit Card</td></tr><tr><td>10020</td><td>2024-01-20</td><td>Home Appliances</td><td>Ninja Professional Blender</td><td>1</td><td>99.99</td><td>99.99</td><td>Europe</td><td>PayPal</td></tr><tr><td>10021</td><td>2024-01-21</td><td>Clothing</td><td>Zara Summer Dress</td><td>3</td><td>59.99</td><td>179.97</td><td>Asia</td><td>Debit Card</td></tr><tr><td>10022</td><td>2024-01-22</td><td>Books</td><td>Gone Girl by Gillian Flynn</td><td>2</td><td>22.99</td><td>45.98</td><td>North America</td><td>Credit Card</td></tr><tr><td>10023</td><td>2024-01-23</td><td>Beauty Products</td><td>Olay Regenerist Face Cream</td><td>1</td><td>49.99</td><td>49.99</td><td>Europe</td><td>PayPal</td></tr><tr><td>10024</td><td>2024-01-24</td><td>Sports</td><td>Adidas FIFA World Cup Football</td><td>3</td><td>29.99</td><td>89.97</td><td>Asia</td><td>Credit Card</td></tr><tr><td>10025</td><td>2024-01-25</td><td>Electronics</td><td>Bose QuietComfort 35 Headphones</td><td>1</td><td>299.99</td><td>299.99</td><td>North America</td><td>Credit Card</td></tr><tr><td>10026</td><td>2024-01-26</td><td>Home Appliances</td><td>Panasonic NN-SN966S Microwave</td><td>1</td><td>179.99</td><td>179.99</td><td>Europe</td><td>PayPal</td></tr><tr><td>10027</td><td>2024-01-27</td><td>Clothing</td><td>Adidas Ultraboost Shoes</td><td>2</td><td>179.99</td><td>359.98</td><td>Asia</td><td>Debit Card</td></tr><tr><td>10028</td><td>2024-01-28</td><td>Books</td><td>Pride and Prejudice by Jane Austen</td><td>3</td><td>12.99</td><td>38.97</td><td>North America</td><td>Credit Card</td></tr><tr><td>10029</td><td>2024-01-29</td><td>Beauty Products</td><td>MAC Ruby Woo Lipstick</td><td>1</td><td>29.99</td><td>29.99</td><td>Europe</td><td>PayPal</td></tr><tr><td>10030</td><td>2024-01-30</td><td>Sports</td><td>Nike Air Zoom Pegasus 37</td><td>2</td><td>129.99</td><td>259.98</td><td>Asia</td><td>Credit Card</td></tr><tr><td>10031</td><td>2024-01-31</td><td>Electronics</td><td>Sony WH-1000XM4 Headphones</td><td>2</td><td>349.99</td><td>699.98</td><td>North America</td><td>Credit Card</td></tr><tr><td>10032</td><td>2024-02-01</td><td>Home Appliances</td><td>Instant Pot Duo</td><td>3</td><td>89.99</td><td>269.97</td><td>Europe</td><td>PayPal</td></tr><tr><td>10033</td><td>2024-02-02</td><td>Clothing</td><td>Under Armour HeatGear T-Shirt</td><td>5</td><td>29.99</td><td>149.95</td><td>Asia</td><td>Debit Card</td></tr><tr><td>10034</td><td>2024-02-03</td><td>Books</td><td>1984 by George Orwell</td><td>4</td><td>19.99</td><td>79.96</td><td>North America</td><td>Credit Card</td></tr><tr><td>10035</td><td>2024-02-04</td><td>Beauty Products</td><td>L'Oreal Revitalift Serum</td><td>2</td><td>39.99</td><td>79.98</td><td>Europe</td><td>PayPal</td></tr><tr><td>10036</td><td>2024-02-05</td><td>Sports</td><td>Peloton Bike</td><td>1</td><td>1895.0</td><td>1895.0</td><td>Asia</td><td>Credit Card</td></tr><tr><td>10037</td><td>2024-02-06</td><td>Electronics</td><td>Apple Watch Series 8</td><td>3</td><td>399.99</td><td>1199.97</td><td>North America</td><td>Credit Card</td></tr><tr><td>10038</td><td>2024-02-07</td><td>Home Appliances</td><td>Roomba i7+</td><td>2</td><td>799.99</td><td>1599.98</td><td>Europe</td><td>PayPal</td></tr><tr><td>10039</td><td>2024-02-08</td><td>Clothing</td><td>Columbia Fleece Jacket</td><td>4</td><td>59.99</td><td>239.96</td><td>Asia</td><td>Debit Card</td></tr><tr><td>10040</td><td>2024-02-09</td><td>Books</td><td>Harry Potter and the Sorcerer's Stone</td><td>3</td><td>24.99</td><td>74.97</td><td>North America</td><td>Credit Card</td></tr><tr><td>10041</td><td>2024-02-10</td><td>Beauty Products</td><td>Estee Lauder Advanced Night Repair</td><td>1</td><td>105.0</td><td>105.0</td><td>Europe</td><td>PayPal</td></tr><tr><td>10042</td><td>2024-02-11</td><td>Sports</td><td>Fitbit Charge 5</td><td>2</td><td>129.99</td><td>259.98</td><td>Asia</td><td>Credit Card</td></tr><tr><td>10043</td><td>2024-02-12</td><td>Electronics</td><td>GoPro HERO10 Black</td><td>3</td><td>399.99</td><td>1199.97</td><td>North America</td><td>Credit Card</td></tr><tr><td>10044</td><td>2024-02-13</td><td>Home Appliances</td><td>Nespresso VertuoPlus</td><td>1</td><td>199.99</td><td>199.99</td><td>Europe</td><td>PayPal</td></tr><tr><td>10045</td><td>2024-02-14</td><td>Clothing</td><td>Patagonia Better Sweater</td><td>2</td><td>139.99</td><td>279.98</td><td>Asia</td><td>Debit Card</td></tr><tr><td>10046</td><td>2024-02-15</td><td>Books</td><td>Becoming by Michelle Obama</td><td>4</td><td>32.5</td><td>130.0</td><td>North America</td><td>Credit Card</td></tr><tr><td>10047</td><td>2024-02-16</td><td>Beauty Products</td><td>Clinique Moisture Surge</td><td>1</td><td>52.0</td><td>52.0</td><td>Europe</td><td>PayPal</td></tr><tr><td>10048</td><td>2024-02-17</td><td>Sports</td><td>Yeti Rambler Tumbler</td><td>6</td><td>39.99</td><td>239.94</td><td>Asia</td><td>Credit Card</td></tr><tr><td>10049</td><td>2024-02-18</td><td>Electronics</td><td>Kindle Paperwhite</td><td>2</td><td>129.99</td><td>259.98</td><td>North America</td><td>Credit Card</td></tr><tr><td>10050</td><td>2024-02-19</td><td>Home Appliances</td><td>Breville Smart Oven</td><td>1</td><td>299.99</td><td>299.99</td><td>Europe</td><td>PayPal</td></tr><tr><td>10051</td><td>2024-02-20</td><td>Clothing</td><td>Ray-Ban Aviator Sunglasses</td><td>3</td><td>154.99</td><td>464.97</td><td>Asia</td><td>Debit Card</td></tr><tr><td>10052</td><td>2024-02-21</td><td>Books</td><td>The Silent Patient by Alex Michaelides</td><td>2</td><td>26.99</td><td>53.98</td><td>North America</td><td>Credit Card</td></tr><tr><td>10053</td><td>2024-02-22</td><td>Beauty Products</td><td>Shiseido Ultimate Sun Protector</td><td>1</td><td>49.0</td><td>49.0</td><td>Europe</td><td>PayPal</td></tr><tr><td>10054</td><td>2024-02-23</td><td>Sports</td><td>Titleist Pro V1 Golf Balls</td><td>5</td><td>49.99</td><td>249.95</td><td>Asia</td><td>Credit Card</td></tr><tr><td>10055</td><td>2024-02-24</td><td>Electronics</td><td>Anker PowerCore Portable Charger</td><td>4</td><td>59.99</td><td>239.96</td><td>North America</td><td>Credit Card</td></tr><tr><td>10056</td><td>2024-02-25</td><td>Home Appliances</td><td>KitchenAid Artisan Stand Mixer</td><td>1</td><td>499.99</td><td>499.99</td><td>Europe</td><td>PayPal</td></tr><tr><td>10057</td><td>2024-02-26</td><td>Clothing</td><td>Calvin Klein Boxer Briefs</td><td>5</td><td>29.99</td><td>149.95</td><td>Asia</td><td>Debit Card</td></tr><tr><td>10058</td><td>2024-02-27</td><td>Books</td><td>Educated by Tara Westover</td><td>3</td><td>28.0</td><td>84.0</td><td>North America</td><td>Credit Card</td></tr><tr><td>10059</td><td>2024-02-28</td><td>Beauty Products</td><td>Anastasia Beverly Hills Brow Wiz</td><td>2</td><td>23.0</td><td>46.0</td><td>Europe</td><td>PayPal</td></tr><tr><td>10060</td><td>2024-02-29</td><td>Sports</td><td>Hyperice Hypervolt Massager</td><td>1</td><td>349.0</td><td>349.0</td><td>Asia</td><td>Credit Card</td></tr><tr><td>10061</td><td>2024-03-01</td><td>Electronics</td><td>Nintendo Switch</td><td>3</td><td>299.99</td><td>899.97</td><td>North America</td><td>Credit Card</td></tr><tr><td>10062</td><td>2024-03-02</td><td>Home Appliances</td><td>Philips Airfryer XXL</td><td>2</td><td>199.99</td><td>399.98</td><td>Europe</td><td>PayPal</td></tr><tr><td>10063</td><td>2024-03-03</td><td>Clothing</td><td>Hanes ComfortSoft T-Shirt</td><td>10</td><td>9.99</td><td>99.9</td><td>Asia</td><td>Debit Card</td></tr><tr><td>10064</td><td>2024-03-04</td><td>Books</td><td>Where the Crawdads Sing by Delia Owens</td><td>4</td><td>18.99</td><td>75.96</td><td>North America</td><td>Credit Card</td></tr><tr><td>10065</td><td>2024-03-05</td><td>Beauty Products</td><td>Lancome La Vie Est Belle</td><td>1</td><td>102.0</td><td>102.0</td><td>Europe</td><td>PayPal</td></tr><tr><td>10066</td><td>2024-03-06</td><td>Sports</td><td>Garmin Edge 530</td><td>2</td><td>299.99</td><td>599.98</td><td>Asia</td><td>Credit Card</td></tr><tr><td>10067</td><td>2024-03-07</td><td>Electronics</td><td>Samsung QLED 4K TV</td><td>1</td><td>1199.99</td><td>1199.99</td><td>North America</td><td>Credit Card</td></tr><tr><td>10068</td><td>2024-03-08</td><td>Home Appliances</td><td>Eufy RoboVac 11S</td><td>3</td><td>219.99</td><td>659.97</td><td>Europe</td><td>PayPal</td></tr><tr><td>10069</td><td>2024-03-09</td><td>Clothing</td><td>Puma Suede Classic Sneakers</td><td>4</td><td>59.99</td><td>239.96</td><td>Asia</td><td>Debit Card</td></tr><tr><td>10070</td><td>2024-03-10</td><td>Books</td><td>The Great Gatsby by F. Scott Fitzgerald</td><td>2</td><td>10.99</td><td>21.98</td><td>North America</td><td>Credit Card</td></tr><tr><td>10071</td><td>2024-03-11</td><td>Beauty Products</td><td>Drunk Elephant C-Firma Day Serum</td><td>1</td><td>78.0</td><td>78.0</td><td>Europe</td><td>PayPal</td></tr><tr><td>10072</td><td>2024-03-12</td><td>Sports</td><td>Nike Metcon 6</td><td>3</td><td>129.99</td><td>389.97</td><td>Asia</td><td>Credit Card</td></tr><tr><td>10073</td><td>2024-03-13</td><td>Electronics</td><td>HP Spectre x360 Laptop</td><td>1</td><td>1599.99</td><td>1599.99</td><td>North America</td><td>Credit Card</td></tr><tr><td>10074</td><td>2024-03-14</td><td>Home Appliances</td><td>De'Longhi Magnifica Espresso Machine</td><td>1</td><td>899.99</td><td>899.99</td><td>Europe</td><td>PayPal</td></tr><tr><td>10075</td><td>2024-03-15</td><td>Clothing</td><td>Tommy Hilfiger Polo Shirt</td><td>5</td><td>49.99</td><td>249.95</td><td>Asia</td><td>Debit Card</td></tr><tr><td>10076</td><td>2024-03-16</td><td>Books</td><td>To Kill a Mockingbird by Harper Lee</td><td>4</td><td>14.99</td><td>59.96</td><td>North America</td><td>Credit Card</td></tr><tr><td>10077</td><td>2024-03-17</td><td>Beauty Products</td><td>Glossier Boy Brow</td><td>2</td><td>16.0</td><td>32.0</td><td>Europe</td><td>PayPal</td></tr><tr><td>10078</td><td>2024-03-18</td><td>Sports</td><td>Rogue Fitness Kettlebell</td><td>3</td><td>69.99</td><td>209.97</td><td>Asia</td><td>Credit Card</td></tr><tr><td>10079</td><td>2024-03-19</td><td>Electronics</td><td>Apple AirPods Pro</td><td>2</td><td>249.99</td><td>499.98</td><td>North America</td><td>Credit Card</td></tr><tr><td>10080</td><td>2024-03-20</td><td>Home Appliances</td><td>Dyson Pure Cool Link</td><td>1</td><td>499.99</td><td>499.99</td><td>Europe</td><td>PayPal</td></tr><tr><td>10081</td><td>2024-03-21</td><td>Clothing</td><td>Levi's Trucker Jacket</td><td>2</td><td>89.99</td><td>179.98</td><td>Asia</td><td>Debit Card</td></tr><tr><td>10082</td><td>2024-03-22</td><td>Books</td><td>The Hobbit by J.R.R. Tolkien</td><td>3</td><td>12.99</td><td>38.97</td><td>North America</td><td>Credit Card</td></tr><tr><td>10083</td><td>2024-03-23</td><td>Beauty Products</td><td>Charlotte Tilbury Magic Cream</td><td>1</td><td>100.0</td><td>100.0</td><td>Europe</td><td>PayPal</td></tr><tr><td>10084</td><td>2024-03-24</td><td>Sports</td><td>Spalding NBA Street Basketball</td><td>6</td><td>24.99</td><td>149.94</td><td>Asia</td><td>Credit Card</td></tr><tr><td>10085</td><td>2024-03-25</td><td>Electronics</td><td>Ring Video Doorbell</td><td>1</td><td>99.99</td><td>99.99</td><td>North America</td><td>Credit Card</td></tr><tr><td>10086</td><td>2024-03-26</td><td>Home Appliances</td><td>LG OLED TV</td><td>2</td><td>1299.99</td><td>2599.98</td><td>Europe</td><td>PayPal</td></tr><tr><td>10087</td><td>2024-03-27</td><td>Clothing</td><td>Uniqlo Ultra Light Down Jacket</td><td>3</td><td>79.99</td><td>239.97</td><td>Asia</td><td>Debit Card</td></tr><tr><td>10088</td><td>2024-03-28</td><td>Books</td><td>The Catcher in the Rye by J.D. Salinger</td><td>4</td><td>13.99</td><td>55.96</td><td>North America</td><td>Credit Card</td></tr><tr><td>10089</td><td>2024-03-29</td><td>Beauty Products</td><td>Sunday Riley Good Genes</td><td>1</td><td>105.0</td><td>105.0</td><td>Europe</td><td>PayPal</td></tr><tr><td>10090</td><td>2024-03-30</td><td>Sports</td><td>On Running Cloud Shoes</td><td>2</td><td>129.99</td><td>259.98</td><td>Asia</td><td>Credit Card</td></tr><tr><td>10091</td><td>2024-03-31</td><td>Electronics</td><td>Logitech MX Master 3 Mouse</td><td>2</td><td>99.99</td><td>199.98</td><td>North America</td><td>Credit Card</td></tr><tr><td>10092</td><td>2024-04-01</td><td>Home Appliances</td><td>Instant Pot Duo Crisp</td><td>1</td><td>179.99</td><td>179.99</td><td>Europe</td><td>PayPal</td></tr><tr><td>10093</td><td>2024-04-02</td><td>Clothing</td><td>Adidas Originals Superstar Sneakers</td><td>4</td><td>79.99</td><td>319.96</td><td>Asia</td><td>Debit Card</td></tr><tr><td>10094</td><td>2024-04-03</td><td>Books</td><td>The Alchemist by Paulo Coelho</td><td>3</td><td>14.99</td><td>44.97</td><td>North America</td><td>Credit Card</td></tr><tr><td>10095</td><td>2024-04-04</td><td>Beauty Products</td><td>Tatcha The Water Cream</td><td>1</td><td>68.0</td><td>68.0</td><td>Europe</td><td>PayPal</td></tr><tr><td>10096</td><td>2024-04-05</td><td>Sports</td><td>Garmin Fenix 6X Pro</td><td>1</td><td>999.99</td><td>999.99</td><td>Asia</td><td>Credit Card</td></tr><tr><td>10097</td><td>2024-04-06</td><td>Electronics</td><td>Bose SoundLink Revolve+ Speaker</td><td>3</td><td>299.99</td><td>899.97</td><td>North America</td><td>Credit Card</td></tr><tr><td>10098</td><td>2024-04-07</td><td>Home Appliances</td><td>Vitamix Explorian Blender</td><td>1</td><td>349.99</td><td>349.99</td><td>Europe</td><td>PayPal</td></tr><tr><td>10099</td><td>2024-04-08</td><td>Clothing</td><td>Gap Essential Crewneck T-Shirt</td><td>6</td><td>19.99</td><td>119.94</td><td>Asia</td><td>Debit Card</td></tr><tr><td>10100</td><td>2024-04-09</td><td>Books</td><td>The Power of Now by Eckhart Tolle</td><td>2</td><td>12.99</td><td>25.98</td><td>North America</td><td>Credit Card</td></tr><tr><td>10101</td><td>2024-04-10</td><td>Beauty Products</td><td>Kiehl's Midnight Recovery Concentrate</td><td>1</td><td>82.0</td><td>82.0</td><td>Europe</td><td>PayPal</td></tr><tr><td>10102</td><td>2024-04-11</td><td>Sports</td><td>Under Armour HOVR Sonic 4 Shoes</td><td>2</td><td>109.99</td><td>219.98</td><td>Asia</td><td>Credit Card</td></tr><tr><td>10103</td><td>2024-04-12</td><td>Electronics</td><td>Canon EOS R5 Camera</td><td>1</td><td>3899.99</td><td>3899.99</td><td>North America</td><td>Credit Card</td></tr><tr><td>10104</td><td>2024-04-13</td><td>Home Appliances</td><td>Shark IQ Robot Vacuum</td><td>2</td><td>349.99</td><td>699.98</td><td>Europe</td><td>PayPal</td></tr><tr><td>10105</td><td>2024-04-14</td><td>Clothing</td><td>H&M Slim Fit Jeans</td><td>3</td><td>39.99</td><td>119.97</td><td>Asia</td><td>Debit Card</td></tr><tr><td>10106</td><td>2024-04-15</td><td>Books</td><td>The Girl on the Train by Paula Hawkins</td><td>4</td><td>10.99</td><td>43.96</td><td>North America</td><td>Credit Card</td></tr><tr><td>10107</td><td>2024-04-16</td><td>Beauty Products</td><td>The Ordinary Niacinamide Serum</td><td>1</td><td>6.5</td><td>6.5</td><td>Europe</td><td>PayPal</td></tr><tr><td>10108</td><td>2024-04-17</td><td>Sports</td><td>Bowflex SelectTech 552 Dumbbells</td><td>1</td><td>399.99</td><td>399.99</td><td>Asia</td><td>Credit Card</td></tr><tr><td>10109</td><td>2024-04-18</td><td>Electronics</td><td>Google Nest Hub Max</td><td>2</td><td>229.99</td><td>459.98</td><td>North America</td><td>Credit Card</td></tr><tr><td>10110</td><td>2024-04-19</td><td>Home Appliances</td><td>Cuisinart Griddler Deluxe</td><td>1</td><td>159.99</td><td>159.99</td><td>Europe</td><td>PayPal</td></tr><tr><td>10111</td><td>2024-04-20</td><td>Clothing</td><td>Old Navy Relaxed-Fit T-Shirt</td><td>4</td><td>14.99</td><td>59.96</td><td>Asia</td><td>Debit Card</td></tr><tr><td>10112</td><td>2024-04-21</td><td>Books</td><td>Sapiens: A Brief History of Humankind by Yuval Noah Harari</td><td>2</td><td>18.99</td><td>37.98</td><td>North America</td><td>Credit Card</td></tr><tr><td>10113</td><td>2024-04-22</td><td>Beauty Products</td><td>Biore UV Aqua Rich Watery Essence Sunscreen</td><td>1</td><td>15.0</td><td>15.0</td><td>Europe</td><td>PayPal</td></tr><tr><td>10114</td><td>2024-04-23</td><td>Sports</td><td>Fitbit Versa 3</td><td>3</td><td>229.95</td><td>689.85</td><td>Asia</td><td>Credit Card</td></tr><tr><td>10115</td><td>2024-04-24</td><td>Electronics</td><td>Amazon Echo Show 10</td><td>1</td><td>249.99</td><td>249.99</td><td>North America</td><td>Credit Card</td></tr><tr><td>10116</td><td>2024-04-25</td><td>Home Appliances</td><td>Breville Smart Grill</td><td>2</td><td>299.95</td><td>599.9</td><td>Europe</td><td>PayPal</td></tr><tr><td>10117</td><td>2024-04-26</td><td>Clothing</td><td>Gap High Rise Skinny Jeans</td><td>3</td><td>49.99</td><td>149.97</td><td>Asia</td><td>Debit Card</td></tr><tr><td>10118</td><td>2024-04-27</td><td>Books</td><td>Atomic Habits by James Clear</td><td>4</td><td>16.99</td><td>67.96</td><td>North America</td><td>Credit Card</td></tr><tr><td>10119</td><td>2024-04-28</td><td>Beauty Products</td><td>CeraVe Hydrating Facial Cleanser</td><td>2</td><td>14.99</td><td>29.98</td><td>Europe</td><td>PayPal</td></tr><tr><td>10120</td><td>2024-04-29</td><td>Sports</td><td>YETI Hopper Flip Portable Cooler</td><td>1</td><td>249.99</td><td>249.99</td><td>Asia</td><td>Credit Card</td></tr><tr><td>10121</td><td>2024-04-30</td><td>Electronics</td><td>Apple iPad Air</td><td>2</td><td>599.99</td><td>1199.98</td><td>North America</td><td>Credit Card</td></tr><tr><td>10122</td><td>2024-05-01</td><td>Home Appliances</td><td>Hamilton Beach FlexBrew Coffee Maker</td><td>1</td><td>89.99</td><td>89.99</td><td>Europe</td><td>PayPal</td></tr><tr><td>10123</td><td>2024-05-02</td><td>Clothing</td><td>Forever 21 Graphic Tee</td><td>5</td><td>12.99</td><td>64.95</td><td>Asia</td><td>Debit Card</td></tr><tr><td>10124</td><td>2024-05-03</td><td>Books</td><td>The Subtle Art of Not Giving a F*ck by Mark Manson</td><td>3</td><td>14.99</td><td>44.97</td><td>North America</td><td>Credit Card</td></tr><tr><td>10125</td><td>2024-05-04</td><td>Beauty Products</td><td>NARS Radiant Creamy Concealer</td><td>1</td><td>30.0</td><td>30.0</td><td>Europe</td><td>PayPal</td></tr><tr><td>10126</td><td>2024-05-05</td><td>Sports</td><td>Yeti Roadie 24 Cooler</td><td>1</td><td>199.99</td><td>199.99</td><td>Asia</td><td>Credit Card</td></tr><tr><td>10127</td><td>2024-05-06</td><td>Electronics</td><td>Sony PlayStation 5</td><td>1</td><td>499.99</td><td>499.99</td><td>North America</td><td>Credit Card</td></tr><tr><td>10128</td><td>2024-05-07</td><td>Home Appliances</td><td>Dyson Supersonic Hair Dryer</td><td>2</td><td>399.99</td><td>799.98</td><td>Europe</td><td>PayPal</td></tr><tr><td>10129</td><td>2024-05-08</td><td>Clothing</td><td>Lululemon Align Leggings</td><td>3</td><td>98.0</td><td>294.0</td><td>Asia</td><td>Debit Card</td></tr><tr><td>10130</td><td>2024-05-09</td><td>Books</td><td>The Four Agreements by Don Miguel Ruiz</td><td>2</td><td>8.99</td><td>17.98</td><td>North America</td><td>Credit Card</td></tr><tr><td>10131</td><td>2024-05-10</td><td>Beauty Products</td><td>Fenty Beauty Killawatt Highlighter</td><td>1</td><td>36.0</td><td>36.0</td><td>Europe</td><td>PayPal</td></tr><tr><td>10132</td><td>2024-05-11</td><td>Sports</td><td>Hydro Flask Wide Mouth Water Bottle</td><td>4</td><td>39.95</td><td>159.8</td><td>Asia</td><td>Credit Card</td></tr><tr><td>10133</td><td>2024-05-12</td><td>Electronics</td><td>Microsoft Surface Laptop 4</td><td>1</td><td>1299.99</td><td>1299.99</td><td>North America</td><td>Credit Card</td></tr><tr><td>10134</td><td>2024-05-13</td><td>Home Appliances</td><td>Keurig K-Mini Coffee Maker</td><td>2</td><td>79.99</td><td>159.98</td><td>Europe</td><td>PayPal</td></tr><tr><td>10135</td><td>2024-05-14</td><td>Clothing</td><td>Gap Crewneck Sweatshirt</td><td>4</td><td>34.99</td><td>139.96</td><td>Asia</td><td>Debit Card</td></tr><tr><td>10136</td><td>2024-05-15</td><td>Books</td><td>Think and Grow Rich by Napoleon Hill</td><td>3</td><td>9.99</td><td>29.97</td><td>North America</td><td>Credit Card</td></tr><tr><td>10137</td><td>2024-05-16</td><td>Beauty Products</td><td>The Ordinary Hyaluronic Acid Serum</td><td>1</td><td>6.8</td><td>6.8</td><td>Europe</td><td>PayPal</td></tr><tr><td>10138</td><td>2024-05-17</td><td>Sports</td><td>Fitbit Inspire 2</td><td>2</td><td>99.95</td><td>199.9</td><td>Asia</td><td>Credit Card</td></tr><tr><td>10139</td><td>2024-05-18</td><td>Electronics</td><td>Samsung Odyssey G9 Gaming Monitor</td><td>1</td><td>1499.99</td><td>1499.99</td><td>North America</td><td>Credit Card</td></tr><tr><td>10140</td><td>2024-05-19</td><td>Home Appliances</td><td>Instant Pot Ultra</td><td>1</td><td>139.99</td><td>139.99</td><td>Europe</td><td>PayPal</td></tr><tr><td>10141</td><td>2024-05-20</td><td>Clothing</td><td>Adidas Essential Track Pants</td><td>3</td><td>44.99</td><td>134.97</td><td>Asia</td><td>Debit Card</td></tr><tr><td>10142</td><td>2024-05-21</td><td>Books</td><td>The Power of Habit by Charles Duhigg</td><td>2</td><td>11.99</td><td>23.98</td><td>North America</td><td>Credit Card</td></tr><tr><td>10143</td><td>2024-05-22</td><td>Beauty Products</td><td>Clinique Dramatically Different Moisturizing Lotion</td><td>1</td><td>29.5</td><td>29.5</td><td>Europe</td><td>PayPal</td></tr><tr><td>10144</td><td>2024-05-23</td><td>Sports</td><td>YETI Tundra 45 Cooler</td><td>1</td><td>299.99</td><td>299.99</td><td>Asia</td><td>Credit Card</td></tr><tr><td>10145</td><td>2024-05-24</td><td>Electronics</td><td>Apple AirPods Max</td><td>1</td><td>549.0</td><td>549.0</td><td>North America</td><td>Credit Card</td></tr><tr><td>10146</td><td>2024-05-25</td><td>Home Appliances</td><td>Cuisinart Coffee Center</td><td>2</td><td>199.95</td><td>399.9</td><td>Europe</td><td>PayPal</td></tr><tr><td>10147</td><td>2024-05-26</td><td>Clothing</td><td>Levi's Sherpa Trucker Jacket</td><td>2</td><td>98.0</td><td>196.0</td><td>Asia</td><td>Debit Card</td></tr><tr><td>10148</td><td>2024-05-27</td><td>Books</td><td>The Outsiders by S.E. Hinton</td><td>3</td><td>10.99</td><td>32.97</td><td>North America</td><td>Credit Card</td></tr><tr><td>10149</td><td>2024-05-28</td><td>Beauty Products</td><td>Laneige Water Sleeping Mask</td><td>1</td><td>25.0</td><td>25.0</td><td>Europe</td><td>PayPal</td></tr><tr><td>10150</td><td>2024-05-29</td><td>Sports</td><td>Bose SoundSport Wireless Earbuds</td><td>2</td><td>149.99</td><td>299.98</td><td>Asia</td><td>Credit Card</td></tr><tr><td>10151</td><td>2024-05-30</td><td>Electronics</td><td>Sony WH-1000XM4 Headphones</td><td>1</td><td>349.99</td><td>349.99</td><td>North America</td><td>Credit Card</td></tr><tr><td>10152</td><td>2024-05-31</td><td>Home Appliances</td><td>Ninja Foodi Pressure Cooker</td><td>2</td><td>199.99</td><td>399.98</td><td>Europe</td><td>PayPal</td></tr><tr><td>10153</td><td>2024-06-01</td><td>Clothing</td><td>Nike Sportswear Club Fleece Hoodie</td><td>3</td><td>54.99</td><td>164.97</td><td>Asia</td><td>Debit Card</td></tr><tr><td>10154</td><td>2024-06-02</td><td>Books</td><td>The Night Circus by Erin Morgenstern</td><td>2</td><td>16.99</td><td>33.98</td><td>North America</td><td>Credit Card</td></tr><tr><td>10155</td><td>2024-06-03</td><td>Beauty Products</td><td>GlamGlow Supermud Clearing Treatment</td><td>1</td><td>59.0</td><td>59.0</td><td>Europe</td><td>PayPal</td></tr><tr><td>10156</td><td>2024-06-04</td><td>Sports</td><td>Garmin Forerunner 245</td><td>1</td><td>299.99</td><td>299.99</td><td>Asia</td><td>Credit Card</td></tr><tr><td>10157</td><td>2024-06-05</td><td>Electronics</td><td>Google Pixel 6 Pro</td><td>1</td><td>899.99</td><td>899.99</td><td>North America</td><td>Credit Card</td></tr><tr><td>10158</td><td>2024-06-06</td><td>Home Appliances</td><td>Breville Nespresso Creatista Plus</td><td>1</td><td>499.95</td><td>499.95</td><td>Europe</td><td>PayPal</td></tr><tr><td>10159</td><td>2024-06-07</td><td>Clothing</td><td>Under Armour Tech 2.0 T-Shirt</td><td>4</td><td>24.99</td><td>99.96</td><td>Asia</td><td>Debit Card</td></tr><tr><td>10160</td><td>2024-06-08</td><td>Books</td><td>The Art of War by Sun Tzu</td><td>3</td><td>7.99</td><td>23.97</td><td>North America</td><td>Credit Card</td></tr><tr><td>10161</td><td>2024-06-09</td><td>Beauty Products</td><td>Youth to the People Superfood Antioxidant Cleanser</td><td>1</td><td>36.0</td><td>36.0</td><td>Europe</td><td>PayPal</td></tr><tr><td>10162</td><td>2024-06-10</td><td>Sports</td><td>TriggerPoint GRID Foam Roller</td><td>2</td><td>34.99</td><td>69.98</td><td>Asia</td><td>Credit Card</td></tr><tr><td>10163</td><td>2024-06-11</td><td>Electronics</td><td>Apple MacBook Air</td><td>1</td><td>1199.99</td><td>1199.99</td><td>North America</td><td>Credit Card</td></tr><tr><td>10164</td><td>2024-06-12</td><td>Home Appliances</td><td>Cuisinart Custom 14-Cup Food Processor</td><td>1</td><td>199.99</td><td>199.99</td><td>Europe</td><td>PayPal</td></tr><tr><td>10165</td><td>2024-06-13</td><td>Clothing</td><td>Adidas 3-Stripes Shorts</td><td>5</td><td>29.99</td><td>149.95</td><td>Asia</td><td>Debit Card</td></tr><tr><td>10166</td><td>2024-06-14</td><td>Books</td><td>The Hunger Games by Suzanne Collins</td><td>4</td><td>8.99</td><td>35.96</td><td>North America</td><td>Credit Card</td></tr><tr><td>10167</td><td>2024-06-15</td><td>Beauty Products</td><td>Neutrogena Hydro Boost Water Gel</td><td>1</td><td>16.99</td><td>16.99</td><td>Europe</td><td>PayPal</td></tr><tr><td>10168</td><td>2024-06-16</td><td>Sports</td><td>Yeti Rambler Bottle</td><td>3</td><td>49.99</td><td>149.97</td><td>Asia</td><td>Credit Card</td></tr><tr><td>10169</td><td>2024-06-17</td><td>Electronics</td><td>Samsung Odyssey G7 Gaming Monitor</td><td>1</td><td>699.99</td><td>699.99</td><td>North America</td><td>Credit Card</td></tr><tr><td>10170</td><td>2024-06-18</td><td>Home Appliances</td><td>Instant Pot Duo Evo Plus</td><td>2</td><td>139.99</td><td>279.98</td><td>Europe</td><td>PayPal</td></tr><tr><td>10171</td><td>2024-06-19</td><td>Clothing</td><td>Nike Tempo Running Shorts</td><td>3</td><td>34.99</td><td>104.97</td><td>Asia</td><td>Debit Card</td></tr><tr><td>10172</td><td>2024-06-20</td><td>Books</td><td>The Girl with the Dragon Tattoo by Stieg Larsson</td><td>2</td><td>9.99</td><td>19.98</td><td>North America</td><td>Credit Card</td></tr><tr><td>10173</td><td>2024-06-21</td><td>Beauty Products</td><td>Paula's Choice Skin Perfecting 2% BHA Liquid Exfoliant</td><td>1</td><td>29.5</td><td>29.5</td><td>Europe</td><td>PayPal</td></tr><tr><td>10174</td><td>2024-06-22</td><td>Sports</td><td>Bowflex SelectTech 1090 Adjustable Dumbbells</td><td>1</td><td>699.99</td><td>699.99</td><td>Asia</td><td>Credit Card</td></tr><tr><td>10175</td><td>2024-06-23</td><td>Electronics</td><td>Amazon Fire TV Stick 4K</td><td>3</td><td>49.99</td><td>149.97</td><td>North America</td><td>Credit Card</td></tr><tr><td>10176</td><td>2024-06-24</td><td>Home Appliances</td><td>Crock-Pot 6-Quart Slow Cooker</td><td>2</td><td>49.99</td><td>99.98</td><td>Europe</td><td>PayPal</td></tr><tr><td>10177</td><td>2024-06-25</td><td>Clothing</td><td>Uniqlo Airism Mesh Boxer Briefs</td><td>4</td><td>14.9</td><td>59.6</td><td>Asia</td><td>Debit Card</td></tr><tr><td>10178</td><td>2024-06-26</td><td>Books</td><td>The Sun Also Rises by Ernest Hemingway</td><td>3</td><td>11.99</td><td>35.97</td><td>North America</td><td>Credit Card</td></tr><tr><td>10179</td><td>2024-06-27</td><td>Beauty Products</td><td>First Aid Beauty Ultra Repair Cream</td><td>2</td><td>34.0</td><td>68.0</td><td>Europe</td><td>PayPal</td></tr><tr><td>10180</td><td>2024-06-28</td><td>Sports</td><td>Oakley Holbrook Sunglasses</td><td>1</td><td>146.0</td><td>146.0</td><td>Asia</td><td>Credit Card</td></tr><tr><td>10181</td><td>2024-06-29</td><td>Electronics</td><td>Google Pixelbook Go</td><td>1</td><td>649.99</td><td>649.99</td><td>North America</td><td>Credit Card</td></tr><tr><td>10182</td><td>2024-06-30</td><td>Home Appliances</td><td>Dyson V8 Absolute</td><td>1</td><td>399.99</td><td>399.99</td><td>Europe</td><td>PayPal</td></tr><tr><td>10183</td><td>2024-07-01</td><td>Clothing</td><td>Levi's 511 Slim Fit Jeans</td><td>3</td><td>59.99</td><td>179.97</td><td>Asia</td><td>Debit Card</td></tr><tr><td>10184</td><td>2024-07-02</td><td>Books</td><td>The Martian by Andy Weir</td><td>2</td><td>12.99</td><td>25.98</td><td>North America</td><td>Credit Card</td></tr><tr><td>10185</td><td>2024-07-03</td><td>Beauty Products</td><td>La Mer Crème de la Mer Moisturizer</td><td>1</td><td>190.0</td><td>190.0</td><td>Europe</td><td>PayPal</td></tr><tr><td>10186</td><td>2024-07-04</td><td>Sports</td><td>Polar Vantage V2</td><td>1</td><td>499.95</td><td>499.95</td><td>Asia</td><td>Credit Card</td></tr><tr><td>10187</td><td>2024-07-05</td><td>Electronics</td><td>Sonos Beam Soundbar</td><td>1</td><td>399.0</td><td>399.0</td><td>North America</td><td>Credit Card</td></tr><tr><td>10188</td><td>2024-07-06</td><td>Home Appliances</td><td>Anova Precision Cooker</td><td>2</td><td>199.0</td><td>398.0</td><td>Europe</td><td>PayPal</td></tr><tr><td>10189</td><td>2024-07-07</td><td>Clothing</td><td>Nike Dri-FIT Training Shorts</td><td>4</td><td>34.99</td><td>139.96</td><td>Asia</td><td>Debit Card</td></tr><tr><td>10190</td><td>2024-07-08</td><td>Books</td><td>The Catcher in the Rye by J.D. Salinger</td><td>3</td><td>10.99</td><td>32.97</td><td>North America</td><td>Credit Card</td></tr><tr><td>10191</td><td>2024-07-09</td><td>Beauty Products</td><td>Glossier Cloud Paint</td><td>1</td><td>18.0</td><td>18.0</td><td>Europe</td><td>PayPal</td></tr><tr><td>10192</td><td>2024-07-10</td><td>Sports</td><td>TRX All-in-One Suspension Training System</td><td>1</td><td>169.95</td><td>169.95</td><td>Asia</td><td>Credit Card</td></tr><tr><td>10193</td><td>2024-07-11</td><td>Electronics</td><td>Logitech G Pro X Wireless Gaming Headset</td><td>1</td><td>199.99</td><td>199.99</td><td>North America</td><td>Credit Card</td></tr><tr><td>10194</td><td>2024-07-12</td><td>Home Appliances</td><td>Breville Smart Coffee Grinder Pro</td><td>1</td><td>199.95</td><td>199.95</td><td>Europe</td><td>PayPal</td></tr><tr><td>10195</td><td>2024-07-13</td><td>Clothing</td><td>Adidas Ultraboost Running Shoes</td><td>2</td><td>179.99</td><td>359.98</td><td>Asia</td><td>Debit Card</td></tr><tr><td>10196</td><td>2024-07-14</td><td>Books</td><td>The Road by Cormac McCarthy</td><td>2</td><td>11.99</td><td>23.98</td><td>North America</td><td>Credit Card</td></tr><tr><td>10197</td><td>2024-07-15</td><td>Beauty Products</td><td>Tom Ford Black Orchid Perfume</td><td>1</td><td>125.0</td><td>125.0</td><td>Europe</td><td>PayPal</td></tr><tr><td>10198</td><td>2024-07-16</td><td>Sports</td><td>GoPro HERO9 Black</td><td>1</td><td>449.99</td><td>449.99</td><td>Asia</td><td>Credit Card</td></tr><tr><td>10199</td><td>2024-07-17</td><td>Electronics</td><td>Apple TV 4K</td><td>2</td><td>179.0</td><td>358.0</td><td>North America</td><td>Credit Card</td></tr><tr><td>10200</td><td>2024-07-18</td><td>Home Appliances</td><td>Instant Pot Duo Nova</td><td>1</td><td>99.95</td><td>99.95</td><td>Europe</td><td>PayPal</td></tr><tr><td>10201</td><td>2024-07-19</td><td>Clothing</td><td>Gap 1969 Original Fit Jeans</td><td>3</td><td>59.99</td><td>179.97</td><td>Asia</td><td>Debit Card</td></tr><tr><td>10202</td><td>2024-07-20</td><td>Books</td><td>The Goldfinch by Donna Tartt</td><td>2</td><td>14.99</td><td>29.98</td><td>North America</td><td>Credit Card</td></tr><tr><td>10203</td><td>2024-07-21</td><td>Beauty Products</td><td>Dr. Jart+ Cicapair Tiger Grass Color Correcting Treatment</td><td>1</td><td>52.0</td><td>52.0</td><td>Europe</td><td>PayPal</td></tr><tr><td>10204</td><td>2024-07-22</td><td>Sports</td><td>Yeti Tundra Haul Portable Wheeled Cooler</td><td>1</td><td>399.99</td><td>399.99</td><td>Asia</td><td>Credit Card</td></tr><tr><td>10205</td><td>2024-07-23</td><td>Electronics</td><td>Samsung Galaxy Watch 4</td><td>1</td><td>299.99</td><td>299.99</td><td>North America</td><td>Credit Card</td></tr><tr><td>10206</td><td>2024-07-24</td><td>Home Appliances</td><td>KitchenAid Stand Mixer</td><td>1</td><td>379.99</td><td>379.99</td><td>Europe</td><td>PayPal</td></tr><tr><td>10207</td><td>2024-07-25</td><td>Clothing</td><td>Lululemon Wunder Under High-Rise Leggings</td><td>2</td><td>98.0</td><td>196.0</td><td>Asia</td><td>Debit Card</td></tr><tr><td>10208</td><td>2024-07-26</td><td>Books</td><td>The Great Alone by Kristin Hannah</td><td>3</td><td>16.99</td><td>50.97</td><td>North America</td><td>Credit Card</td></tr><tr><td>10209</td><td>2024-07-27</td><td>Beauty Products</td><td>Caudalie Vinoperfect Radiance Serum</td><td>1</td><td>79.0</td><td>79.0</td><td>Europe</td><td>PayPal</td></tr><tr><td>10210</td><td>2024-07-28</td><td>Sports</td><td>Bose SoundLink Color Bluetooth Speaker II</td><td>1</td><td>129.0</td><td>129.0</td><td>Asia</td><td>Credit Card</td></tr><tr><td>10211</td><td>2024-07-29</td><td>Electronics</td><td>Canon EOS Rebel T7i DSLR Camera</td><td>1</td><td>749.99</td><td>749.99</td><td>North America</td><td>Credit Card</td></tr><tr><td>10212</td><td>2024-07-30</td><td>Home Appliances</td><td>Keurig K-Elite Coffee Maker</td><td>2</td><td>169.99</td><td>339.98</td><td>Europe</td><td>PayPal</td></tr><tr><td>10213</td><td>2024-07-31</td><td>Clothing</td><td>Uniqlo Airism Seamless Boxer Briefs</td><td>4</td><td>9.9</td><td>39.6</td><td>Asia</td><td>Debit Card</td></tr><tr><td>10214</td><td>2024-08-01</td><td>Books</td><td>The Girl with the Dragon Tattoo by Stieg Larsson</td><td>3</td><td>10.99</td><td>32.97</td><td>North America</td><td>Credit Card</td></tr><tr><td>10215</td><td>2024-08-02</td><td>Beauty Products</td><td>L'Occitane Shea Butter Hand Cream</td><td>2</td><td>29.0</td><td>58.0</td><td>Europe</td><td>PayPal</td></tr><tr><td>10216</td><td>2024-08-03</td><td>Sports</td><td>YETI Tundra 65 Cooler</td><td>1</td><td>349.99</td><td>349.99</td><td>Asia</td><td>Credit Card</td></tr><tr><td>10217</td><td>2024-08-04</td><td>Electronics</td><td>Apple MacBook Pro 16-inch</td><td>1</td><td>2399.0</td><td>2399.0</td><td>North America</td><td>Credit Card</td></tr><tr><td>10218</td><td>2024-08-05</td><td>Home Appliances</td><td>iRobot Braava Jet M6</td><td>1</td><td>449.99</td><td>449.99</td><td>Europe</td><td>PayPal</td></tr><tr><td>10219</td><td>2024-08-06</td><td>Clothing</td><td>Champion Reverse Weave Hoodie</td><td>3</td><td>49.99</td><td>149.97</td><td>Asia</td><td>Debit Card</td></tr><tr><td>10220</td><td>2024-08-07</td><td>Books</td><td>The Nightingale by Kristin Hannah</td><td>2</td><td>12.99</td><td>25.98</td><td>North America</td><td>Credit Card</td></tr><tr><td>10221</td><td>2024-08-08</td><td>Beauty Products</td><td>Tarte Shape Tape Concealer</td><td>1</td><td>27.0</td><td>27.0</td><td>Europe</td><td>PayPal</td></tr><tr><td>10222</td><td>2024-08-09</td><td>Sports</td><td>Garmin Forerunner 945</td><td>1</td><td>599.99</td><td>599.99</td><td>Asia</td><td>Credit Card</td></tr><tr><td>10223</td><td>2024-08-10</td><td>Electronics</td><td>Amazon Echo Dot (4th Gen)</td><td>4</td><td>49.99</td><td>199.96</td><td>North America</td><td>Credit Card</td></tr><tr><td>10224</td><td>2024-08-11</td><td>Home Appliances</td><td>Philips Sonicare DiamondClean Toothbrush</td><td>2</td><td>229.99</td><td>459.98</td><td>Europe</td><td>PayPal</td></tr><tr><td>10225</td><td>2024-08-12</td><td>Clothing</td><td>Old Navy Mid-Rise Rockstar Super Skinny Jeans</td><td>2</td><td>44.99</td><td>89.98</td><td>Asia</td><td>Debit Card</td></tr><tr><td>10226</td><td>2024-08-13</td><td>Books</td><td>The Silent Patient by Alex Michaelides</td><td>3</td><td>26.99</td><td>80.97</td><td>North America</td><td>Credit Card</td></tr><tr><td>10227</td><td>2024-08-14</td><td>Beauty Products</td><td>The Ordinary Caffeine Solution 5% + EGCG</td><td>1</td><td>6.7</td><td>6.7</td><td>Europe</td><td>PayPal</td></tr><tr><td>10228</td><td>2024-08-15</td><td>Sports</td><td>Fitbit Luxe</td><td>2</td><td>149.95</td><td>299.9</td><td>Asia</td><td>Credit Card</td></tr><tr><td>10229</td><td>2024-08-16</td><td>Electronics</td><td>Google Nest Wifi Router</td><td>1</td><td>169.0</td><td>169.0</td><td>North America</td><td>Credit Card</td></tr><tr><td>10230</td><td>2024-08-17</td><td>Home Appliances</td><td>Anova Precision Oven</td><td>1</td><td>599.0</td><td>599.0</td><td>Europe</td><td>PayPal</td></tr><tr><td>10231</td><td>2024-08-18</td><td>Clothing</td><td>Adidas Originals Trefoil Hoodie</td><td>4</td><td>64.99</td><td>259.96</td><td>Asia</td><td>Debit Card</td></tr><tr><td>10232</td><td>2024-08-19</td><td>Books</td><td>Dune by Frank Herbert</td><td>2</td><td>9.99</td><td>19.98</td><td>North America</td><td>Credit Card</td></tr><tr><td>10233</td><td>2024-08-20</td><td>Beauty Products</td><td>Fresh Sugar Lip Treatment</td><td>1</td><td>24.0</td><td>24.0</td><td>Europe</td><td>PayPal</td></tr><tr><td>10234</td><td>2024-08-21</td><td>Sports</td><td>Hydro Flask Standard Mouth Water Bottle</td><td>3</td><td>32.95</td><td>98.85</td><td>Asia</td><td>Credit Card</td></tr><tr><td>10235</td><td>2024-08-22</td><td>Electronics</td><td>Bose QuietComfort 35 II Wireless Headphones</td><td>1</td><td>299.0</td><td>299.0</td><td>North America</td><td>Credit Card</td></tr><tr><td>10236</td><td>2024-08-23</td><td>Home Appliances</td><td>Nespresso Vertuo Next Coffee and Espresso Maker</td><td>1</td><td>159.99</td><td>159.99</td><td>Europe</td><td>PayPal</td></tr><tr><td>10237</td><td>2024-08-24</td><td>Clothing</td><td>Nike Air Force 1 Sneakers</td><td>3</td><td>90.0</td><td>270.0</td><td>Asia</td><td>Debit Card</td></tr><tr><td>10238</td><td>2024-08-25</td><td>Books</td><td>The Handmaid's Tale by Margaret Atwood</td><td>3</td><td>10.99</td><td>32.97</td><td>North America</td><td>Credit Card</td></tr><tr><td>10239</td><td>2024-08-26</td><td>Beauty Products</td><td>Sunday Riley Luna Sleeping Night Oil</td><td>1</td><td>55.0</td><td>55.0</td><td>Europe</td><td>PayPal</td></tr><tr><td>10240</td><td>2024-08-27</td><td>Sports</td><td>Yeti Rambler 20 oz Tumbler</td><td>2</td><td>29.99</td><td>59.98</td><td>Asia</td><td>Credit Card</td></tr></tbody></table></div>"
      ]
     },
     "metadata": {
      "application/vnd.databricks.v1+output": {
       "addedWidgets": {},
       "aggData": [],
       "aggError": "",
       "aggOverflow": false,
       "aggSchema": [],
       "aggSeriesLimitReached": false,
       "aggType": "",
       "arguments": {},
       "columnCustomDisplayInfos": {},
       "data": [
        [
         10001,
         "2024-01-01",
         "Electronics",
         "iPhone 14 Pro",
         2,
         999.99,
         1999.98,
         "North America",
         "Credit Card"
        ],
        [
         10002,
         "2024-01-02",
         "Home Appliances",
         "Dyson V11 Vacuum",
         1,
         499.99,
         499.99,
         "Europe",
         "PayPal"
        ],
        [
         10003,
         "2024-01-03",
         "Clothing",
         "Levi's 501 Jeans",
         3,
         69.99,
         209.97,
         "Asia",
         "Debit Card"
        ],
        [
         10004,
         "2024-01-04",
         "Books",
         "The Da Vinci Code",
         4,
         15.99,
         63.96,
         "North America",
         "Credit Card"
        ],
        [
         10005,
         "2024-01-05",
         "Beauty Products",
         "Neutrogena Skincare Set",
         1,
         89.99,
         89.99,
         "Europe",
         "PayPal"
        ],
        [
         10006,
         "2024-01-06",
         "Sports",
         "Wilson Evolution Basketball",
         5,
         29.99,
         149.95,
         "Asia",
         "Credit Card"
        ],
        [
         10007,
         "2024-01-07",
         "Electronics",
         "MacBook Pro 16-inch",
         1,
         2499.99,
         2499.99,
         "North America",
         "Credit Card"
        ],
        [
         10008,
         "2024-01-08",
         "Home Appliances",
         "Blueair Classic 480i",
         2,
         599.99,
         1199.98,
         "Europe",
         "PayPal"
        ],
        [
         10009,
         "2024-01-09",
         "Clothing",
         "Nike Air Force 1",
         6,
         89.99,
         539.94,
         "Asia",
         "Debit Card"
        ],
        [
         10010,
         "2024-01-10",
         "Books",
         "Dune by Frank Herbert",
         2,
         25.99,
         51.98,
         "North America",
         "Credit Card"
        ],
        [
         10011,
         "2024-01-11",
         "Beauty Products",
         "Chanel No. 5 Perfume",
         1,
         129.99,
         129.99,
         "Europe",
         "PayPal"
        ],
        [
         10012,
         "2024-01-12",
         "Sports",
         "Babolat Pure Drive Tennis Racket",
         3,
         199.99,
         599.97,
         "Asia",
         "Credit Card"
        ],
        [
         10013,
         "2024-01-13",
         "Electronics",
         "Samsung Galaxy Tab S8",
         2,
         749.99,
         1499.98,
         "North America",
         "Credit Card"
        ],
        [
         10014,
         "2024-01-14",
         "Home Appliances",
         "Keurig K-Elite Coffee Maker",
         1,
         189.99,
         189.99,
         "Europe",
         "PayPal"
        ],
        [
         10015,
         "2024-01-15",
         "Clothing",
         "North Face Down Jacket",
         2,
         249.99,
         499.98,
         "Asia",
         "Debit Card"
        ],
        [
         10016,
         "2024-01-16",
         "Books",
         "Salt, Fat, Acid, Heat by Samin Nosrat",
         3,
         35.99,
         107.97,
         "North America",
         "Credit Card"
        ],
        [
         10017,
         "2024-01-17",
         "Beauty Products",
         "Dyson Supersonic Hair Dryer",
         1,
         399.99,
         399.99,
         "Europe",
         "PayPal"
        ],
        [
         10018,
         "2024-01-18",
         "Sports",
         "Manduka PRO Yoga Mat",
         4,
         119.99,
         479.96,
         "Asia",
         "Credit Card"
        ],
        [
         10019,
         "2024-01-19",
         "Electronics",
         "Garmin Forerunner 945",
         2,
         499.99,
         999.98,
         "North America",
         "Credit Card"
        ],
        [
         10020,
         "2024-01-20",
         "Home Appliances",
         "Ninja Professional Blender",
         1,
         99.99,
         99.99,
         "Europe",
         "PayPal"
        ],
        [
         10021,
         "2024-01-21",
         "Clothing",
         "Zara Summer Dress",
         3,
         59.99,
         179.97,
         "Asia",
         "Debit Card"
        ],
        [
         10022,
         "2024-01-22",
         "Books",
         "Gone Girl by Gillian Flynn",
         2,
         22.99,
         45.98,
         "North America",
         "Credit Card"
        ],
        [
         10023,
         "2024-01-23",
         "Beauty Products",
         "Olay Regenerist Face Cream",
         1,
         49.99,
         49.99,
         "Europe",
         "PayPal"
        ],
        [
         10024,
         "2024-01-24",
         "Sports",
         "Adidas FIFA World Cup Football",
         3,
         29.99,
         89.97,
         "Asia",
         "Credit Card"
        ],
        [
         10025,
         "2024-01-25",
         "Electronics",
         "Bose QuietComfort 35 Headphones",
         1,
         299.99,
         299.99,
         "North America",
         "Credit Card"
        ],
        [
         10026,
         "2024-01-26",
         "Home Appliances",
         "Panasonic NN-SN966S Microwave",
         1,
         179.99,
         179.99,
         "Europe",
         "PayPal"
        ],
        [
         10027,
         "2024-01-27",
         "Clothing",
         "Adidas Ultraboost Shoes",
         2,
         179.99,
         359.98,
         "Asia",
         "Debit Card"
        ],
        [
         10028,
         "2024-01-28",
         "Books",
         "Pride and Prejudice by Jane Austen",
         3,
         12.99,
         38.97,
         "North America",
         "Credit Card"
        ],
        [
         10029,
         "2024-01-29",
         "Beauty Products",
         "MAC Ruby Woo Lipstick",
         1,
         29.99,
         29.99,
         "Europe",
         "PayPal"
        ],
        [
         10030,
         "2024-01-30",
         "Sports",
         "Nike Air Zoom Pegasus 37",
         2,
         129.99,
         259.98,
         "Asia",
         "Credit Card"
        ],
        [
         10031,
         "2024-01-31",
         "Electronics",
         "Sony WH-1000XM4 Headphones",
         2,
         349.99,
         699.98,
         "North America",
         "Credit Card"
        ],
        [
         10032,
         "2024-02-01",
         "Home Appliances",
         "Instant Pot Duo",
         3,
         89.99,
         269.97,
         "Europe",
         "PayPal"
        ],
        [
         10033,
         "2024-02-02",
         "Clothing",
         "Under Armour HeatGear T-Shirt",
         5,
         29.99,
         149.95,
         "Asia",
         "Debit Card"
        ],
        [
         10034,
         "2024-02-03",
         "Books",
         "1984 by George Orwell",
         4,
         19.99,
         79.96,
         "North America",
         "Credit Card"
        ],
        [
         10035,
         "2024-02-04",
         "Beauty Products",
         "L'Oreal Revitalift Serum",
         2,
         39.99,
         79.98,
         "Europe",
         "PayPal"
        ],
        [
         10036,
         "2024-02-05",
         "Sports",
         "Peloton Bike",
         1,
         1895.0,
         1895.0,
         "Asia",
         "Credit Card"
        ],
        [
         10037,
         "2024-02-06",
         "Electronics",
         "Apple Watch Series 8",
         3,
         399.99,
         1199.97,
         "North America",
         "Credit Card"
        ],
        [
         10038,
         "2024-02-07",
         "Home Appliances",
         "Roomba i7+",
         2,
         799.99,
         1599.98,
         "Europe",
         "PayPal"
        ],
        [
         10039,
         "2024-02-08",
         "Clothing",
         "Columbia Fleece Jacket",
         4,
         59.99,
         239.96,
         "Asia",
         "Debit Card"
        ],
        [
         10040,
         "2024-02-09",
         "Books",
         "Harry Potter and the Sorcerer's Stone",
         3,
         24.99,
         74.97,
         "North America",
         "Credit Card"
        ],
        [
         10041,
         "2024-02-10",
         "Beauty Products",
         "Estee Lauder Advanced Night Repair",
         1,
         105.0,
         105.0,
         "Europe",
         "PayPal"
        ],
        [
         10042,
         "2024-02-11",
         "Sports",
         "Fitbit Charge 5",
         2,
         129.99,
         259.98,
         "Asia",
         "Credit Card"
        ],
        [
         10043,
         "2024-02-12",
         "Electronics",
         "GoPro HERO10 Black",
         3,
         399.99,
         1199.97,
         "North America",
         "Credit Card"
        ],
        [
         10044,
         "2024-02-13",
         "Home Appliances",
         "Nespresso VertuoPlus",
         1,
         199.99,
         199.99,
         "Europe",
         "PayPal"
        ],
        [
         10045,
         "2024-02-14",
         "Clothing",
         "Patagonia Better Sweater",
         2,
         139.99,
         279.98,
         "Asia",
         "Debit Card"
        ],
        [
         10046,
         "2024-02-15",
         "Books",
         "Becoming by Michelle Obama",
         4,
         32.5,
         130.0,
         "North America",
         "Credit Card"
        ],
        [
         10047,
         "2024-02-16",
         "Beauty Products",
         "Clinique Moisture Surge",
         1,
         52.0,
         52.0,
         "Europe",
         "PayPal"
        ],
        [
         10048,
         "2024-02-17",
         "Sports",
         "Yeti Rambler Tumbler",
         6,
         39.99,
         239.94,
         "Asia",
         "Credit Card"
        ],
        [
         10049,
         "2024-02-18",
         "Electronics",
         "Kindle Paperwhite",
         2,
         129.99,
         259.98,
         "North America",
         "Credit Card"
        ],
        [
         10050,
         "2024-02-19",
         "Home Appliances",
         "Breville Smart Oven",
         1,
         299.99,
         299.99,
         "Europe",
         "PayPal"
        ],
        [
         10051,
         "2024-02-20",
         "Clothing",
         "Ray-Ban Aviator Sunglasses",
         3,
         154.99,
         464.97,
         "Asia",
         "Debit Card"
        ],
        [
         10052,
         "2024-02-21",
         "Books",
         "The Silent Patient by Alex Michaelides",
         2,
         26.99,
         53.98,
         "North America",
         "Credit Card"
        ],
        [
         10053,
         "2024-02-22",
         "Beauty Products",
         "Shiseido Ultimate Sun Protector",
         1,
         49.0,
         49.0,
         "Europe",
         "PayPal"
        ],
        [
         10054,
         "2024-02-23",
         "Sports",
         "Titleist Pro V1 Golf Balls",
         5,
         49.99,
         249.95,
         "Asia",
         "Credit Card"
        ],
        [
         10055,
         "2024-02-24",
         "Electronics",
         "Anker PowerCore Portable Charger",
         4,
         59.99,
         239.96,
         "North America",
         "Credit Card"
        ],
        [
         10056,
         "2024-02-25",
         "Home Appliances",
         "KitchenAid Artisan Stand Mixer",
         1,
         499.99,
         499.99,
         "Europe",
         "PayPal"
        ],
        [
         10057,
         "2024-02-26",
         "Clothing",
         "Calvin Klein Boxer Briefs",
         5,
         29.99,
         149.95,
         "Asia",
         "Debit Card"
        ],
        [
         10058,
         "2024-02-27",
         "Books",
         "Educated by Tara Westover",
         3,
         28.0,
         84.0,
         "North America",
         "Credit Card"
        ],
        [
         10059,
         "2024-02-28",
         "Beauty Products",
         "Anastasia Beverly Hills Brow Wiz",
         2,
         23.0,
         46.0,
         "Europe",
         "PayPal"
        ],
        [
         10060,
         "2024-02-29",
         "Sports",
         "Hyperice Hypervolt Massager",
         1,
         349.0,
         349.0,
         "Asia",
         "Credit Card"
        ],
        [
         10061,
         "2024-03-01",
         "Electronics",
         "Nintendo Switch",
         3,
         299.99,
         899.97,
         "North America",
         "Credit Card"
        ],
        [
         10062,
         "2024-03-02",
         "Home Appliances",
         "Philips Airfryer XXL",
         2,
         199.99,
         399.98,
         "Europe",
         "PayPal"
        ],
        [
         10063,
         "2024-03-03",
         "Clothing",
         "Hanes ComfortSoft T-Shirt",
         10,
         9.99,
         99.9,
         "Asia",
         "Debit Card"
        ],
        [
         10064,
         "2024-03-04",
         "Books",
         "Where the Crawdads Sing by Delia Owens",
         4,
         18.99,
         75.96,
         "North America",
         "Credit Card"
        ],
        [
         10065,
         "2024-03-05",
         "Beauty Products",
         "Lancome La Vie Est Belle",
         1,
         102.0,
         102.0,
         "Europe",
         "PayPal"
        ],
        [
         10066,
         "2024-03-06",
         "Sports",
         "Garmin Edge 530",
         2,
         299.99,
         599.98,
         "Asia",
         "Credit Card"
        ],
        [
         10067,
         "2024-03-07",
         "Electronics",
         "Samsung QLED 4K TV",
         1,
         1199.99,
         1199.99,
         "North America",
         "Credit Card"
        ],
        [
         10068,
         "2024-03-08",
         "Home Appliances",
         "Eufy RoboVac 11S",
         3,
         219.99,
         659.97,
         "Europe",
         "PayPal"
        ],
        [
         10069,
         "2024-03-09",
         "Clothing",
         "Puma Suede Classic Sneakers",
         4,
         59.99,
         239.96,
         "Asia",
         "Debit Card"
        ],
        [
         10070,
         "2024-03-10",
         "Books",
         "The Great Gatsby by F. Scott Fitzgerald",
         2,
         10.99,
         21.98,
         "North America",
         "Credit Card"
        ],
        [
         10071,
         "2024-03-11",
         "Beauty Products",
         "Drunk Elephant C-Firma Day Serum",
         1,
         78.0,
         78.0,
         "Europe",
         "PayPal"
        ],
        [
         10072,
         "2024-03-12",
         "Sports",
         "Nike Metcon 6",
         3,
         129.99,
         389.97,
         "Asia",
         "Credit Card"
        ],
        [
         10073,
         "2024-03-13",
         "Electronics",
         "HP Spectre x360 Laptop",
         1,
         1599.99,
         1599.99,
         "North America",
         "Credit Card"
        ],
        [
         10074,
         "2024-03-14",
         "Home Appliances",
         "De'Longhi Magnifica Espresso Machine",
         1,
         899.99,
         899.99,
         "Europe",
         "PayPal"
        ],
        [
         10075,
         "2024-03-15",
         "Clothing",
         "Tommy Hilfiger Polo Shirt",
         5,
         49.99,
         249.95,
         "Asia",
         "Debit Card"
        ],
        [
         10076,
         "2024-03-16",
         "Books",
         "To Kill a Mockingbird by Harper Lee",
         4,
         14.99,
         59.96,
         "North America",
         "Credit Card"
        ],
        [
         10077,
         "2024-03-17",
         "Beauty Products",
         "Glossier Boy Brow",
         2,
         16.0,
         32.0,
         "Europe",
         "PayPal"
        ],
        [
         10078,
         "2024-03-18",
         "Sports",
         "Rogue Fitness Kettlebell",
         3,
         69.99,
         209.97,
         "Asia",
         "Credit Card"
        ],
        [
         10079,
         "2024-03-19",
         "Electronics",
         "Apple AirPods Pro",
         2,
         249.99,
         499.98,
         "North America",
         "Credit Card"
        ],
        [
         10080,
         "2024-03-20",
         "Home Appliances",
         "Dyson Pure Cool Link",
         1,
         499.99,
         499.99,
         "Europe",
         "PayPal"
        ],
        [
         10081,
         "2024-03-21",
         "Clothing",
         "Levi's Trucker Jacket",
         2,
         89.99,
         179.98,
         "Asia",
         "Debit Card"
        ],
        [
         10082,
         "2024-03-22",
         "Books",
         "The Hobbit by J.R.R. Tolkien",
         3,
         12.99,
         38.97,
         "North America",
         "Credit Card"
        ],
        [
         10083,
         "2024-03-23",
         "Beauty Products",
         "Charlotte Tilbury Magic Cream",
         1,
         100.0,
         100.0,
         "Europe",
         "PayPal"
        ],
        [
         10084,
         "2024-03-24",
         "Sports",
         "Spalding NBA Street Basketball",
         6,
         24.99,
         149.94,
         "Asia",
         "Credit Card"
        ],
        [
         10085,
         "2024-03-25",
         "Electronics",
         "Ring Video Doorbell",
         1,
         99.99,
         99.99,
         "North America",
         "Credit Card"
        ],
        [
         10086,
         "2024-03-26",
         "Home Appliances",
         "LG OLED TV",
         2,
         1299.99,
         2599.98,
         "Europe",
         "PayPal"
        ],
        [
         10087,
         "2024-03-27",
         "Clothing",
         "Uniqlo Ultra Light Down Jacket",
         3,
         79.99,
         239.97,
         "Asia",
         "Debit Card"
        ],
        [
         10088,
         "2024-03-28",
         "Books",
         "The Catcher in the Rye by J.D. Salinger",
         4,
         13.99,
         55.96,
         "North America",
         "Credit Card"
        ],
        [
         10089,
         "2024-03-29",
         "Beauty Products",
         "Sunday Riley Good Genes",
         1,
         105.0,
         105.0,
         "Europe",
         "PayPal"
        ],
        [
         10090,
         "2024-03-30",
         "Sports",
         "On Running Cloud Shoes",
         2,
         129.99,
         259.98,
         "Asia",
         "Credit Card"
        ],
        [
         10091,
         "2024-03-31",
         "Electronics",
         "Logitech MX Master 3 Mouse",
         2,
         99.99,
         199.98,
         "North America",
         "Credit Card"
        ],
        [
         10092,
         "2024-04-01",
         "Home Appliances",
         "Instant Pot Duo Crisp",
         1,
         179.99,
         179.99,
         "Europe",
         "PayPal"
        ],
        [
         10093,
         "2024-04-02",
         "Clothing",
         "Adidas Originals Superstar Sneakers",
         4,
         79.99,
         319.96,
         "Asia",
         "Debit Card"
        ],
        [
         10094,
         "2024-04-03",
         "Books",
         "The Alchemist by Paulo Coelho",
         3,
         14.99,
         44.97,
         "North America",
         "Credit Card"
        ],
        [
         10095,
         "2024-04-04",
         "Beauty Products",
         "Tatcha The Water Cream",
         1,
         68.0,
         68.0,
         "Europe",
         "PayPal"
        ],
        [
         10096,
         "2024-04-05",
         "Sports",
         "Garmin Fenix 6X Pro",
         1,
         999.99,
         999.99,
         "Asia",
         "Credit Card"
        ],
        [
         10097,
         "2024-04-06",
         "Electronics",
         "Bose SoundLink Revolve+ Speaker",
         3,
         299.99,
         899.97,
         "North America",
         "Credit Card"
        ],
        [
         10098,
         "2024-04-07",
         "Home Appliances",
         "Vitamix Explorian Blender",
         1,
         349.99,
         349.99,
         "Europe",
         "PayPal"
        ],
        [
         10099,
         "2024-04-08",
         "Clothing",
         "Gap Essential Crewneck T-Shirt",
         6,
         19.99,
         119.94,
         "Asia",
         "Debit Card"
        ],
        [
         10100,
         "2024-04-09",
         "Books",
         "The Power of Now by Eckhart Tolle",
         2,
         12.99,
         25.98,
         "North America",
         "Credit Card"
        ],
        [
         10101,
         "2024-04-10",
         "Beauty Products",
         "Kiehl's Midnight Recovery Concentrate",
         1,
         82.0,
         82.0,
         "Europe",
         "PayPal"
        ],
        [
         10102,
         "2024-04-11",
         "Sports",
         "Under Armour HOVR Sonic 4 Shoes",
         2,
         109.99,
         219.98,
         "Asia",
         "Credit Card"
        ],
        [
         10103,
         "2024-04-12",
         "Electronics",
         "Canon EOS R5 Camera",
         1,
         3899.99,
         3899.99,
         "North America",
         "Credit Card"
        ],
        [
         10104,
         "2024-04-13",
         "Home Appliances",
         "Shark IQ Robot Vacuum",
         2,
         349.99,
         699.98,
         "Europe",
         "PayPal"
        ],
        [
         10105,
         "2024-04-14",
         "Clothing",
         "H&M Slim Fit Jeans",
         3,
         39.99,
         119.97,
         "Asia",
         "Debit Card"
        ],
        [
         10106,
         "2024-04-15",
         "Books",
         "The Girl on the Train by Paula Hawkins",
         4,
         10.99,
         43.96,
         "North America",
         "Credit Card"
        ],
        [
         10107,
         "2024-04-16",
         "Beauty Products",
         "The Ordinary Niacinamide Serum",
         1,
         6.5,
         6.5,
         "Europe",
         "PayPal"
        ],
        [
         10108,
         "2024-04-17",
         "Sports",
         "Bowflex SelectTech 552 Dumbbells",
         1,
         399.99,
         399.99,
         "Asia",
         "Credit Card"
        ],
        [
         10109,
         "2024-04-18",
         "Electronics",
         "Google Nest Hub Max",
         2,
         229.99,
         459.98,
         "North America",
         "Credit Card"
        ],
        [
         10110,
         "2024-04-19",
         "Home Appliances",
         "Cuisinart Griddler Deluxe",
         1,
         159.99,
         159.99,
         "Europe",
         "PayPal"
        ],
        [
         10111,
         "2024-04-20",
         "Clothing",
         "Old Navy Relaxed-Fit T-Shirt",
         4,
         14.99,
         59.96,
         "Asia",
         "Debit Card"
        ],
        [
         10112,
         "2024-04-21",
         "Books",
         "Sapiens: A Brief History of Humankind by Yuval Noah Harari",
         2,
         18.99,
         37.98,
         "North America",
         "Credit Card"
        ],
        [
         10113,
         "2024-04-22",
         "Beauty Products",
         "Biore UV Aqua Rich Watery Essence Sunscreen",
         1,
         15.0,
         15.0,
         "Europe",
         "PayPal"
        ],
        [
         10114,
         "2024-04-23",
         "Sports",
         "Fitbit Versa 3",
         3,
         229.95,
         689.85,
         "Asia",
         "Credit Card"
        ],
        [
         10115,
         "2024-04-24",
         "Electronics",
         "Amazon Echo Show 10",
         1,
         249.99,
         249.99,
         "North America",
         "Credit Card"
        ],
        [
         10116,
         "2024-04-25",
         "Home Appliances",
         "Breville Smart Grill",
         2,
         299.95,
         599.9,
         "Europe",
         "PayPal"
        ],
        [
         10117,
         "2024-04-26",
         "Clothing",
         "Gap High Rise Skinny Jeans",
         3,
         49.99,
         149.97,
         "Asia",
         "Debit Card"
        ],
        [
         10118,
         "2024-04-27",
         "Books",
         "Atomic Habits by James Clear",
         4,
         16.99,
         67.96,
         "North America",
         "Credit Card"
        ],
        [
         10119,
         "2024-04-28",
         "Beauty Products",
         "CeraVe Hydrating Facial Cleanser",
         2,
         14.99,
         29.98,
         "Europe",
         "PayPal"
        ],
        [
         10120,
         "2024-04-29",
         "Sports",
         "YETI Hopper Flip Portable Cooler",
         1,
         249.99,
         249.99,
         "Asia",
         "Credit Card"
        ],
        [
         10121,
         "2024-04-30",
         "Electronics",
         "Apple iPad Air",
         2,
         599.99,
         1199.98,
         "North America",
         "Credit Card"
        ],
        [
         10122,
         "2024-05-01",
         "Home Appliances",
         "Hamilton Beach FlexBrew Coffee Maker",
         1,
         89.99,
         89.99,
         "Europe",
         "PayPal"
        ],
        [
         10123,
         "2024-05-02",
         "Clothing",
         "Forever 21 Graphic Tee",
         5,
         12.99,
         64.95,
         "Asia",
         "Debit Card"
        ],
        [
         10124,
         "2024-05-03",
         "Books",
         "The Subtle Art of Not Giving a F*ck by Mark Manson",
         3,
         14.99,
         44.97,
         "North America",
         "Credit Card"
        ],
        [
         10125,
         "2024-05-04",
         "Beauty Products",
         "NARS Radiant Creamy Concealer",
         1,
         30.0,
         30.0,
         "Europe",
         "PayPal"
        ],
        [
         10126,
         "2024-05-05",
         "Sports",
         "Yeti Roadie 24 Cooler",
         1,
         199.99,
         199.99,
         "Asia",
         "Credit Card"
        ],
        [
         10127,
         "2024-05-06",
         "Electronics",
         "Sony PlayStation 5",
         1,
         499.99,
         499.99,
         "North America",
         "Credit Card"
        ],
        [
         10128,
         "2024-05-07",
         "Home Appliances",
         "Dyson Supersonic Hair Dryer",
         2,
         399.99,
         799.98,
         "Europe",
         "PayPal"
        ],
        [
         10129,
         "2024-05-08",
         "Clothing",
         "Lululemon Align Leggings",
         3,
         98.0,
         294.0,
         "Asia",
         "Debit Card"
        ],
        [
         10130,
         "2024-05-09",
         "Books",
         "The Four Agreements by Don Miguel Ruiz",
         2,
         8.99,
         17.98,
         "North America",
         "Credit Card"
        ],
        [
         10131,
         "2024-05-10",
         "Beauty Products",
         "Fenty Beauty Killawatt Highlighter",
         1,
         36.0,
         36.0,
         "Europe",
         "PayPal"
        ],
        [
         10132,
         "2024-05-11",
         "Sports",
         "Hydro Flask Wide Mouth Water Bottle",
         4,
         39.95,
         159.8,
         "Asia",
         "Credit Card"
        ],
        [
         10133,
         "2024-05-12",
         "Electronics",
         "Microsoft Surface Laptop 4",
         1,
         1299.99,
         1299.99,
         "North America",
         "Credit Card"
        ],
        [
         10134,
         "2024-05-13",
         "Home Appliances",
         "Keurig K-Mini Coffee Maker",
         2,
         79.99,
         159.98,
         "Europe",
         "PayPal"
        ],
        [
         10135,
         "2024-05-14",
         "Clothing",
         "Gap Crewneck Sweatshirt",
         4,
         34.99,
         139.96,
         "Asia",
         "Debit Card"
        ],
        [
         10136,
         "2024-05-15",
         "Books",
         "Think and Grow Rich by Napoleon Hill",
         3,
         9.99,
         29.97,
         "North America",
         "Credit Card"
        ],
        [
         10137,
         "2024-05-16",
         "Beauty Products",
         "The Ordinary Hyaluronic Acid Serum",
         1,
         6.8,
         6.8,
         "Europe",
         "PayPal"
        ],
        [
         10138,
         "2024-05-17",
         "Sports",
         "Fitbit Inspire 2",
         2,
         99.95,
         199.9,
         "Asia",
         "Credit Card"
        ],
        [
         10139,
         "2024-05-18",
         "Electronics",
         "Samsung Odyssey G9 Gaming Monitor",
         1,
         1499.99,
         1499.99,
         "North America",
         "Credit Card"
        ],
        [
         10140,
         "2024-05-19",
         "Home Appliances",
         "Instant Pot Ultra",
         1,
         139.99,
         139.99,
         "Europe",
         "PayPal"
        ],
        [
         10141,
         "2024-05-20",
         "Clothing",
         "Adidas Essential Track Pants",
         3,
         44.99,
         134.97,
         "Asia",
         "Debit Card"
        ],
        [
         10142,
         "2024-05-21",
         "Books",
         "The Power of Habit by Charles Duhigg",
         2,
         11.99,
         23.98,
         "North America",
         "Credit Card"
        ],
        [
         10143,
         "2024-05-22",
         "Beauty Products",
         "Clinique Dramatically Different Moisturizing Lotion",
         1,
         29.5,
         29.5,
         "Europe",
         "PayPal"
        ],
        [
         10144,
         "2024-05-23",
         "Sports",
         "YETI Tundra 45 Cooler",
         1,
         299.99,
         299.99,
         "Asia",
         "Credit Card"
        ],
        [
         10145,
         "2024-05-24",
         "Electronics",
         "Apple AirPods Max",
         1,
         549.0,
         549.0,
         "North America",
         "Credit Card"
        ],
        [
         10146,
         "2024-05-25",
         "Home Appliances",
         "Cuisinart Coffee Center",
         2,
         199.95,
         399.9,
         "Europe",
         "PayPal"
        ],
        [
         10147,
         "2024-05-26",
         "Clothing",
         "Levi's Sherpa Trucker Jacket",
         2,
         98.0,
         196.0,
         "Asia",
         "Debit Card"
        ],
        [
         10148,
         "2024-05-27",
         "Books",
         "The Outsiders by S.E. Hinton",
         3,
         10.99,
         32.97,
         "North America",
         "Credit Card"
        ],
        [
         10149,
         "2024-05-28",
         "Beauty Products",
         "Laneige Water Sleeping Mask",
         1,
         25.0,
         25.0,
         "Europe",
         "PayPal"
        ],
        [
         10150,
         "2024-05-29",
         "Sports",
         "Bose SoundSport Wireless Earbuds",
         2,
         149.99,
         299.98,
         "Asia",
         "Credit Card"
        ],
        [
         10151,
         "2024-05-30",
         "Electronics",
         "Sony WH-1000XM4 Headphones",
         1,
         349.99,
         349.99,
         "North America",
         "Credit Card"
        ],
        [
         10152,
         "2024-05-31",
         "Home Appliances",
         "Ninja Foodi Pressure Cooker",
         2,
         199.99,
         399.98,
         "Europe",
         "PayPal"
        ],
        [
         10153,
         "2024-06-01",
         "Clothing",
         "Nike Sportswear Club Fleece Hoodie",
         3,
         54.99,
         164.97,
         "Asia",
         "Debit Card"
        ],
        [
         10154,
         "2024-06-02",
         "Books",
         "The Night Circus by Erin Morgenstern",
         2,
         16.99,
         33.98,
         "North America",
         "Credit Card"
        ],
        [
         10155,
         "2024-06-03",
         "Beauty Products",
         "GlamGlow Supermud Clearing Treatment",
         1,
         59.0,
         59.0,
         "Europe",
         "PayPal"
        ],
        [
         10156,
         "2024-06-04",
         "Sports",
         "Garmin Forerunner 245",
         1,
         299.99,
         299.99,
         "Asia",
         "Credit Card"
        ],
        [
         10157,
         "2024-06-05",
         "Electronics",
         "Google Pixel 6 Pro",
         1,
         899.99,
         899.99,
         "North America",
         "Credit Card"
        ],
        [
         10158,
         "2024-06-06",
         "Home Appliances",
         "Breville Nespresso Creatista Plus",
         1,
         499.95,
         499.95,
         "Europe",
         "PayPal"
        ],
        [
         10159,
         "2024-06-07",
         "Clothing",
         "Under Armour Tech 2.0 T-Shirt",
         4,
         24.99,
         99.96,
         "Asia",
         "Debit Card"
        ],
        [
         10160,
         "2024-06-08",
         "Books",
         "The Art of War by Sun Tzu",
         3,
         7.99,
         23.97,
         "North America",
         "Credit Card"
        ],
        [
         10161,
         "2024-06-09",
         "Beauty Products",
         "Youth to the People Superfood Antioxidant Cleanser",
         1,
         36.0,
         36.0,
         "Europe",
         "PayPal"
        ],
        [
         10162,
         "2024-06-10",
         "Sports",
         "TriggerPoint GRID Foam Roller",
         2,
         34.99,
         69.98,
         "Asia",
         "Credit Card"
        ],
        [
         10163,
         "2024-06-11",
         "Electronics",
         "Apple MacBook Air",
         1,
         1199.99,
         1199.99,
         "North America",
         "Credit Card"
        ],
        [
         10164,
         "2024-06-12",
         "Home Appliances",
         "Cuisinart Custom 14-Cup Food Processor",
         1,
         199.99,
         199.99,
         "Europe",
         "PayPal"
        ],
        [
         10165,
         "2024-06-13",
         "Clothing",
         "Adidas 3-Stripes Shorts",
         5,
         29.99,
         149.95,
         "Asia",
         "Debit Card"
        ],
        [
         10166,
         "2024-06-14",
         "Books",
         "The Hunger Games by Suzanne Collins",
         4,
         8.99,
         35.96,
         "North America",
         "Credit Card"
        ],
        [
         10167,
         "2024-06-15",
         "Beauty Products",
         "Neutrogena Hydro Boost Water Gel",
         1,
         16.99,
         16.99,
         "Europe",
         "PayPal"
        ],
        [
         10168,
         "2024-06-16",
         "Sports",
         "Yeti Rambler Bottle",
         3,
         49.99,
         149.97,
         "Asia",
         "Credit Card"
        ],
        [
         10169,
         "2024-06-17",
         "Electronics",
         "Samsung Odyssey G7 Gaming Monitor",
         1,
         699.99,
         699.99,
         "North America",
         "Credit Card"
        ],
        [
         10170,
         "2024-06-18",
         "Home Appliances",
         "Instant Pot Duo Evo Plus",
         2,
         139.99,
         279.98,
         "Europe",
         "PayPal"
        ],
        [
         10171,
         "2024-06-19",
         "Clothing",
         "Nike Tempo Running Shorts",
         3,
         34.99,
         104.97,
         "Asia",
         "Debit Card"
        ],
        [
         10172,
         "2024-06-20",
         "Books",
         "The Girl with the Dragon Tattoo by Stieg Larsson",
         2,
         9.99,
         19.98,
         "North America",
         "Credit Card"
        ],
        [
         10173,
         "2024-06-21",
         "Beauty Products",
         "Paula's Choice Skin Perfecting 2% BHA Liquid Exfoliant",
         1,
         29.5,
         29.5,
         "Europe",
         "PayPal"
        ],
        [
         10174,
         "2024-06-22",
         "Sports",
         "Bowflex SelectTech 1090 Adjustable Dumbbells",
         1,
         699.99,
         699.99,
         "Asia",
         "Credit Card"
        ],
        [
         10175,
         "2024-06-23",
         "Electronics",
         "Amazon Fire TV Stick 4K",
         3,
         49.99,
         149.97,
         "North America",
         "Credit Card"
        ],
        [
         10176,
         "2024-06-24",
         "Home Appliances",
         "Crock-Pot 6-Quart Slow Cooker",
         2,
         49.99,
         99.98,
         "Europe",
         "PayPal"
        ],
        [
         10177,
         "2024-06-25",
         "Clothing",
         "Uniqlo Airism Mesh Boxer Briefs",
         4,
         14.9,
         59.6,
         "Asia",
         "Debit Card"
        ],
        [
         10178,
         "2024-06-26",
         "Books",
         "The Sun Also Rises by Ernest Hemingway",
         3,
         11.99,
         35.97,
         "North America",
         "Credit Card"
        ],
        [
         10179,
         "2024-06-27",
         "Beauty Products",
         "First Aid Beauty Ultra Repair Cream",
         2,
         34.0,
         68.0,
         "Europe",
         "PayPal"
        ],
        [
         10180,
         "2024-06-28",
         "Sports",
         "Oakley Holbrook Sunglasses",
         1,
         146.0,
         146.0,
         "Asia",
         "Credit Card"
        ],
        [
         10181,
         "2024-06-29",
         "Electronics",
         "Google Pixelbook Go",
         1,
         649.99,
         649.99,
         "North America",
         "Credit Card"
        ],
        [
         10182,
         "2024-06-30",
         "Home Appliances",
         "Dyson V8 Absolute",
         1,
         399.99,
         399.99,
         "Europe",
         "PayPal"
        ],
        [
         10183,
         "2024-07-01",
         "Clothing",
         "Levi's 511 Slim Fit Jeans",
         3,
         59.99,
         179.97,
         "Asia",
         "Debit Card"
        ],
        [
         10184,
         "2024-07-02",
         "Books",
         "The Martian by Andy Weir",
         2,
         12.99,
         25.98,
         "North America",
         "Credit Card"
        ],
        [
         10185,
         "2024-07-03",
         "Beauty Products",
         "La Mer Crème de la Mer Moisturizer",
         1,
         190.0,
         190.0,
         "Europe",
         "PayPal"
        ],
        [
         10186,
         "2024-07-04",
         "Sports",
         "Polar Vantage V2",
         1,
         499.95,
         499.95,
         "Asia",
         "Credit Card"
        ],
        [
         10187,
         "2024-07-05",
         "Electronics",
         "Sonos Beam Soundbar",
         1,
         399.0,
         399.0,
         "North America",
         "Credit Card"
        ],
        [
         10188,
         "2024-07-06",
         "Home Appliances",
         "Anova Precision Cooker",
         2,
         199.0,
         398.0,
         "Europe",
         "PayPal"
        ],
        [
         10189,
         "2024-07-07",
         "Clothing",
         "Nike Dri-FIT Training Shorts",
         4,
         34.99,
         139.96,
         "Asia",
         "Debit Card"
        ],
        [
         10190,
         "2024-07-08",
         "Books",
         "The Catcher in the Rye by J.D. Salinger",
         3,
         10.99,
         32.97,
         "North America",
         "Credit Card"
        ],
        [
         10191,
         "2024-07-09",
         "Beauty Products",
         "Glossier Cloud Paint",
         1,
         18.0,
         18.0,
         "Europe",
         "PayPal"
        ],
        [
         10192,
         "2024-07-10",
         "Sports",
         "TRX All-in-One Suspension Training System",
         1,
         169.95,
         169.95,
         "Asia",
         "Credit Card"
        ],
        [
         10193,
         "2024-07-11",
         "Electronics",
         "Logitech G Pro X Wireless Gaming Headset",
         1,
         199.99,
         199.99,
         "North America",
         "Credit Card"
        ],
        [
         10194,
         "2024-07-12",
         "Home Appliances",
         "Breville Smart Coffee Grinder Pro",
         1,
         199.95,
         199.95,
         "Europe",
         "PayPal"
        ],
        [
         10195,
         "2024-07-13",
         "Clothing",
         "Adidas Ultraboost Running Shoes",
         2,
         179.99,
         359.98,
         "Asia",
         "Debit Card"
        ],
        [
         10196,
         "2024-07-14",
         "Books",
         "The Road by Cormac McCarthy",
         2,
         11.99,
         23.98,
         "North America",
         "Credit Card"
        ],
        [
         10197,
         "2024-07-15",
         "Beauty Products",
         "Tom Ford Black Orchid Perfume",
         1,
         125.0,
         125.0,
         "Europe",
         "PayPal"
        ],
        [
         10198,
         "2024-07-16",
         "Sports",
         "GoPro HERO9 Black",
         1,
         449.99,
         449.99,
         "Asia",
         "Credit Card"
        ],
        [
         10199,
         "2024-07-17",
         "Electronics",
         "Apple TV 4K",
         2,
         179.0,
         358.0,
         "North America",
         "Credit Card"
        ],
        [
         10200,
         "2024-07-18",
         "Home Appliances",
         "Instant Pot Duo Nova",
         1,
         99.95,
         99.95,
         "Europe",
         "PayPal"
        ],
        [
         10201,
         "2024-07-19",
         "Clothing",
         "Gap 1969 Original Fit Jeans",
         3,
         59.99,
         179.97,
         "Asia",
         "Debit Card"
        ],
        [
         10202,
         "2024-07-20",
         "Books",
         "The Goldfinch by Donna Tartt",
         2,
         14.99,
         29.98,
         "North America",
         "Credit Card"
        ],
        [
         10203,
         "2024-07-21",
         "Beauty Products",
         "Dr. Jart+ Cicapair Tiger Grass Color Correcting Treatment",
         1,
         52.0,
         52.0,
         "Europe",
         "PayPal"
        ],
        [
         10204,
         "2024-07-22",
         "Sports",
         "Yeti Tundra Haul Portable Wheeled Cooler",
         1,
         399.99,
         399.99,
         "Asia",
         "Credit Card"
        ],
        [
         10205,
         "2024-07-23",
         "Electronics",
         "Samsung Galaxy Watch 4",
         1,
         299.99,
         299.99,
         "North America",
         "Credit Card"
        ],
        [
         10206,
         "2024-07-24",
         "Home Appliances",
         "KitchenAid Stand Mixer",
         1,
         379.99,
         379.99,
         "Europe",
         "PayPal"
        ],
        [
         10207,
         "2024-07-25",
         "Clothing",
         "Lululemon Wunder Under High-Rise Leggings",
         2,
         98.0,
         196.0,
         "Asia",
         "Debit Card"
        ],
        [
         10208,
         "2024-07-26",
         "Books",
         "The Great Alone by Kristin Hannah",
         3,
         16.99,
         50.97,
         "North America",
         "Credit Card"
        ],
        [
         10209,
         "2024-07-27",
         "Beauty Products",
         "Caudalie Vinoperfect Radiance Serum",
         1,
         79.0,
         79.0,
         "Europe",
         "PayPal"
        ],
        [
         10210,
         "2024-07-28",
         "Sports",
         "Bose SoundLink Color Bluetooth Speaker II",
         1,
         129.0,
         129.0,
         "Asia",
         "Credit Card"
        ],
        [
         10211,
         "2024-07-29",
         "Electronics",
         "Canon EOS Rebel T7i DSLR Camera",
         1,
         749.99,
         749.99,
         "North America",
         "Credit Card"
        ],
        [
         10212,
         "2024-07-30",
         "Home Appliances",
         "Keurig K-Elite Coffee Maker",
         2,
         169.99,
         339.98,
         "Europe",
         "PayPal"
        ],
        [
         10213,
         "2024-07-31",
         "Clothing",
         "Uniqlo Airism Seamless Boxer Briefs",
         4,
         9.9,
         39.6,
         "Asia",
         "Debit Card"
        ],
        [
         10214,
         "2024-08-01",
         "Books",
         "The Girl with the Dragon Tattoo by Stieg Larsson",
         3,
         10.99,
         32.97,
         "North America",
         "Credit Card"
        ],
        [
         10215,
         "2024-08-02",
         "Beauty Products",
         "L'Occitane Shea Butter Hand Cream",
         2,
         29.0,
         58.0,
         "Europe",
         "PayPal"
        ],
        [
         10216,
         "2024-08-03",
         "Sports",
         "YETI Tundra 65 Cooler",
         1,
         349.99,
         349.99,
         "Asia",
         "Credit Card"
        ],
        [
         10217,
         "2024-08-04",
         "Electronics",
         "Apple MacBook Pro 16-inch",
         1,
         2399.0,
         2399.0,
         "North America",
         "Credit Card"
        ],
        [
         10218,
         "2024-08-05",
         "Home Appliances",
         "iRobot Braava Jet M6",
         1,
         449.99,
         449.99,
         "Europe",
         "PayPal"
        ],
        [
         10219,
         "2024-08-06",
         "Clothing",
         "Champion Reverse Weave Hoodie",
         3,
         49.99,
         149.97,
         "Asia",
         "Debit Card"
        ],
        [
         10220,
         "2024-08-07",
         "Books",
         "The Nightingale by Kristin Hannah",
         2,
         12.99,
         25.98,
         "North America",
         "Credit Card"
        ],
        [
         10221,
         "2024-08-08",
         "Beauty Products",
         "Tarte Shape Tape Concealer",
         1,
         27.0,
         27.0,
         "Europe",
         "PayPal"
        ],
        [
         10222,
         "2024-08-09",
         "Sports",
         "Garmin Forerunner 945",
         1,
         599.99,
         599.99,
         "Asia",
         "Credit Card"
        ],
        [
         10223,
         "2024-08-10",
         "Electronics",
         "Amazon Echo Dot (4th Gen)",
         4,
         49.99,
         199.96,
         "North America",
         "Credit Card"
        ],
        [
         10224,
         "2024-08-11",
         "Home Appliances",
         "Philips Sonicare DiamondClean Toothbrush",
         2,
         229.99,
         459.98,
         "Europe",
         "PayPal"
        ],
        [
         10225,
         "2024-08-12",
         "Clothing",
         "Old Navy Mid-Rise Rockstar Super Skinny Jeans",
         2,
         44.99,
         89.98,
         "Asia",
         "Debit Card"
        ],
        [
         10226,
         "2024-08-13",
         "Books",
         "The Silent Patient by Alex Michaelides",
         3,
         26.99,
         80.97,
         "North America",
         "Credit Card"
        ],
        [
         10227,
         "2024-08-14",
         "Beauty Products",
         "The Ordinary Caffeine Solution 5% + EGCG",
         1,
         6.7,
         6.7,
         "Europe",
         "PayPal"
        ],
        [
         10228,
         "2024-08-15",
         "Sports",
         "Fitbit Luxe",
         2,
         149.95,
         299.9,
         "Asia",
         "Credit Card"
        ],
        [
         10229,
         "2024-08-16",
         "Electronics",
         "Google Nest Wifi Router",
         1,
         169.0,
         169.0,
         "North America",
         "Credit Card"
        ],
        [
         10230,
         "2024-08-17",
         "Home Appliances",
         "Anova Precision Oven",
         1,
         599.0,
         599.0,
         "Europe",
         "PayPal"
        ],
        [
         10231,
         "2024-08-18",
         "Clothing",
         "Adidas Originals Trefoil Hoodie",
         4,
         64.99,
         259.96,
         "Asia",
         "Debit Card"
        ],
        [
         10232,
         "2024-08-19",
         "Books",
         "Dune by Frank Herbert",
         2,
         9.99,
         19.98,
         "North America",
         "Credit Card"
        ],
        [
         10233,
         "2024-08-20",
         "Beauty Products",
         "Fresh Sugar Lip Treatment",
         1,
         24.0,
         24.0,
         "Europe",
         "PayPal"
        ],
        [
         10234,
         "2024-08-21",
         "Sports",
         "Hydro Flask Standard Mouth Water Bottle",
         3,
         32.95,
         98.85,
         "Asia",
         "Credit Card"
        ],
        [
         10235,
         "2024-08-22",
         "Electronics",
         "Bose QuietComfort 35 II Wireless Headphones",
         1,
         299.0,
         299.0,
         "North America",
         "Credit Card"
        ],
        [
         10236,
         "2024-08-23",
         "Home Appliances",
         "Nespresso Vertuo Next Coffee and Espresso Maker",
         1,
         159.99,
         159.99,
         "Europe",
         "PayPal"
        ],
        [
         10237,
         "2024-08-24",
         "Clothing",
         "Nike Air Force 1 Sneakers",
         3,
         90.0,
         270.0,
         "Asia",
         "Debit Card"
        ],
        [
         10238,
         "2024-08-25",
         "Books",
         "The Handmaid's Tale by Margaret Atwood",
         3,
         10.99,
         32.97,
         "North America",
         "Credit Card"
        ],
        [
         10239,
         "2024-08-26",
         "Beauty Products",
         "Sunday Riley Luna Sleeping Night Oil",
         1,
         55.0,
         55.0,
         "Europe",
         "PayPal"
        ],
        [
         10240,
         "2024-08-27",
         "Sports",
         "Yeti Rambler 20 oz Tumbler",
         2,
         29.99,
         59.98,
         "Asia",
         "Credit Card"
        ]
       ],
       "datasetInfos": [],
       "dbfsResultPath": null,
       "isJsonSchema": true,
       "metadata": {},
       "overflow": false,
       "plotOptions": {
        "customPlotOptions": {},
        "displayType": "table",
        "pivotAggregation": null,
        "pivotColumns": null,
        "xColumns": null,
        "yColumns": null
       },
       "removedWidgets": [],
       "schema": [
        {
         "metadata": "{}",
         "name": "Transaction ID",
         "type": "\"integer\""
        },
        {
         "metadata": "{\"__detected_date_formats\":\"yyyy-M-d\"}",
         "name": "Date",
         "type": "\"date\""
        },
        {
         "metadata": "{}",
         "name": "Product Category",
         "type": "\"string\""
        },
        {
         "metadata": "{}",
         "name": "Product Name",
         "type": "\"string\""
        },
        {
         "metadata": "{}",
         "name": "Units Sold",
         "type": "\"integer\""
        },
        {
         "metadata": "{}",
         "name": "Unit Price",
         "type": "\"double\""
        },
        {
         "metadata": "{}",
         "name": "Total Revenue",
         "type": "\"double\""
        },
        {
         "metadata": "{}",
         "name": "Region",
         "type": "\"string\""
        },
        {
         "metadata": "{}",
         "name": "Payment Method",
         "type": "\"string\""
        }
       ],
       "type": "table"
      }
     },
     "output_type": "display_data"
    }
   ],
   "source": [
    "df.display()"
   ]
  },
  {
   "cell_type": "markdown",
   "metadata": {
    "application/vnd.databricks.v1+cell": {
     "cellMetadata": {},
     "inputWidgets": {},
     "nuid": "4c00add3-f77e-4d8a-901d-b4c2d2f93f9c",
     "showTitle": false,
     "title": ""
    }
   },
   "source": [
    "Transformations"
   ]
  },
  {
   "cell_type": "markdown",
   "metadata": {
    "application/vnd.databricks.v1+cell": {
     "cellMetadata": {},
     "inputWidgets": {},
     "nuid": "2c38ed82-f81c-4aee-bd8e-fa049c233ccd",
     "showTitle": false,
     "title": ""
    }
   },
   "source": [
    "Revenue analysis based on Days"
   ]
  },
  {
   "cell_type": "code",
   "execution_count": 0,
   "metadata": {
    "application/vnd.databricks.v1+cell": {
     "cellMetadata": {
      "byteLimit": 2048000,
      "rowLimit": 10000
     },
     "inputWidgets": {},
     "nuid": "54469159-65bc-4429-8ab3-262751c70caa",
     "showTitle": false,
     "title": ""
    }
   },
   "outputs": [
    {
     "output_type": "display_data",
     "data": {
      "text/html": [
       "<style scoped>\n",
       "  .table-result-container {\n",
       "    max-height: 300px;\n",
       "    overflow: auto;\n",
       "  }\n",
       "  table, th, td {\n",
       "    border: 1px solid black;\n",
       "    border-collapse: collapse;\n",
       "  }\n",
       "  th, td {\n",
       "    padding: 5px;\n",
       "  }\n",
       "  th {\n",
       "    text-align: left;\n",
       "  }\n",
       "</style><div class='table-result-container'><table class='table-result'><thead style='background-color: white'><tr><th>Date</th><th>Total Revenue</th></tr></thead><tbody><tr><td>2024-01-01</td><td>1999.98</td></tr><tr><td>2024-01-02</td><td>499.99</td></tr><tr><td>2024-01-03</td><td>209.97</td></tr><tr><td>2024-01-04</td><td>63.96</td></tr><tr><td>2024-01-05</td><td>89.99</td></tr><tr><td>2024-01-06</td><td>149.95</td></tr><tr><td>2024-01-07</td><td>2499.99</td></tr><tr><td>2024-01-08</td><td>1199.98</td></tr><tr><td>2024-01-09</td><td>539.94</td></tr><tr><td>2024-01-10</td><td>51.98</td></tr><tr><td>2024-01-11</td><td>129.99</td></tr><tr><td>2024-01-12</td><td>599.97</td></tr><tr><td>2024-01-13</td><td>1499.98</td></tr><tr><td>2024-01-14</td><td>189.99</td></tr><tr><td>2024-01-15</td><td>499.98</td></tr><tr><td>2024-01-16</td><td>107.97</td></tr><tr><td>2024-01-17</td><td>399.99</td></tr><tr><td>2024-01-18</td><td>479.96</td></tr><tr><td>2024-01-19</td><td>999.98</td></tr><tr><td>2024-01-20</td><td>99.99</td></tr><tr><td>2024-01-21</td><td>179.97</td></tr><tr><td>2024-01-22</td><td>45.98</td></tr><tr><td>2024-01-23</td><td>49.99</td></tr><tr><td>2024-01-24</td><td>89.97</td></tr><tr><td>2024-01-25</td><td>299.99</td></tr><tr><td>2024-01-26</td><td>179.99</td></tr><tr><td>2024-01-27</td><td>359.98</td></tr><tr><td>2024-01-28</td><td>38.97</td></tr><tr><td>2024-01-29</td><td>29.99</td></tr><tr><td>2024-01-30</td><td>259.98</td></tr><tr><td>2024-01-31</td><td>699.98</td></tr><tr><td>2024-02-01</td><td>269.97</td></tr><tr><td>2024-02-02</td><td>149.95</td></tr><tr><td>2024-02-03</td><td>79.96</td></tr><tr><td>2024-02-04</td><td>79.98</td></tr><tr><td>2024-02-05</td><td>1895.0</td></tr><tr><td>2024-02-06</td><td>1199.97</td></tr><tr><td>2024-02-07</td><td>1599.98</td></tr><tr><td>2024-02-08</td><td>239.96</td></tr><tr><td>2024-02-09</td><td>74.97</td></tr><tr><td>2024-02-10</td><td>105.0</td></tr><tr><td>2024-02-11</td><td>259.98</td></tr><tr><td>2024-02-12</td><td>1199.97</td></tr><tr><td>2024-02-13</td><td>199.99</td></tr><tr><td>2024-02-14</td><td>279.98</td></tr><tr><td>2024-02-15</td><td>130.0</td></tr><tr><td>2024-02-16</td><td>52.0</td></tr><tr><td>2024-02-17</td><td>239.94</td></tr><tr><td>2024-02-18</td><td>259.98</td></tr><tr><td>2024-02-19</td><td>299.99</td></tr><tr><td>2024-02-20</td><td>464.97</td></tr><tr><td>2024-02-21</td><td>53.98</td></tr><tr><td>2024-02-22</td><td>49.0</td></tr><tr><td>2024-02-23</td><td>249.95</td></tr><tr><td>2024-02-24</td><td>239.96</td></tr><tr><td>2024-02-25</td><td>499.99</td></tr><tr><td>2024-02-26</td><td>149.95</td></tr><tr><td>2024-02-27</td><td>84.0</td></tr><tr><td>2024-02-28</td><td>46.0</td></tr><tr><td>2024-02-29</td><td>349.0</td></tr><tr><td>2024-03-01</td><td>899.97</td></tr><tr><td>2024-03-02</td><td>399.98</td></tr><tr><td>2024-03-03</td><td>99.9</td></tr><tr><td>2024-03-04</td><td>75.96</td></tr><tr><td>2024-03-05</td><td>102.0</td></tr><tr><td>2024-03-06</td><td>599.98</td></tr><tr><td>2024-03-07</td><td>1199.99</td></tr><tr><td>2024-03-08</td><td>659.97</td></tr><tr><td>2024-03-09</td><td>239.96</td></tr><tr><td>2024-03-10</td><td>21.98</td></tr><tr><td>2024-03-11</td><td>78.0</td></tr><tr><td>2024-03-12</td><td>389.97</td></tr><tr><td>2024-03-13</td><td>1599.99</td></tr><tr><td>2024-03-14</td><td>899.99</td></tr><tr><td>2024-03-15</td><td>249.95</td></tr><tr><td>2024-03-16</td><td>59.96</td></tr><tr><td>2024-03-17</td><td>32.0</td></tr><tr><td>2024-03-18</td><td>209.97</td></tr><tr><td>2024-03-19</td><td>499.98</td></tr><tr><td>2024-03-20</td><td>499.99</td></tr><tr><td>2024-03-21</td><td>179.98</td></tr><tr><td>2024-03-22</td><td>38.97</td></tr><tr><td>2024-03-23</td><td>100.0</td></tr><tr><td>2024-03-24</td><td>149.94</td></tr><tr><td>2024-03-25</td><td>99.99</td></tr><tr><td>2024-03-26</td><td>2599.98</td></tr><tr><td>2024-03-27</td><td>239.97</td></tr><tr><td>2024-03-28</td><td>55.96</td></tr><tr><td>2024-03-29</td><td>105.0</td></tr><tr><td>2024-03-30</td><td>259.98</td></tr><tr><td>2024-03-31</td><td>199.98</td></tr><tr><td>2024-04-01</td><td>179.99</td></tr><tr><td>2024-04-02</td><td>319.96</td></tr><tr><td>2024-04-03</td><td>44.97</td></tr><tr><td>2024-04-04</td><td>68.0</td></tr><tr><td>2024-04-05</td><td>999.99</td></tr><tr><td>2024-04-06</td><td>899.97</td></tr><tr><td>2024-04-07</td><td>349.99</td></tr><tr><td>2024-04-08</td><td>119.94</td></tr><tr><td>2024-04-09</td><td>25.98</td></tr><tr><td>2024-04-10</td><td>82.0</td></tr><tr><td>2024-04-11</td><td>219.98</td></tr><tr><td>2024-04-12</td><td>3899.99</td></tr><tr><td>2024-04-13</td><td>699.98</td></tr><tr><td>2024-04-14</td><td>119.97</td></tr><tr><td>2024-04-15</td><td>43.96</td></tr><tr><td>2024-04-16</td><td>6.5</td></tr><tr><td>2024-04-17</td><td>399.99</td></tr><tr><td>2024-04-18</td><td>459.98</td></tr><tr><td>2024-04-19</td><td>159.99</td></tr><tr><td>2024-04-20</td><td>59.96</td></tr><tr><td>2024-04-21</td><td>37.98</td></tr><tr><td>2024-04-22</td><td>15.0</td></tr><tr><td>2024-04-23</td><td>689.85</td></tr><tr><td>2024-04-24</td><td>249.99</td></tr><tr><td>2024-04-25</td><td>599.9</td></tr><tr><td>2024-04-26</td><td>149.97</td></tr><tr><td>2024-04-27</td><td>67.96</td></tr><tr><td>2024-04-28</td><td>29.98</td></tr><tr><td>2024-04-29</td><td>249.99</td></tr><tr><td>2024-04-30</td><td>1199.98</td></tr><tr><td>2024-05-01</td><td>89.99</td></tr><tr><td>2024-05-02</td><td>64.95</td></tr><tr><td>2024-05-03</td><td>44.97</td></tr><tr><td>2024-05-04</td><td>30.0</td></tr><tr><td>2024-05-05</td><td>199.99</td></tr><tr><td>2024-05-06</td><td>499.99</td></tr><tr><td>2024-05-07</td><td>799.98</td></tr><tr><td>2024-05-08</td><td>294.0</td></tr><tr><td>2024-05-09</td><td>17.98</td></tr><tr><td>2024-05-10</td><td>36.0</td></tr><tr><td>2024-05-11</td><td>159.8</td></tr><tr><td>2024-05-12</td><td>1299.99</td></tr><tr><td>2024-05-13</td><td>159.98</td></tr><tr><td>2024-05-14</td><td>139.96</td></tr><tr><td>2024-05-15</td><td>29.97</td></tr><tr><td>2024-05-16</td><td>6.8</td></tr><tr><td>2024-05-17</td><td>199.9</td></tr><tr><td>2024-05-18</td><td>1499.99</td></tr><tr><td>2024-05-19</td><td>139.99</td></tr><tr><td>2024-05-20</td><td>134.97</td></tr><tr><td>2024-05-21</td><td>23.98</td></tr><tr><td>2024-05-22</td><td>29.5</td></tr><tr><td>2024-05-23</td><td>299.99</td></tr><tr><td>2024-05-24</td><td>549.0</td></tr><tr><td>2024-05-25</td><td>399.9</td></tr><tr><td>2024-05-26</td><td>196.0</td></tr><tr><td>2024-05-27</td><td>32.97</td></tr><tr><td>2024-05-28</td><td>25.0</td></tr><tr><td>2024-05-29</td><td>299.98</td></tr><tr><td>2024-05-30</td><td>349.99</td></tr><tr><td>2024-05-31</td><td>399.98</td></tr><tr><td>2024-06-01</td><td>164.97</td></tr><tr><td>2024-06-02</td><td>33.98</td></tr><tr><td>2024-06-03</td><td>59.0</td></tr><tr><td>2024-06-04</td><td>299.99</td></tr><tr><td>2024-06-05</td><td>899.99</td></tr><tr><td>2024-06-06</td><td>499.95</td></tr><tr><td>2024-06-07</td><td>99.96</td></tr><tr><td>2024-06-08</td><td>23.97</td></tr><tr><td>2024-06-09</td><td>36.0</td></tr><tr><td>2024-06-10</td><td>69.98</td></tr><tr><td>2024-06-11</td><td>1199.99</td></tr><tr><td>2024-06-12</td><td>199.99</td></tr><tr><td>2024-06-13</td><td>149.95</td></tr><tr><td>2024-06-14</td><td>35.96</td></tr><tr><td>2024-06-15</td><td>16.99</td></tr><tr><td>2024-06-16</td><td>149.97</td></tr><tr><td>2024-06-17</td><td>699.99</td></tr><tr><td>2024-06-18</td><td>279.98</td></tr><tr><td>2024-06-19</td><td>104.97</td></tr><tr><td>2024-06-20</td><td>19.98</td></tr><tr><td>2024-06-21</td><td>29.5</td></tr><tr><td>2024-06-22</td><td>699.99</td></tr><tr><td>2024-06-23</td><td>149.97</td></tr><tr><td>2024-06-24</td><td>99.98</td></tr><tr><td>2024-06-25</td><td>59.6</td></tr><tr><td>2024-06-26</td><td>35.97</td></tr><tr><td>2024-06-27</td><td>68.0</td></tr><tr><td>2024-06-28</td><td>146.0</td></tr><tr><td>2024-06-29</td><td>649.99</td></tr><tr><td>2024-06-30</td><td>399.99</td></tr><tr><td>2024-07-01</td><td>179.97</td></tr><tr><td>2024-07-02</td><td>25.98</td></tr><tr><td>2024-07-03</td><td>190.0</td></tr><tr><td>2024-07-04</td><td>499.95</td></tr><tr><td>2024-07-05</td><td>399.0</td></tr><tr><td>2024-07-06</td><td>398.0</td></tr><tr><td>2024-07-07</td><td>139.96</td></tr><tr><td>2024-07-08</td><td>32.97</td></tr><tr><td>2024-07-09</td><td>18.0</td></tr><tr><td>2024-07-10</td><td>169.95</td></tr><tr><td>2024-07-11</td><td>199.99</td></tr><tr><td>2024-07-12</td><td>199.95</td></tr><tr><td>2024-07-13</td><td>359.98</td></tr><tr><td>2024-07-14</td><td>23.98</td></tr><tr><td>2024-07-15</td><td>125.0</td></tr><tr><td>2024-07-16</td><td>449.99</td></tr><tr><td>2024-07-17</td><td>358.0</td></tr><tr><td>2024-07-18</td><td>99.95</td></tr><tr><td>2024-07-19</td><td>179.97</td></tr><tr><td>2024-07-20</td><td>29.98</td></tr><tr><td>2024-07-21</td><td>52.0</td></tr><tr><td>2024-07-22</td><td>399.99</td></tr><tr><td>2024-07-23</td><td>299.99</td></tr><tr><td>2024-07-24</td><td>379.99</td></tr><tr><td>2024-07-25</td><td>196.0</td></tr><tr><td>2024-07-26</td><td>50.97</td></tr><tr><td>2024-07-27</td><td>79.0</td></tr><tr><td>2024-07-28</td><td>129.0</td></tr><tr><td>2024-07-29</td><td>749.99</td></tr><tr><td>2024-07-30</td><td>339.98</td></tr><tr><td>2024-07-31</td><td>39.6</td></tr><tr><td>2024-08-01</td><td>32.97</td></tr><tr><td>2024-08-02</td><td>58.0</td></tr><tr><td>2024-08-03</td><td>349.99</td></tr><tr><td>2024-08-04</td><td>2399.0</td></tr><tr><td>2024-08-05</td><td>449.99</td></tr><tr><td>2024-08-06</td><td>149.97</td></tr><tr><td>2024-08-07</td><td>25.98</td></tr><tr><td>2024-08-08</td><td>27.0</td></tr><tr><td>2024-08-09</td><td>599.99</td></tr><tr><td>2024-08-10</td><td>199.96</td></tr><tr><td>2024-08-11</td><td>459.98</td></tr><tr><td>2024-08-12</td><td>89.98</td></tr><tr><td>2024-08-13</td><td>80.97</td></tr><tr><td>2024-08-14</td><td>6.7</td></tr><tr><td>2024-08-15</td><td>299.9</td></tr><tr><td>2024-08-16</td><td>169.0</td></tr><tr><td>2024-08-17</td><td>599.0</td></tr><tr><td>2024-08-18</td><td>259.96</td></tr><tr><td>2024-08-19</td><td>19.98</td></tr><tr><td>2024-08-20</td><td>24.0</td></tr><tr><td>2024-08-21</td><td>98.85</td></tr><tr><td>2024-08-22</td><td>299.0</td></tr><tr><td>2024-08-23</td><td>159.99</td></tr><tr><td>2024-08-24</td><td>270.0</td></tr><tr><td>2024-08-25</td><td>32.97</td></tr><tr><td>2024-08-26</td><td>55.0</td></tr><tr><td>2024-08-27</td><td>59.98</td></tr></tbody></table></div>"
      ]
     },
     "metadata": {
      "application/vnd.databricks.v1+output": {
       "addedWidgets": {},
       "aggData": [],
       "aggError": "",
       "aggOverflow": false,
       "aggSchema": [],
       "aggSeriesLimitReached": false,
       "aggType": "",
       "arguments": {},
       "columnCustomDisplayInfos": {},
       "data": [
        [
         "2024-01-01",
         1999.98
        ],
        [
         "2024-01-02",
         499.99
        ],
        [
         "2024-01-03",
         209.97
        ],
        [
         "2024-01-04",
         63.96
        ],
        [
         "2024-01-05",
         89.99
        ],
        [
         "2024-01-06",
         149.95
        ],
        [
         "2024-01-07",
         2499.99
        ],
        [
         "2024-01-08",
         1199.98
        ],
        [
         "2024-01-09",
         539.94
        ],
        [
         "2024-01-10",
         51.98
        ],
        [
         "2024-01-11",
         129.99
        ],
        [
         "2024-01-12",
         599.97
        ],
        [
         "2024-01-13",
         1499.98
        ],
        [
         "2024-01-14",
         189.99
        ],
        [
         "2024-01-15",
         499.98
        ],
        [
         "2024-01-16",
         107.97
        ],
        [
         "2024-01-17",
         399.99
        ],
        [
         "2024-01-18",
         479.96
        ],
        [
         "2024-01-19",
         999.98
        ],
        [
         "2024-01-20",
         99.99
        ],
        [
         "2024-01-21",
         179.97
        ],
        [
         "2024-01-22",
         45.98
        ],
        [
         "2024-01-23",
         49.99
        ],
        [
         "2024-01-24",
         89.97
        ],
        [
         "2024-01-25",
         299.99
        ],
        [
         "2024-01-26",
         179.99
        ],
        [
         "2024-01-27",
         359.98
        ],
        [
         "2024-01-28",
         38.97
        ],
        [
         "2024-01-29",
         29.99
        ],
        [
         "2024-01-30",
         259.98
        ],
        [
         "2024-01-31",
         699.98
        ],
        [
         "2024-02-01",
         269.97
        ],
        [
         "2024-02-02",
         149.95
        ],
        [
         "2024-02-03",
         79.96
        ],
        [
         "2024-02-04",
         79.98
        ],
        [
         "2024-02-05",
         1895.0
        ],
        [
         "2024-02-06",
         1199.97
        ],
        [
         "2024-02-07",
         1599.98
        ],
        [
         "2024-02-08",
         239.96
        ],
        [
         "2024-02-09",
         74.97
        ],
        [
         "2024-02-10",
         105.0
        ],
        [
         "2024-02-11",
         259.98
        ],
        [
         "2024-02-12",
         1199.97
        ],
        [
         "2024-02-13",
         199.99
        ],
        [
         "2024-02-14",
         279.98
        ],
        [
         "2024-02-15",
         130.0
        ],
        [
         "2024-02-16",
         52.0
        ],
        [
         "2024-02-17",
         239.94
        ],
        [
         "2024-02-18",
         259.98
        ],
        [
         "2024-02-19",
         299.99
        ],
        [
         "2024-02-20",
         464.97
        ],
        [
         "2024-02-21",
         53.98
        ],
        [
         "2024-02-22",
         49.0
        ],
        [
         "2024-02-23",
         249.95
        ],
        [
         "2024-02-24",
         239.96
        ],
        [
         "2024-02-25",
         499.99
        ],
        [
         "2024-02-26",
         149.95
        ],
        [
         "2024-02-27",
         84.0
        ],
        [
         "2024-02-28",
         46.0
        ],
        [
         "2024-02-29",
         349.0
        ],
        [
         "2024-03-01",
         899.97
        ],
        [
         "2024-03-02",
         399.98
        ],
        [
         "2024-03-03",
         99.9
        ],
        [
         "2024-03-04",
         75.96
        ],
        [
         "2024-03-05",
         102.0
        ],
        [
         "2024-03-06",
         599.98
        ],
        [
         "2024-03-07",
         1199.99
        ],
        [
         "2024-03-08",
         659.97
        ],
        [
         "2024-03-09",
         239.96
        ],
        [
         "2024-03-10",
         21.98
        ],
        [
         "2024-03-11",
         78.0
        ],
        [
         "2024-03-12",
         389.97
        ],
        [
         "2024-03-13",
         1599.99
        ],
        [
         "2024-03-14",
         899.99
        ],
        [
         "2024-03-15",
         249.95
        ],
        [
         "2024-03-16",
         59.96
        ],
        [
         "2024-03-17",
         32.0
        ],
        [
         "2024-03-18",
         209.97
        ],
        [
         "2024-03-19",
         499.98
        ],
        [
         "2024-03-20",
         499.99
        ],
        [
         "2024-03-21",
         179.98
        ],
        [
         "2024-03-22",
         38.97
        ],
        [
         "2024-03-23",
         100.0
        ],
        [
         "2024-03-24",
         149.94
        ],
        [
         "2024-03-25",
         99.99
        ],
        [
         "2024-03-26",
         2599.98
        ],
        [
         "2024-03-27",
         239.97
        ],
        [
         "2024-03-28",
         55.96
        ],
        [
         "2024-03-29",
         105.0
        ],
        [
         "2024-03-30",
         259.98
        ],
        [
         "2024-03-31",
         199.98
        ],
        [
         "2024-04-01",
         179.99
        ],
        [
         "2024-04-02",
         319.96
        ],
        [
         "2024-04-03",
         44.97
        ],
        [
         "2024-04-04",
         68.0
        ],
        [
         "2024-04-05",
         999.99
        ],
        [
         "2024-04-06",
         899.97
        ],
        [
         "2024-04-07",
         349.99
        ],
        [
         "2024-04-08",
         119.94
        ],
        [
         "2024-04-09",
         25.98
        ],
        [
         "2024-04-10",
         82.0
        ],
        [
         "2024-04-11",
         219.98
        ],
        [
         "2024-04-12",
         3899.99
        ],
        [
         "2024-04-13",
         699.98
        ],
        [
         "2024-04-14",
         119.97
        ],
        [
         "2024-04-15",
         43.96
        ],
        [
         "2024-04-16",
         6.5
        ],
        [
         "2024-04-17",
         399.99
        ],
        [
         "2024-04-18",
         459.98
        ],
        [
         "2024-04-19",
         159.99
        ],
        [
         "2024-04-20",
         59.96
        ],
        [
         "2024-04-21",
         37.98
        ],
        [
         "2024-04-22",
         15.0
        ],
        [
         "2024-04-23",
         689.85
        ],
        [
         "2024-04-24",
         249.99
        ],
        [
         "2024-04-25",
         599.9
        ],
        [
         "2024-04-26",
         149.97
        ],
        [
         "2024-04-27",
         67.96
        ],
        [
         "2024-04-28",
         29.98
        ],
        [
         "2024-04-29",
         249.99
        ],
        [
         "2024-04-30",
         1199.98
        ],
        [
         "2024-05-01",
         89.99
        ],
        [
         "2024-05-02",
         64.95
        ],
        [
         "2024-05-03",
         44.97
        ],
        [
         "2024-05-04",
         30.0
        ],
        [
         "2024-05-05",
         199.99
        ],
        [
         "2024-05-06",
         499.99
        ],
        [
         "2024-05-07",
         799.98
        ],
        [
         "2024-05-08",
         294.0
        ],
        [
         "2024-05-09",
         17.98
        ],
        [
         "2024-05-10",
         36.0
        ],
        [
         "2024-05-11",
         159.8
        ],
        [
         "2024-05-12",
         1299.99
        ],
        [
         "2024-05-13",
         159.98
        ],
        [
         "2024-05-14",
         139.96
        ],
        [
         "2024-05-15",
         29.97
        ],
        [
         "2024-05-16",
         6.8
        ],
        [
         "2024-05-17",
         199.9
        ],
        [
         "2024-05-18",
         1499.99
        ],
        [
         "2024-05-19",
         139.99
        ],
        [
         "2024-05-20",
         134.97
        ],
        [
         "2024-05-21",
         23.98
        ],
        [
         "2024-05-22",
         29.5
        ],
        [
         "2024-05-23",
         299.99
        ],
        [
         "2024-05-24",
         549.0
        ],
        [
         "2024-05-25",
         399.9
        ],
        [
         "2024-05-26",
         196.0
        ],
        [
         "2024-05-27",
         32.97
        ],
        [
         "2024-05-28",
         25.0
        ],
        [
         "2024-05-29",
         299.98
        ],
        [
         "2024-05-30",
         349.99
        ],
        [
         "2024-05-31",
         399.98
        ],
        [
         "2024-06-01",
         164.97
        ],
        [
         "2024-06-02",
         33.98
        ],
        [
         "2024-06-03",
         59.0
        ],
        [
         "2024-06-04",
         299.99
        ],
        [
         "2024-06-05",
         899.99
        ],
        [
         "2024-06-06",
         499.95
        ],
        [
         "2024-06-07",
         99.96
        ],
        [
         "2024-06-08",
         23.97
        ],
        [
         "2024-06-09",
         36.0
        ],
        [
         "2024-06-10",
         69.98
        ],
        [
         "2024-06-11",
         1199.99
        ],
        [
         "2024-06-12",
         199.99
        ],
        [
         "2024-06-13",
         149.95
        ],
        [
         "2024-06-14",
         35.96
        ],
        [
         "2024-06-15",
         16.99
        ],
        [
         "2024-06-16",
         149.97
        ],
        [
         "2024-06-17",
         699.99
        ],
        [
         "2024-06-18",
         279.98
        ],
        [
         "2024-06-19",
         104.97
        ],
        [
         "2024-06-20",
         19.98
        ],
        [
         "2024-06-21",
         29.5
        ],
        [
         "2024-06-22",
         699.99
        ],
        [
         "2024-06-23",
         149.97
        ],
        [
         "2024-06-24",
         99.98
        ],
        [
         "2024-06-25",
         59.6
        ],
        [
         "2024-06-26",
         35.97
        ],
        [
         "2024-06-27",
         68.0
        ],
        [
         "2024-06-28",
         146.0
        ],
        [
         "2024-06-29",
         649.99
        ],
        [
         "2024-06-30",
         399.99
        ],
        [
         "2024-07-01",
         179.97
        ],
        [
         "2024-07-02",
         25.98
        ],
        [
         "2024-07-03",
         190.0
        ],
        [
         "2024-07-04",
         499.95
        ],
        [
         "2024-07-05",
         399.0
        ],
        [
         "2024-07-06",
         398.0
        ],
        [
         "2024-07-07",
         139.96
        ],
        [
         "2024-07-08",
         32.97
        ],
        [
         "2024-07-09",
         18.0
        ],
        [
         "2024-07-10",
         169.95
        ],
        [
         "2024-07-11",
         199.99
        ],
        [
         "2024-07-12",
         199.95
        ],
        [
         "2024-07-13",
         359.98
        ],
        [
         "2024-07-14",
         23.98
        ],
        [
         "2024-07-15",
         125.0
        ],
        [
         "2024-07-16",
         449.99
        ],
        [
         "2024-07-17",
         358.0
        ],
        [
         "2024-07-18",
         99.95
        ],
        [
         "2024-07-19",
         179.97
        ],
        [
         "2024-07-20",
         29.98
        ],
        [
         "2024-07-21",
         52.0
        ],
        [
         "2024-07-22",
         399.99
        ],
        [
         "2024-07-23",
         299.99
        ],
        [
         "2024-07-24",
         379.99
        ],
        [
         "2024-07-25",
         196.0
        ],
        [
         "2024-07-26",
         50.97
        ],
        [
         "2024-07-27",
         79.0
        ],
        [
         "2024-07-28",
         129.0
        ],
        [
         "2024-07-29",
         749.99
        ],
        [
         "2024-07-30",
         339.98
        ],
        [
         "2024-07-31",
         39.6
        ],
        [
         "2024-08-01",
         32.97
        ],
        [
         "2024-08-02",
         58.0
        ],
        [
         "2024-08-03",
         349.99
        ],
        [
         "2024-08-04",
         2399.0
        ],
        [
         "2024-08-05",
         449.99
        ],
        [
         "2024-08-06",
         149.97
        ],
        [
         "2024-08-07",
         25.98
        ],
        [
         "2024-08-08",
         27.0
        ],
        [
         "2024-08-09",
         599.99
        ],
        [
         "2024-08-10",
         199.96
        ],
        [
         "2024-08-11",
         459.98
        ],
        [
         "2024-08-12",
         89.98
        ],
        [
         "2024-08-13",
         80.97
        ],
        [
         "2024-08-14",
         6.7
        ],
        [
         "2024-08-15",
         299.9
        ],
        [
         "2024-08-16",
         169.0
        ],
        [
         "2024-08-17",
         599.0
        ],
        [
         "2024-08-18",
         259.96
        ],
        [
         "2024-08-19",
         19.98
        ],
        [
         "2024-08-20",
         24.0
        ],
        [
         "2024-08-21",
         98.85
        ],
        [
         "2024-08-22",
         299.0
        ],
        [
         "2024-08-23",
         159.99
        ],
        [
         "2024-08-24",
         270.0
        ],
        [
         "2024-08-25",
         32.97
        ],
        [
         "2024-08-26",
         55.0
        ],
        [
         "2024-08-27",
         59.98
        ]
       ],
       "datasetInfos": [],
       "dbfsResultPath": null,
       "isJsonSchema": true,
       "metadata": {},
       "overflow": false,
       "plotOptions": {
        "customPlotOptions": {},
        "displayType": "table",
        "pivotAggregation": null,
        "pivotColumns": null,
        "xColumns": null,
        "yColumns": null
       },
       "removedWidgets": [],
       "schema": [
        {
         "metadata": "{\"__detected_date_formats\":\"yyyy-M-d\"}",
         "name": "Date",
         "type": "\"date\""
        },
        {
         "metadata": "{}",
         "name": "Total Revenue",
         "type": "\"double\""
        }
       ],
       "type": "table"
      }
     },
     "output_type": "display_data"
    },
    {
     "output_type": "display_data",
     "data": {
      "text/plain": [
       "Databricks visualization. Run in Databricks to view."
      ]
     },
     "metadata": {
      "application/vnd.databricks.v1.subcommand+json": {
       "baseErrorDetails": null,
       "bindings": {},
       "collapsed": false,
       "command": "%python\n__backend_agg_display_orig = display\n__backend_agg_dfs = []\ndef __backend_agg_display_new(df):\n    __backend_agg_df_modules = [\"pandas.core.frame\", \"databricks.koalas.frame\", \"pyspark.sql.dataframe\", \"pyspark.pandas.frame\", \"pyspark.sql.connect.dataframe\"]\n    if (type(df).__module__ in __backend_agg_df_modules and type(df).__name__ == 'DataFrame') or isinstance(df, list):\n        __backend_agg_dfs.append(df)\n\ndisplay = __backend_agg_display_new\n\ndef __backend_agg_user_code_fn():\n    import base64\n    exec(base64.standard_b64decode(\"ZGYxPWRmLmdyb3VwQnkoJ0RhdGUnKS5hZ2coRi5zdW0oJ1RvdGFsIFJldmVudWUnKS5hbGlhcygnVG90YWwgUmV2ZW51ZScpKQpkZjEuZGlzcGxheSgp\").decode())\n\ntry:\n    # run user code\n    __backend_agg_user_code_fn()\n\n    #reset display function\n    display = __backend_agg_display_orig\n\n    if len(__backend_agg_dfs) > 0:\n        # create a temp view\n        if type(__backend_agg_dfs[0]).__module__ == \"databricks.koalas.frame\":\n            # koalas dataframe\n            __backend_agg_dfs[0].to_spark().createOrReplaceTempView(\"DatabricksView60455bd\")\n        elif type(__backend_agg_dfs[0]).__module__ == \"pandas.core.frame\" or isinstance(__backend_agg_dfs[0], list):\n            # pandas dataframe\n            spark.createDataFrame(__backend_agg_dfs[0]).createOrReplaceTempView(\"DatabricksView60455bd\")\n        else:\n            __backend_agg_dfs[0].createOrReplaceTempView(\"DatabricksView60455bd\")\n        #run backend agg\n        display(spark.sql(\"\"\"WITH q AS (select * from DatabricksView60455bd) SELECT `Date`,SUM(`Total Revenue`) `column_31fb3f5a13` FROM q GROUP BY `Date`\"\"\"))\n    else:\n        displayHTML(\"dataframe no longer exists. If you're using dataframe.display(), use display(dataframe) instead.\")\n\n\nfinally:\n    spark.sql(\"drop view if exists DatabricksView60455bd\")\n    display = __backend_agg_display_orig\n    del __backend_agg_display_new\n    del __backend_agg_display_orig\n    del __backend_agg_dfs\n    del __backend_agg_user_code_fn\n\n",
       "commandTitle": "Visualization 1",
       "commandType": "auto",
       "commandVersion": 0,
       "commentThread": [],
       "commentsVisible": false,
       "contentSha256Hex": null,
       "customPlotOptions": {
        "redashChart": [
         {
          "key": "type",
          "value": "CHART"
         },
         {
          "key": "options",
          "value": {
           "alignYAxesAtZero": true,
           "coefficient": 1,
           "columnConfigurationMap": {
            "x": {
             "column": "Date",
             "id": "column_31fb3f5a11"
            },
            "y": [
             {
              "column": "Total Revenue",
              "id": "column_31fb3f5a13",
              "transform": "SUM"
             }
            ]
           },
           "dateTimeFormat": "DD/MM/YYYY HH:mm",
           "direction": {
            "type": "counterclockwise"
           },
           "error_y": {
            "type": "data",
            "visible": true
           },
           "globalSeriesType": "combo",
           "isAggregationOn": true,
           "legend": {
            "traceorder": "normal"
           },
           "missingValuesAsZero": true,
           "numBins": 10,
           "numberFormat": "0,0.[00000]",
           "percentFormat": "0[.]00%",
           "series": {
            "error_y": {
             "type": "data",
             "visible": true
            },
            "stacking": null
           },
           "seriesOptions": {
            "column_31fb3f5a13": {
             "color": "#604FE9",
             "type": "column",
             "yAxis": 0
            },
            "column_31fb3f5a2": {
             "name": "Total Revenue",
             "type": "line",
             "yAxis": 0
            },
            "column_31fb3f5a20": {
             "type": "line",
             "yAxis": 0
            },
            "column_31fb3f5a8": {
             "type": "line",
             "yAxis": 0
            }
           },
           "showDataLabels": true,
           "sizemode": "diameter",
           "sortX": true,
           "sortY": true,
           "swappedAxes": false,
           "textFormat": "",
           "useAggregationsUi": true,
           "valuesOptions": {},
           "version": 2,
           "xAxis": {
            "labels": {
             "enabled": true
            },
            "type": "datetime"
           },
           "yAxis": [
            {
             "title": {
              "text": "Total Revenue"
             },
             "type": "-"
            },
            {
             "opposite": true,
             "type": "-"
            }
           ]
          }
         }
        ]
       },
       "datasetPreviewNameToCmdIdMap": {},
       "diffDeletes": [],
       "diffInserts": [],
       "displayType": "redashChart",
       "error": null,
       "errorDetails": null,
       "errorSummary": null,
       "errorTraceType": null,
       "finishTime": 0,
       "globalVars": {},
       "guid": "",
       "height": "auto",
       "hideCommandCode": false,
       "hideCommandResult": false,
       "iPythonMetadata": null,
       "inputWidgets": {},
       "isLockedInExamMode": false,
       "latestUser": "a user",
       "latestUserId": null,
       "listResultMetadata": null,
       "metadata": {
        "byteLimit": 2048000,
        "rowLimit": 10000
       },
       "nuid": "6feaaf43-6938-4eff-9112-cf0f055297ed",
       "origId": 0,
       "parentHierarchy": [],
       "pivotAggregation": null,
       "pivotColumns": null,
       "position": 5.0,
       "resultDbfsErrorMessage": null,
       "resultDbfsStatus": "INLINED_IN_TREE",
       "results": null,
       "showCommandTitle": false,
       "startTime": 0,
       "state": "input",
       "streamStates": {},
       "subcommandOptions": {
        "queryPlan": {
         "groups": [
          {
           "column": "Date",
           "type": "column"
          }
         ],
         "selects": [
          {
           "column": "Date",
           "type": "column"
          },
          {
           "alias": "column_31fb3f5a13",
           "args": [
            {
             "column": "Total Revenue",
             "type": "column"
            }
           ],
           "function": "SUM",
           "type": "function"
          }
         ]
        }
       },
       "submitTime": 0,
       "subtype": "tableResultSubCmd.visualization",
       "tableResultIndex": 0,
       "useConsistentColors": false,
       "version": "CommandV1",
       "width": "auto",
       "workflows": [],
       "xColumns": null,
       "yColumns": null
      }
     },
     "output_type": "display_data"
    }
   ],
   "source": [
    "df1=df.groupBy('Date').agg(F.sum('Total Revenue').alias('Total Revenue')).orderBy(\"Date\")\n",
    "df1.display()"
   ]
  },
  {
   "cell_type": "markdown",
   "metadata": {
    "application/vnd.databricks.v1+cell": {
     "cellMetadata": {},
     "inputWidgets": {},
     "nuid": "778cad1e-fbea-4821-9be2-bd53856c2eda",
     "showTitle": false,
     "title": ""
    }
   },
   "source": [
    "Revenue analysis based on month"
   ]
  },
  {
   "cell_type": "code",
   "execution_count": 0,
   "metadata": {
    "application/vnd.databricks.v1+cell": {
     "cellMetadata": {
      "byteLimit": 2048000,
      "rowLimit": 10000
     },
     "inputWidgets": {},
     "nuid": "666939e7-8240-4278-80b1-03c06087bf0e",
     "showTitle": false,
     "title": ""
    }
   },
   "outputs": [
    {
     "output_type": "display_data",
     "data": {
      "text/html": [
       "<style scoped>\n",
       "  .table-result-container {\n",
       "    max-height: 300px;\n",
       "    overflow: auto;\n",
       "  }\n",
       "  table, th, td {\n",
       "    border: 1px solid black;\n",
       "    border-collapse: collapse;\n",
       "  }\n",
       "  th, td {\n",
       "    padding: 5px;\n",
       "  }\n",
       "  th {\n",
       "    text-align: left;\n",
       "  }\n",
       "</style><div class='table-result-container'><table class='table-result'><thead style='background-color: white'><tr><th>Date</th><th>Total Revenue</th></tr></thead><tbody><tr><td>2024-01</td><td>14548.32</td></tr><tr><td>2024-02</td><td>10803.37</td></tr><tr><td>2024-03</td><td>12849.24</td></tr><tr><td>2024-04</td><td>12451.69</td></tr><tr><td>2024-05</td><td>8455.49</td></tr><tr><td>2024-06</td><td>7384.55</td></tr><tr><td>2024-07</td><td>6797.08</td></tr><tr><td>2024-08</td><td>7278.11</td></tr></tbody></table></div>"
      ]
     },
     "metadata": {
      "application/vnd.databricks.v1+output": {
       "addedWidgets": {},
       "aggData": [],
       "aggError": "",
       "aggOverflow": false,
       "aggSchema": [],
       "aggSeriesLimitReached": false,
       "aggType": "",
       "arguments": {},
       "columnCustomDisplayInfos": {},
       "data": [
        [
         "2024-01",
         14548.32
        ],
        [
         "2024-02",
         10803.37
        ],
        [
         "2024-03",
         12849.24
        ],
        [
         "2024-04",
         12451.69
        ],
        [
         "2024-05",
         8455.49
        ],
        [
         "2024-06",
         7384.55
        ],
        [
         "2024-07",
         6797.08
        ],
        [
         "2024-08",
         7278.11
        ]
       ],
       "datasetInfos": [],
       "dbfsResultPath": null,
       "isJsonSchema": true,
       "metadata": {},
       "overflow": false,
       "plotOptions": {
        "customPlotOptions": {},
        "displayType": "table",
        "pivotAggregation": null,
        "pivotColumns": null,
        "xColumns": null,
        "yColumns": null
       },
       "removedWidgets": [],
       "schema": [
        {
         "metadata": "{}",
         "name": "Date",
         "type": "\"string\""
        },
        {
         "metadata": "{}",
         "name": "Total Revenue",
         "type": "\"double\""
        }
       ],
       "type": "table"
      }
     },
     "output_type": "display_data"
    },
    {
     "output_type": "display_data",
     "data": {
      "text/plain": [
       "Databricks visualization. Run in Databricks to view."
      ]
     },
     "metadata": {
      "application/vnd.databricks.v1.subcommand+json": {
       "baseErrorDetails": null,
       "bindings": {},
       "collapsed": false,
       "command": "%python\n__backend_agg_display_orig = display\n__backend_agg_dfs = []\ndef __backend_agg_display_new(df):\n    __backend_agg_df_modules = [\"pandas.core.frame\", \"databricks.koalas.frame\", \"pyspark.sql.dataframe\", \"pyspark.pandas.frame\", \"pyspark.sql.connect.dataframe\"]\n    if (type(df).__module__ in __backend_agg_df_modules and type(df).__name__ == 'DataFrame') or isinstance(df, list):\n        __backend_agg_dfs.append(df)\n\ndisplay = __backend_agg_display_new\n\ndef __backend_agg_user_code_fn():\n    import base64\n    exec(base64.standard_b64decode(\"ZGYyPWRmLndpdGhDb2x1bW4oIkRhdGUiLEYuZGF0ZV9mb3JtYXQoJ0RhdGUnLCd5eXl5LU1NJykpCmRmMj1kZjIuZ3JvdXBCeSgiRGF0ZSIpLmFnZyhGLnN1bSgiVG90YWwgUmV2ZW51ZSIpLmFsaWFzKCJUb3RhbCBSZXZlbnVlIikpCmRmMi5kaXNwbGF5KCk=\").decode())\n\ntry:\n    # run user code\n    __backend_agg_user_code_fn()\n\n    #reset display function\n    display = __backend_agg_display_orig\n\n    if len(__backend_agg_dfs) > 0:\n        # create a temp view\n        if type(__backend_agg_dfs[0]).__module__ == \"databricks.koalas.frame\":\n            # koalas dataframe\n            __backend_agg_dfs[0].to_spark().createOrReplaceTempView(\"DatabricksViewb1c3949\")\n        elif type(__backend_agg_dfs[0]).__module__ == \"pandas.core.frame\" or isinstance(__backend_agg_dfs[0], list):\n            # pandas dataframe\n            spark.createDataFrame(__backend_agg_dfs[0]).createOrReplaceTempView(\"DatabricksViewb1c3949\")\n        else:\n            __backend_agg_dfs[0].createOrReplaceTempView(\"DatabricksViewb1c3949\")\n        #run backend agg\n        display(spark.sql(\"\"\"WITH q AS (select * from DatabricksViewb1c3949) SELECT `Date`,SUM(`Total Revenue`) `column_31fb3f5a37` FROM q GROUP BY `Date`\"\"\"))\n    else:\n        displayHTML(\"dataframe no longer exists. If you're using dataframe.display(), use display(dataframe) instead.\")\n\n\nfinally:\n    spark.sql(\"drop view if exists DatabricksViewb1c3949\")\n    display = __backend_agg_display_orig\n    del __backend_agg_display_new\n    del __backend_agg_display_orig\n    del __backend_agg_dfs\n    del __backend_agg_user_code_fn\n\n",
       "commandTitle": "Visualization 1",
       "commandType": "auto",
       "commandVersion": 0,
       "commentThread": [],
       "commentsVisible": false,
       "contentSha256Hex": null,
       "customPlotOptions": {
        "redashChart": [
         {
          "key": "type",
          "value": "CHART"
         },
         {
          "key": "options",
          "value": {
           "alignYAxesAtZero": true,
           "coefficient": 1,
           "columnConfigurationMap": {
            "x": {
             "column": "Date",
             "id": "column_31fb3f5a36"
            },
            "y": [
             {
              "column": "Total Revenue",
              "id": "column_31fb3f5a37",
              "transform": "SUM"
             }
            ]
           },
           "dateTimeFormat": "DD/MM/YYYY HH:mm",
           "direction": {
            "type": "counterclockwise"
           },
           "error_y": {
            "type": "data",
            "visible": true
           },
           "globalSeriesType": "area",
           "hideXAxis": false,
           "isAggregationOn": true,
           "legend": {
            "traceorder": "normal"
           },
           "missingValuesAsZero": true,
           "numberFormat": "0,0.[00000]",
           "percentFormat": "0[.]00%",
           "reverseX": false,
           "series": {
            "error_y": {
             "type": "data",
             "visible": true
            },
            "stacking": null
           },
           "seriesOptions": {
            "column_31fb3f5a37": {
             "color": "#00B6EB",
             "name": "Total Revenue",
             "type": "area",
             "yAxis": 0
            }
           },
           "showDataLabels": false,
           "sizemode": "diameter",
           "sortX": true,
           "sortY": true,
           "swappedAxes": false,
           "textFormat": "",
           "useAggregationsUi": true,
           "valuesOptions": {},
           "version": 2,
           "xAxis": {
            "labels": {
             "enabled": true
            },
            "title": {
             "text": "Month"
            },
            "type": "-"
           },
           "yAxis": [
            {
             "type": "-"
            },
            {
             "opposite": true,
             "type": "-"
            }
           ]
          }
         }
        ]
       },
       "datasetPreviewNameToCmdIdMap": {},
       "diffDeletes": [],
       "diffInserts": [],
       "displayType": "redashChart",
       "error": null,
       "errorDetails": null,
       "errorSummary": null,
       "errorTraceType": null,
       "finishTime": 0,
       "globalVars": {},
       "guid": "",
       "height": "auto",
       "hideCommandCode": false,
       "hideCommandResult": false,
       "iPythonMetadata": null,
       "inputWidgets": {},
       "isLockedInExamMode": false,
       "latestUser": "a user",
       "latestUserId": null,
       "listResultMetadata": null,
       "metadata": {
        "byteLimit": 2048000,
        "rowLimit": 10000
       },
       "nuid": "d4ed4f78-3ec7-49c3-ac87-62b51046faef",
       "origId": 0,
       "parentHierarchy": [],
       "pivotAggregation": null,
       "pivotColumns": null,
       "position": 6.0,
       "resultDbfsErrorMessage": null,
       "resultDbfsStatus": "INLINED_IN_TREE",
       "results": null,
       "showCommandTitle": false,
       "startTime": 0,
       "state": "input",
       "streamStates": {},
       "subcommandOptions": {
        "queryPlan": {
         "groups": [
          {
           "column": "Date",
           "type": "column"
          }
         ],
         "selects": [
          {
           "column": "Date",
           "type": "column"
          },
          {
           "alias": "column_31fb3f5a37",
           "args": [
            {
             "column": "Total Revenue",
             "type": "column"
            }
           ],
           "function": "SUM",
           "type": "function"
          }
         ]
        }
       },
       "submitTime": 0,
       "subtype": "tableResultSubCmd.visualization",
       "tableResultIndex": 0,
       "useConsistentColors": false,
       "version": "CommandV1",
       "width": "auto",
       "workflows": [],
       "xColumns": null,
       "yColumns": null
      }
     },
     "output_type": "display_data"
    }
   ],
   "source": [
    "df2=df.withColumn(\"Date\",F.date_format('Date','yyyy-MM'))\n",
    "df2=df2.groupBy(\"Date\").agg(F.round(sum(\"Total Revenue\"),2).alias(\"Total Revenue\")).orderBy(\"Date\")\n",
    "df2.display()"
   ]
  },
  {
   "cell_type": "markdown",
   "metadata": {
    "application/vnd.databricks.v1+cell": {
     "cellMetadata": {
      "byteLimit": 2048000,
      "rowLimit": 10000
     },
     "inputWidgets": {},
     "nuid": "2de2e05a-c89b-4dcc-869b-3eaf8519150f",
     "showTitle": false,
     "title": ""
    }
   },
   "source": [
    "Products popularity across region"
   ]
  },
  {
   "cell_type": "code",
   "execution_count": 0,
   "metadata": {
    "application/vnd.databricks.v1+cell": {
     "cellMetadata": {
      "byteLimit": 2048000,
      "rowLimit": 10000
     },
     "inputWidgets": {},
     "nuid": "6d4abed3-d91e-4328-bc42-ab084eb2ae8f",
     "showTitle": false,
     "title": ""
    }
   },
   "outputs": [
    {
     "output_type": "display_data",
     "data": {
      "text/html": [
       "<style scoped>\n",
       "  .table-result-container {\n",
       "    max-height: 300px;\n",
       "    overflow: auto;\n",
       "  }\n",
       "  table, th, td {\n",
       "    border: 1px solid black;\n",
       "    border-collapse: collapse;\n",
       "  }\n",
       "  th, td {\n",
       "    padding: 5px;\n",
       "  }\n",
       "  th {\n",
       "    text-align: left;\n",
       "  }\n",
       "</style><div class='table-result-container'><table class='table-result'><thead style='background-color: white'><tr><th>Region</th><th>Product Category</th><th>round(sum(Total Revenue), 2)</th></tr></thead><tbody><tr><td>Asia</td><td>Sports</td><td>14326.52</td></tr><tr><td>Asia</td><td>Clothing</td><td>8128.93</td></tr><tr><td>North America</td><td>Electronics</td><td>34982.41</td></tr><tr><td>Europe</td><td>Home Appliances</td><td>18646.16</td></tr><tr><td>North America</td><td>Books</td><td>1861.93</td></tr><tr><td>Europe</td><td>Beauty Products</td><td>2621.9</td></tr></tbody></table></div>"
      ]
     },
     "metadata": {
      "application/vnd.databricks.v1+output": {
       "addedWidgets": {},
       "aggData": [],
       "aggError": "",
       "aggOverflow": false,
       "aggSchema": [],
       "aggSeriesLimitReached": false,
       "aggType": "",
       "arguments": {},
       "columnCustomDisplayInfos": {},
       "data": [
        [
         "Asia",
         "Sports",
         14326.52
        ],
        [
         "Asia",
         "Clothing",
         8128.93
        ],
        [
         "North America",
         "Electronics",
         34982.41
        ],
        [
         "Europe",
         "Home Appliances",
         18646.16
        ],
        [
         "North America",
         "Books",
         1861.93
        ],
        [
         "Europe",
         "Beauty Products",
         2621.9
        ]
       ],
       "datasetInfos": [],
       "dbfsResultPath": null,
       "isJsonSchema": true,
       "metadata": {},
       "overflow": false,
       "plotOptions": {
        "customPlotOptions": {},
        "displayType": "table",
        "pivotAggregation": null,
        "pivotColumns": null,
        "xColumns": null,
        "yColumns": null
       },
       "removedWidgets": [],
       "schema": [
        {
         "metadata": "{}",
         "name": "Region",
         "type": "\"string\""
        },
        {
         "metadata": "{}",
         "name": "Product Category",
         "type": "\"string\""
        },
        {
         "metadata": "{}",
         "name": "round(sum(Total Revenue), 2)",
         "type": "\"double\""
        }
       ],
       "type": "table"
      }
     },
     "output_type": "display_data"
    },
    {
     "output_type": "display_data",
     "data": {
      "text/plain": [
       "Databricks visualization. Run in Databricks to view."
      ]
     },
     "metadata": {
      "application/vnd.databricks.v1.subcommand+json": {
       "baseErrorDetails": null,
       "bindings": {},
       "collapsed": false,
       "command": "%python\n__backend_agg_display_orig = display\n__backend_agg_dfs = []\ndef __backend_agg_display_new(df):\n    __backend_agg_df_modules = [\"pandas.core.frame\", \"databricks.koalas.frame\", \"pyspark.sql.dataframe\", \"pyspark.pandas.frame\", \"pyspark.sql.connect.dataframe\"]\n    if (type(df).__module__ in __backend_agg_df_modules and type(df).__name__ == 'DataFrame') or isinstance(df, list):\n        __backend_agg_dfs.append(df)\n\ndisplay = __backend_agg_display_new\n\ndef __backend_agg_user_code_fn():\n    import base64\n    exec(base64.standard_b64decode(\"ZGYzPWRmLmdyb3VwQnkoIlJlZ2lvbiIsIlByb2R1Y3QgQ2F0ZWdvcnkiKS5hZ2coRi5zdW0oIlRvdGFsIFJldmVudWUiKSkKZGYzLmRpc3BsYXkoKQ==\").decode())\n\ntry:\n    # run user code\n    __backend_agg_user_code_fn()\n\n    #reset display function\n    display = __backend_agg_display_orig\n\n    if len(__backend_agg_dfs) > 0:\n        # create a temp view\n        if type(__backend_agg_dfs[0]).__module__ == \"databricks.koalas.frame\":\n            # koalas dataframe\n            __backend_agg_dfs[0].to_spark().createOrReplaceTempView(\"DatabricksView48e4f5f\")\n        elif type(__backend_agg_dfs[0]).__module__ == \"pandas.core.frame\" or isinstance(__backend_agg_dfs[0], list):\n            # pandas dataframe\n            spark.createDataFrame(__backend_agg_dfs[0]).createOrReplaceTempView(\"DatabricksView48e4f5f\")\n        else:\n            __backend_agg_dfs[0].createOrReplaceTempView(\"DatabricksView48e4f5f\")\n        #run backend agg\n        display(spark.sql(\"\"\"WITH q AS (select * from DatabricksView48e4f5f) SELECT `Region`,`Product Category`,SUM(`sum(Total Revenue)`) `column_31fb3f5a46` FROM q GROUP BY `Product Category`,`Region`\"\"\"))\n    else:\n        displayHTML(\"dataframe no longer exists. If you're using dataframe.display(), use display(dataframe) instead.\")\n\n\nfinally:\n    spark.sql(\"drop view if exists DatabricksView48e4f5f\")\n    display = __backend_agg_display_orig\n    del __backend_agg_display_new\n    del __backend_agg_display_orig\n    del __backend_agg_dfs\n    del __backend_agg_user_code_fn\n\n",
       "commandTitle": "Visualization 1",
       "commandType": "auto",
       "commandVersion": 0,
       "commentThread": [],
       "commentsVisible": false,
       "contentSha256Hex": null,
       "customPlotOptions": {
        "redashChart": [
         {
          "key": "type",
          "value": "CHART"
         },
         {
          "key": "options",
          "value": {
           "alignYAxesAtZero": true,
           "coefficient": 1,
           "columnConfigurationMap": {
            "series": {
             "column": "Product Category",
             "id": "column_31fb3f5a45"
            },
            "x": {
             "column": "Region",
             "id": "column_31fb3f5a44"
            },
            "y": [
             {
              "column": "sum(Total Revenue)",
              "id": "column_31fb3f5a46",
              "transform": "SUM"
             }
            ]
           },
           "dateTimeFormat": "DD/MM/YYYY HH:mm",
           "direction": {
            "type": "counterclockwise"
           },
           "error_y": {
            "type": "data",
            "visible": true
           },
           "globalSeriesType": "column",
           "isAggregationOn": true,
           "legend": {
            "traceorder": "normal"
           },
           "missingValuesAsZero": true,
           "numberFormat": "0,0.[00000]",
           "percentFormat": "0[.]00%",
           "series": {
            "error_y": {
             "type": "data",
             "visible": true
            },
            "stacking": "stack"
           },
           "seriesOptions": {
            "column_31fb3f5a46": {
             "name": "sum(Total Revenue)",
             "yAxis": 0
            }
           },
           "showDataLabels": false,
           "sizemode": "diameter",
           "sortX": true,
           "sortY": true,
           "swappedAxes": false,
           "textFormat": "",
           "useAggregationsUi": true,
           "valuesOptions": {},
           "version": 2,
           "xAxis": {
            "labels": {
             "enabled": true
            },
            "type": "-"
           },
           "yAxis": [
            {
             "title": {
              "text": "Total Revenue"
             },
             "type": "-"
            },
            {
             "opposite": true,
             "type": "-"
            }
           ]
          }
         }
        ]
       },
       "datasetPreviewNameToCmdIdMap": {},
       "diffDeletes": [],
       "diffInserts": [],
       "displayType": "redashChart",
       "error": null,
       "errorDetails": null,
       "errorSummary": null,
       "errorTraceType": null,
       "finishTime": 0,
       "globalVars": {},
       "guid": "",
       "height": "auto",
       "hideCommandCode": false,
       "hideCommandResult": false,
       "iPythonMetadata": null,
       "inputWidgets": {},
       "isLockedInExamMode": false,
       "latestUser": "a user",
       "latestUserId": null,
       "listResultMetadata": null,
       "metadata": {
        "byteLimit": 2048000,
        "rowLimit": 10000
       },
       "nuid": "bfa929ab-5c82-443b-84d5-5831957843b4",
       "origId": 0,
       "parentHierarchy": [],
       "pivotAggregation": null,
       "pivotColumns": null,
       "position": 8.0,
       "resultDbfsErrorMessage": null,
       "resultDbfsStatus": "INLINED_IN_TREE",
       "results": null,
       "showCommandTitle": false,
       "startTime": 0,
       "state": "input",
       "streamStates": {},
       "subcommandOptions": {
        "queryPlan": {
         "groups": [
          {
           "column": "Region",
           "type": "column"
          },
          {
           "column": "Product Category",
           "type": "column"
          }
         ],
         "selects": [
          {
           "column": "Region",
           "type": "column"
          },
          {
           "column": "Product Category",
           "type": "column"
          },
          {
           "alias": "column_31fb3f5a46",
           "args": [
            {
             "column": "sum(Total Revenue)",
             "type": "column"
            }
           ],
           "function": "SUM",
           "type": "function"
          }
         ]
        }
       },
       "submitTime": 0,
       "subtype": "tableResultSubCmd.visualization",
       "tableResultIndex": 0,
       "useConsistentColors": false,
       "version": "CommandV1",
       "width": "auto",
       "workflows": [],
       "xColumns": null,
       "yColumns": null
      }
     },
     "output_type": "display_data"
    }
   ],
   "source": [
    "df3=df.groupBy(\"Region\",\"Product Category\").agg(F.round(sum(\"Total Revenue\"),2))\n",
    "df3.display()"
   ]
  },
  {
   "cell_type": "markdown",
   "metadata": {
    "application/vnd.databricks.v1+cell": {
     "cellMetadata": {},
     "inputWidgets": {},
     "nuid": "099e984a-9da2-4d12-8b46-f6dd05340c4a",
     "showTitle": false,
     "title": ""
    }
   },
   "source": [
    "Payment method used across region for buying products"
   ]
  },
  {
   "cell_type": "code",
   "execution_count": 0,
   "metadata": {
    "application/vnd.databricks.v1+cell": {
     "cellMetadata": {
      "byteLimit": 2048000,
      "rowLimit": 10000
     },
     "inputWidgets": {},
     "nuid": "117a8668-6587-488c-9b3a-0c44cbe6f150",
     "showTitle": false,
     "title": ""
    }
   },
   "outputs": [
    {
     "output_type": "display_data",
     "data": {
      "text/html": [
       "<style scoped>\n",
       "  .table-result-container {\n",
       "    max-height: 300px;\n",
       "    overflow: auto;\n",
       "  }\n",
       "  table, th, td {\n",
       "    border: 1px solid black;\n",
       "    border-collapse: collapse;\n",
       "  }\n",
       "  th, td {\n",
       "    padding: 5px;\n",
       "  }\n",
       "  th {\n",
       "    text-align: left;\n",
       "  }\n",
       "</style><div class='table-result-container'><table class='table-result'><thead style='background-color: white'><tr><th>Region</th><th>Payment Method</th><th>sum(Total Revenue)</th></tr></thead><tbody><tr><td>Asia</td><td>Credit Card</td><td>14326.519999999997</td></tr><tr><td>Asia</td><td>Debit Card</td><td>8128.930000000001</td></tr><tr><td>North America</td><td>Credit Card</td><td>36844.34000000002</td></tr><tr><td>Europe</td><td>PayPal</td><td>21268.060000000005</td></tr></tbody></table></div>"
      ]
     },
     "metadata": {
      "application/vnd.databricks.v1+output": {
       "addedWidgets": {},
       "aggData": [],
       "aggError": "",
       "aggOverflow": false,
       "aggSchema": [],
       "aggSeriesLimitReached": false,
       "aggType": "",
       "arguments": {},
       "columnCustomDisplayInfos": {},
       "data": [
        [
         "Asia",
         "Credit Card",
         14326.519999999997
        ],
        [
         "Asia",
         "Debit Card",
         8128.930000000001
        ],
        [
         "North America",
         "Credit Card",
         36844.34000000002
        ],
        [
         "Europe",
         "PayPal",
         21268.060000000005
        ]
       ],
       "datasetInfos": [],
       "dbfsResultPath": null,
       "isJsonSchema": true,
       "metadata": {},
       "overflow": false,
       "plotOptions": {
        "customPlotOptions": {},
        "displayType": "table",
        "pivotAggregation": null,
        "pivotColumns": null,
        "xColumns": null,
        "yColumns": null
       },
       "removedWidgets": [],
       "schema": [
        {
         "metadata": "{}",
         "name": "Region",
         "type": "\"string\""
        },
        {
         "metadata": "{}",
         "name": "Payment Method",
         "type": "\"string\""
        },
        {
         "metadata": "{}",
         "name": "sum(Total Revenue)",
         "type": "\"double\""
        }
       ],
       "type": "table"
      }
     },
     "output_type": "display_data"
    },
    {
     "output_type": "display_data",
     "data": {
      "text/plain": [
       "Databricks visualization. Run in Databricks to view."
      ]
     },
     "metadata": {
      "application/vnd.databricks.v1.subcommand+json": {
       "baseErrorDetails": null,
       "bindings": {},
       "collapsed": false,
       "command": "%python\n__backend_agg_display_orig = display\n__backend_agg_dfs = []\ndef __backend_agg_display_new(df):\n    __backend_agg_df_modules = [\"pandas.core.frame\", \"databricks.koalas.frame\", \"pyspark.sql.dataframe\", \"pyspark.pandas.frame\", \"pyspark.sql.connect.dataframe\"]\n    if (type(df).__module__ in __backend_agg_df_modules and type(df).__name__ == 'DataFrame') or isinstance(df, list):\n        __backend_agg_dfs.append(df)\n\ndisplay = __backend_agg_display_new\n\ndef __backend_agg_user_code_fn():\n    import base64\n    exec(base64.standard_b64decode(\"ZGY0PWRmLmdyb3VwQnkoIlJlZ2lvbiIsIlBheW1lbnQgTWV0aG9kIikuYWdnKEYuc3VtKCJUb3RhbCBSZXZlbnVlIikpCmRmNC5kaXNwbGF5KCk=\").decode())\n\ntry:\n    # run user code\n    __backend_agg_user_code_fn()\n\n    #reset display function\n    display = __backend_agg_display_orig\n\n    if len(__backend_agg_dfs) > 0:\n        # create a temp view\n        if type(__backend_agg_dfs[0]).__module__ == \"databricks.koalas.frame\":\n            # koalas dataframe\n            __backend_agg_dfs[0].to_spark().createOrReplaceTempView(\"DatabricksView9f5eef2\")\n        elif type(__backend_agg_dfs[0]).__module__ == \"pandas.core.frame\" or isinstance(__backend_agg_dfs[0], list):\n            # pandas dataframe\n            spark.createDataFrame(__backend_agg_dfs[0]).createOrReplaceTempView(\"DatabricksView9f5eef2\")\n        else:\n            __backend_agg_dfs[0].createOrReplaceTempView(\"DatabricksView9f5eef2\")\n        #run backend agg\n        display(spark.sql(\"\"\"WITH q AS (select * from DatabricksView9f5eef2) SELECT `Region`,`Payment Method`,SUM(`sum(Total Revenue)`) `column_31fb3f5a59` FROM q GROUP BY `Payment Method`,`Region`\"\"\"))\n    else:\n        displayHTML(\"dataframe no longer exists. If you're using dataframe.display(), use display(dataframe) instead.\")\n\n\nfinally:\n    spark.sql(\"drop view if exists DatabricksView9f5eef2\")\n    display = __backend_agg_display_orig\n    del __backend_agg_display_new\n    del __backend_agg_display_orig\n    del __backend_agg_dfs\n    del __backend_agg_user_code_fn\n\n",
       "commandTitle": "Visualization 1",
       "commandType": "auto",
       "commandVersion": 0,
       "commentThread": [],
       "commentsVisible": false,
       "contentSha256Hex": null,
       "customPlotOptions": {
        "redashChart": [
         {
          "key": "type",
          "value": "CHART"
         },
         {
          "key": "options",
          "value": {
           "alignYAxesAtZero": true,
           "coefficient": 1,
           "columnConfigurationMap": {
            "series": {
             "column": "Payment Method",
             "id": "column_31fb3f5a58"
            },
            "x": {
             "column": "Region",
             "id": "column_31fb3f5a57"
            },
            "y": [
             {
              "column": "sum(Total Revenue)",
              "id": "column_31fb3f5a59",
              "transform": "SUM"
             }
            ]
           },
           "dateTimeFormat": "DD/MM/YYYY HH:mm",
           "direction": {
            "type": "counterclockwise"
           },
           "error_y": {
            "type": "data",
            "visible": true
           },
           "globalSeriesType": "column",
           "isAggregationOn": true,
           "legend": {
            "traceorder": "normal"
           },
           "missingValuesAsZero": true,
           "numberFormat": "0,0.[00000]",
           "percentFormat": "0[.]00%",
           "series": {
            "error_y": {
             "type": "data",
             "visible": true
            },
            "stacking": "stack"
           },
           "seriesOptions": {
            "Credit Card": {
             "color": "#00B6EB"
            },
            "Debit Card": {
             "color": "#A55F2A"
            },
            "column_31fb3f5a59": {
             "name": "sum(Total Revenue)",
             "yAxis": 0
            }
           },
           "showDataLabels": false,
           "sizemode": "diameter",
           "sortX": true,
           "sortY": true,
           "swappedAxes": false,
           "textFormat": "",
           "useAggregationsUi": true,
           "valuesOptions": {},
           "version": 2,
           "xAxis": {
            "labels": {
             "enabled": true
            },
            "type": "-"
           },
           "yAxis": [
            {
             "type": "-"
            },
            {
             "opposite": true,
             "type": "-"
            }
           ]
          }
         }
        ]
       },
       "datasetPreviewNameToCmdIdMap": {},
       "diffDeletes": [],
       "diffInserts": [],
       "displayType": "redashChart",
       "error": null,
       "errorDetails": null,
       "errorSummary": null,
       "errorTraceType": null,
       "finishTime": 0,
       "globalVars": {},
       "guid": "",
       "height": "auto",
       "hideCommandCode": false,
       "hideCommandResult": false,
       "iPythonMetadata": null,
       "inputWidgets": {},
       "isLockedInExamMode": false,
       "latestUser": "a user",
       "latestUserId": null,
       "listResultMetadata": null,
       "metadata": {
        "byteLimit": 2048000,
        "rowLimit": 10000
       },
       "nuid": "297f0ec1-3609-402d-a400-900bb4775f10",
       "origId": 0,
       "parentHierarchy": [],
       "pivotAggregation": null,
       "pivotColumns": null,
       "position": 8.5,
       "resultDbfsErrorMessage": null,
       "resultDbfsStatus": "INLINED_IN_TREE",
       "results": null,
       "showCommandTitle": false,
       "startTime": 0,
       "state": "finished",
       "streamStates": {},
       "subcommandOptions": {
        "queryPlan": {
         "groups": [
          {
           "column": "Region",
           "type": "column"
          },
          {
           "column": "Payment Method",
           "type": "column"
          }
         ],
         "selects": [
          {
           "column": "Region",
           "type": "column"
          },
          {
           "column": "Payment Method",
           "type": "column"
          },
          {
           "alias": "column_31fb3f5a59",
           "args": [
            {
             "column": "sum(Total Revenue)",
             "type": "column"
            }
           ],
           "function": "SUM",
           "type": "function"
          }
         ]
        }
       },
       "submitTime": 0,
       "subtype": "tableResultSubCmd.visualization",
       "tableResultIndex": 0,
       "useConsistentColors": false,
       "version": "CommandV1",
       "width": "auto",
       "workflows": [],
       "xColumns": null,
       "yColumns": null
      }
     },
     "output_type": "display_data"
    }
   ],
   "source": [
    "df4=df.groupBy(\"Region\",\"Payment Method\").agg(F.sum(\"Total Revenue\"))\n",
    "df4.display()"
   ]
  },
  {
   "cell_type": "markdown",
   "metadata": {
    "application/vnd.databricks.v1+cell": {
     "cellMetadata": {
      "byteLimit": 2048000,
      "rowLimit": 10000
     },
     "inputWidgets": {},
     "nuid": "a1cb9686-a4e8-4db3-aa2d-29718a317e6e",
     "showTitle": false,
     "title": ""
    }
   },
   "source": [
    "Top Selling product in each category region wise"
   ]
  },
  {
   "cell_type": "code",
   "execution_count": 0,
   "metadata": {
    "application/vnd.databricks.v1+cell": {
     "cellMetadata": {
      "byteLimit": 2048000,
      "rowLimit": 10000
     },
     "inputWidgets": {},
     "nuid": "52c23f5b-9b3c-4a3e-a8dd-31e07a5cc983",
     "showTitle": false,
     "title": ""
    }
   },
   "outputs": [
    {
     "output_type": "display_data",
     "data": {
      "text/html": [
       "<style scoped>\n",
       "  .table-result-container {\n",
       "    max-height: 300px;\n",
       "    overflow: auto;\n",
       "  }\n",
       "  table, th, td {\n",
       "    border: 1px solid black;\n",
       "    border-collapse: collapse;\n",
       "  }\n",
       "  th, td {\n",
       "    padding: 5px;\n",
       "  }\n",
       "  th {\n",
       "    text-align: left;\n",
       "  }\n",
       "</style><div class='table-result-container'><table class='table-result'><thead style='background-color: white'><tr><th>Product Category</th><th>Product Name</th><th>Region</th><th>Total Revenue</th></tr></thead><tbody><tr><td>Electronics</td><td>Canon EOS R5 Camera</td><td>North America</td><td>3899.99</td></tr><tr><td>Home Appliances</td><td>LG OLED TV</td><td>Europe</td><td>2599.98</td></tr><tr><td>Electronics</td><td>MacBook Pro 16-inch</td><td>North America</td><td>2499.99</td></tr><tr><td>Electronics</td><td>Apple MacBook Pro 16-inch</td><td>North America</td><td>2399.0</td></tr><tr><td>Electronics</td><td>iPhone 14 Pro</td><td>North America</td><td>1999.98</td></tr><tr><td>Sports</td><td>Peloton Bike</td><td>Asia</td><td>1895.0</td></tr><tr><td>Electronics</td><td>HP Spectre x360 Laptop</td><td>North America</td><td>1599.99</td></tr><tr><td>Home Appliances</td><td>Roomba i7+</td><td>Europe</td><td>1599.98</td></tr><tr><td>Electronics</td><td>Samsung Odyssey G9 Gaming Monitor</td><td>North America</td><td>1499.99</td></tr><tr><td>Electronics</td><td>Samsung Galaxy Tab S8</td><td>North America</td><td>1499.98</td></tr><tr><td>Electronics</td><td>Microsoft Surface Laptop 4</td><td>North America</td><td>1299.99</td></tr><tr><td>Electronics</td><td>Apple MacBook Air</td><td>North America</td><td>1199.99</td></tr><tr><td>Electronics</td><td>Samsung QLED 4K TV</td><td>North America</td><td>1199.99</td></tr><tr><td>Home Appliances</td><td>Blueair Classic 480i</td><td>Europe</td><td>1199.98</td></tr><tr><td>Electronics</td><td>Apple iPad Air</td><td>North America</td><td>1199.98</td></tr><tr><td>Electronics</td><td>Apple Watch Series 8</td><td>North America</td><td>1199.97</td></tr><tr><td>Electronics</td><td>GoPro HERO10 Black</td><td>North America</td><td>1199.97</td></tr><tr><td>Electronics</td><td>Sony WH-1000XM4 Headphones</td><td>North America</td><td>1049.97</td></tr><tr><td>Sports</td><td>Garmin Fenix 6X Pro</td><td>Asia</td><td>999.99</td></tr><tr><td>Electronics</td><td>Garmin Forerunner 945</td><td>North America</td><td>999.98</td></tr><tr><td>Electronics</td><td>Google Pixel 6 Pro</td><td>North America</td><td>899.99</td></tr><tr><td>Home Appliances</td><td>De'Longhi Magnifica Espresso Machine</td><td>Europe</td><td>899.99</td></tr><tr><td>Electronics</td><td>Bose SoundLink Revolve+ Speaker</td><td>North America</td><td>899.97</td></tr><tr><td>Electronics</td><td>Nintendo Switch</td><td>North America</td><td>899.97</td></tr><tr><td>Home Appliances</td><td>Dyson Supersonic Hair Dryer</td><td>Europe</td><td>799.98</td></tr><tr><td>Electronics</td><td>Canon EOS Rebel T7i DSLR Camera</td><td>North America</td><td>749.99</td></tr><tr><td>Sports</td><td>Bowflex SelectTech 1090 Adjustable Dumbbells</td><td>Asia</td><td>699.99</td></tr><tr><td>Electronics</td><td>Samsung Odyssey G7 Gaming Monitor</td><td>North America</td><td>699.99</td></tr><tr><td>Home Appliances</td><td>Shark IQ Robot Vacuum</td><td>Europe</td><td>699.98</td></tr><tr><td>Sports</td><td>Fitbit Versa 3</td><td>Asia</td><td>689.85</td></tr><tr><td>Home Appliances</td><td>Eufy RoboVac 11S</td><td>Europe</td><td>659.97</td></tr><tr><td>Electronics</td><td>Google Pixelbook Go</td><td>North America</td><td>649.99</td></tr><tr><td>Sports</td><td>Garmin Forerunner 945</td><td>Asia</td><td>599.99</td></tr><tr><td>Sports</td><td>Garmin Edge 530</td><td>Asia</td><td>599.98</td></tr><tr><td>Sports</td><td>Babolat Pure Drive Tennis Racket</td><td>Asia</td><td>599.97</td></tr><tr><td>Home Appliances</td><td>Breville Smart Grill</td><td>Europe</td><td>599.9</td></tr><tr><td>Home Appliances</td><td>Anova Precision Oven</td><td>Europe</td><td>599.0</td></tr><tr><td>Electronics</td><td>Apple AirPods Max</td><td>North America</td><td>549.0</td></tr><tr><td>Clothing</td><td>Nike Air Force 1</td><td>Asia</td><td>539.94</td></tr><tr><td>Home Appliances</td><td>Keurig K-Elite Coffee Maker</td><td>Europe</td><td>529.97</td></tr><tr><td>Home Appliances</td><td>Dyson Pure Cool Link</td><td>Europe</td><td>499.99</td></tr><tr><td>Home Appliances</td><td>Dyson V11 Vacuum</td><td>Europe</td><td>499.99</td></tr><tr><td>Home Appliances</td><td>KitchenAid Artisan Stand Mixer</td><td>Europe</td><td>499.99</td></tr><tr><td>Electronics</td><td>Sony PlayStation 5</td><td>North America</td><td>499.99</td></tr><tr><td>Electronics</td><td>Apple AirPods Pro</td><td>North America</td><td>499.98</td></tr><tr><td>Clothing</td><td>North Face Down Jacket</td><td>Asia</td><td>499.98</td></tr><tr><td>Home Appliances</td><td>Breville Nespresso Creatista Plus</td><td>Europe</td><td>499.95</td></tr><tr><td>Sports</td><td>Polar Vantage V2</td><td>Asia</td><td>499.95</td></tr><tr><td>Sports</td><td>Manduka PRO Yoga Mat</td><td>Asia</td><td>479.96</td></tr><tr><td>Clothing</td><td>Ray-Ban Aviator Sunglasses</td><td>Asia</td><td>464.97</td></tr><tr><td>Home Appliances</td><td>Philips Sonicare DiamondClean Toothbrush</td><td>Europe</td><td>459.98</td></tr><tr><td>Electronics</td><td>Google Nest Hub Max</td><td>North America</td><td>459.98</td></tr><tr><td>Home Appliances</td><td>iRobot Braava Jet M6</td><td>Europe</td><td>449.99</td></tr><tr><td>Sports</td><td>GoPro HERO9 Black</td><td>Asia</td><td>449.99</td></tr><tr><td>Home Appliances</td><td>Dyson V8 Absolute</td><td>Europe</td><td>399.99</td></tr><tr><td>Sports</td><td>Bowflex SelectTech 552 Dumbbells</td><td>Asia</td><td>399.99</td></tr><tr><td>Beauty Products</td><td>Dyson Supersonic Hair Dryer</td><td>Europe</td><td>399.99</td></tr><tr><td>Sports</td><td>Yeti Tundra Haul Portable Wheeled Cooler</td><td>Asia</td><td>399.99</td></tr><tr><td>Home Appliances</td><td>Philips Airfryer XXL</td><td>Europe</td><td>399.98</td></tr><tr><td>Home Appliances</td><td>Ninja Foodi Pressure Cooker</td><td>Europe</td><td>399.98</td></tr><tr><td>Home Appliances</td><td>Cuisinart Coffee Center</td><td>Europe</td><td>399.9</td></tr><tr><td>Electronics</td><td>Sonos Beam Soundbar</td><td>North America</td><td>399.0</td></tr><tr><td>Home Appliances</td><td>Anova Precision Cooker</td><td>Europe</td><td>398.0</td></tr><tr><td>Sports</td><td>Nike Metcon 6</td><td>Asia</td><td>389.97</td></tr><tr><td>Home Appliances</td><td>KitchenAid Stand Mixer</td><td>Europe</td><td>379.99</td></tr><tr><td>Clothing</td><td>Adidas Ultraboost Shoes</td><td>Asia</td><td>359.98</td></tr><tr><td>Clothing</td><td>Adidas Ultraboost Running Shoes</td><td>Asia</td><td>359.98</td></tr><tr><td>Electronics</td><td>Apple TV 4K</td><td>North America</td><td>358.0</td></tr><tr><td>Sports</td><td>YETI Tundra 65 Cooler</td><td>Asia</td><td>349.99</td></tr><tr><td>Home Appliances</td><td>Vitamix Explorian Blender</td><td>Europe</td><td>349.99</td></tr><tr><td>Sports</td><td>Hyperice Hypervolt Massager</td><td>Asia</td><td>349.0</td></tr><tr><td>Clothing</td><td>Adidas Originals Superstar Sneakers</td><td>Asia</td><td>319.96</td></tr><tr><td>Electronics</td><td>Samsung Galaxy Watch 4</td><td>North America</td><td>299.99</td></tr><tr><td>Sports</td><td>YETI Tundra 45 Cooler</td><td>Asia</td><td>299.99</td></tr><tr><td>Electronics</td><td>Bose QuietComfort 35 Headphones</td><td>North America</td><td>299.99</td></tr><tr><td>Sports</td><td>Garmin Forerunner 245</td><td>Asia</td><td>299.99</td></tr><tr><td>Home Appliances</td><td>Breville Smart Oven</td><td>Europe</td><td>299.99</td></tr><tr><td>Sports</td><td>Bose SoundSport Wireless Earbuds</td><td>Asia</td><td>299.98</td></tr><tr><td>Sports</td><td>Fitbit Luxe</td><td>Asia</td><td>299.9</td></tr><tr><td>Electronics</td><td>Bose QuietComfort 35 II Wireless Headphones</td><td>North America</td><td>299.0</td></tr><tr><td>Clothing</td><td>Lululemon Align Leggings</td><td>Asia</td><td>294.0</td></tr><tr><td>Home Appliances</td><td>Instant Pot Duo Evo Plus</td><td>Europe</td><td>279.98</td></tr><tr><td>Clothing</td><td>Patagonia Better Sweater</td><td>Asia</td><td>279.98</td></tr><tr><td>Clothing</td><td>Nike Air Force 1 Sneakers</td><td>Asia</td><td>270.0</td></tr><tr><td>Home Appliances</td><td>Instant Pot Duo</td><td>Europe</td><td>269.97</td></tr><tr><td>Electronics</td><td>Kindle Paperwhite</td><td>North America</td><td>259.98</td></tr><tr><td>Sports</td><td>On Running Cloud Shoes</td><td>Asia</td><td>259.98</td></tr><tr><td>Sports</td><td>Nike Air Zoom Pegasus 37</td><td>Asia</td><td>259.98</td></tr><tr><td>Sports</td><td>Fitbit Charge 5</td><td>Asia</td><td>259.98</td></tr><tr><td>Clothing</td><td>Adidas Originals Trefoil Hoodie</td><td>Asia</td><td>259.96</td></tr><tr><td>Electronics</td><td>Amazon Echo Show 10</td><td>North America</td><td>249.99</td></tr><tr><td>Sports</td><td>YETI Hopper Flip Portable Cooler</td><td>Asia</td><td>249.99</td></tr><tr><td>Sports</td><td>Titleist Pro V1 Golf Balls</td><td>Asia</td><td>249.95</td></tr><tr><td>Clothing</td><td>Tommy Hilfiger Polo Shirt</td><td>Asia</td><td>249.95</td></tr><tr><td>Clothing</td><td>Uniqlo Ultra Light Down Jacket</td><td>Asia</td><td>239.97</td></tr><tr><td>Clothing</td><td>Puma Suede Classic Sneakers</td><td>Asia</td><td>239.96</td></tr><tr><td>Electronics</td><td>Anker PowerCore Portable Charger</td><td>North America</td><td>239.96</td></tr><tr><td>Clothing</td><td>Columbia Fleece Jacket</td><td>Asia</td><td>239.96</td></tr><tr><td>Sports</td><td>Yeti Rambler Tumbler</td><td>Asia</td><td>239.94</td></tr><tr><td>Sports</td><td>Under Armour HOVR Sonic 4 Shoes</td><td>Asia</td><td>219.98</td></tr><tr><td>Sports</td><td>Rogue Fitness Kettlebell</td><td>Asia</td><td>209.97</td></tr><tr><td>Clothing</td><td>Levi's 501 Jeans</td><td>Asia</td><td>209.97</td></tr><tr><td>Home Appliances</td><td>Cuisinart Custom 14-Cup Food Processor</td><td>Europe</td><td>199.99</td></tr><tr><td>Home Appliances</td><td>Nespresso VertuoPlus</td><td>Europe</td><td>199.99</td></tr><tr><td>Electronics</td><td>Logitech G Pro X Wireless Gaming Headset</td><td>North America</td><td>199.99</td></tr><tr><td>Sports</td><td>Yeti Roadie 24 Cooler</td><td>Asia</td><td>199.99</td></tr><tr><td>Electronics</td><td>Logitech MX Master 3 Mouse</td><td>North America</td><td>199.98</td></tr><tr><td>Electronics</td><td>Amazon Echo Dot (4th Gen)</td><td>North America</td><td>199.96</td></tr><tr><td>Home Appliances</td><td>Breville Smart Coffee Grinder Pro</td><td>Europe</td><td>199.95</td></tr><tr><td>Sports</td><td>Fitbit Inspire 2</td><td>Asia</td><td>199.9</td></tr><tr><td>Clothing</td><td>Levi's Sherpa Trucker Jacket</td><td>Asia</td><td>196.0</td></tr><tr><td>Clothing</td><td>Lululemon Wunder Under High-Rise Leggings</td><td>Asia</td><td>196.0</td></tr><tr><td>Beauty Products</td><td>La Mer Crème de la Mer Moisturizer</td><td>Europe</td><td>190.0</td></tr><tr><td>Home Appliances</td><td>Instant Pot Duo Crisp</td><td>Europe</td><td>179.99</td></tr><tr><td>Home Appliances</td><td>Panasonic NN-SN966S Microwave</td><td>Europe</td><td>179.99</td></tr><tr><td>Clothing</td><td>Levi's Trucker Jacket</td><td>Asia</td><td>179.98</td></tr><tr><td>Clothing</td><td>Zara Summer Dress</td><td>Asia</td><td>179.97</td></tr><tr><td>Clothing</td><td>Gap 1969 Original Fit Jeans</td><td>Asia</td><td>179.97</td></tr><tr><td>Clothing</td><td>Levi's 511 Slim Fit Jeans</td><td>Asia</td><td>179.97</td></tr><tr><td>Sports</td><td>TRX All-in-One Suspension Training System</td><td>Asia</td><td>169.95</td></tr><tr><td>Electronics</td><td>Google Nest Wifi Router</td><td>North America</td><td>169.0</td></tr><tr><td>Clothing</td><td>Nike Sportswear Club Fleece Hoodie</td><td>Asia</td><td>164.97</td></tr><tr><td>Home Appliances</td><td>Nespresso Vertuo Next Coffee and Espresso Maker</td><td>Europe</td><td>159.99</td></tr><tr><td>Home Appliances</td><td>Cuisinart Griddler Deluxe</td><td>Europe</td><td>159.99</td></tr><tr><td>Home Appliances</td><td>Keurig K-Mini Coffee Maker</td><td>Europe</td><td>159.98</td></tr><tr><td>Sports</td><td>Hydro Flask Wide Mouth Water Bottle</td><td>Asia</td><td>159.8</td></tr><tr><td>Sports</td><td>Yeti Rambler Bottle</td><td>Asia</td><td>149.97</td></tr><tr><td>Clothing</td><td>Champion Reverse Weave Hoodie</td><td>Asia</td><td>149.97</td></tr><tr><td>Clothing</td><td>Gap High Rise Skinny Jeans</td><td>Asia</td><td>149.97</td></tr><tr><td>Electronics</td><td>Amazon Fire TV Stick 4K</td><td>North America</td><td>149.97</td></tr><tr><td>Clothing</td><td>Calvin Klein Boxer Briefs</td><td>Asia</td><td>149.95</td></tr><tr><td>Sports</td><td>Wilson Evolution Basketball</td><td>Asia</td><td>149.95</td></tr><tr><td>Clothing</td><td>Adidas 3-Stripes Shorts</td><td>Asia</td><td>149.95</td></tr><tr><td>Clothing</td><td>Under Armour HeatGear T-Shirt</td><td>Asia</td><td>149.95</td></tr><tr><td>Sports</td><td>Spalding NBA Street Basketball</td><td>Asia</td><td>149.94</td></tr><tr><td>Sports</td><td>Oakley Holbrook Sunglasses</td><td>Asia</td><td>146.0</td></tr><tr><td>Home Appliances</td><td>Instant Pot Ultra</td><td>Europe</td><td>139.99</td></tr><tr><td>Clothing</td><td>Nike Dri-FIT Training Shorts</td><td>Asia</td><td>139.96</td></tr><tr><td>Clothing</td><td>Gap Crewneck Sweatshirt</td><td>Asia</td><td>139.96</td></tr><tr><td>Clothing</td><td>Adidas Essential Track Pants</td><td>Asia</td><td>134.97</td></tr><tr><td>Books</td><td>The Silent Patient by Alex Michaelides</td><td>North America</td><td>134.95</td></tr><tr><td>Books</td><td>Becoming by Michelle Obama</td><td>North America</td><td>130.0</td></tr><tr><td>Beauty Products</td><td>Chanel No. 5 Perfume</td><td>Europe</td><td>129.99</td></tr><tr><td>Sports</td><td>Bose SoundLink Color Bluetooth Speaker II</td><td>Asia</td><td>129.0</td></tr><tr><td>Beauty Products</td><td>Tom Ford Black Orchid Perfume</td><td>Europe</td><td>125.0</td></tr><tr><td>Clothing</td><td>H&M Slim Fit Jeans</td><td>Asia</td><td>119.97</td></tr><tr><td>Clothing</td><td>Gap Essential Crewneck T-Shirt</td><td>Asia</td><td>119.94</td></tr><tr><td>Books</td><td>Salt, Fat, Acid, Heat by Samin Nosrat</td><td>North America</td><td>107.97</td></tr><tr><td>Beauty Products</td><td>Sunday Riley Good Genes</td><td>Europe</td><td>105.0</td></tr><tr><td>Beauty Products</td><td>Estee Lauder Advanced Night Repair</td><td>Europe</td><td>105.0</td></tr><tr><td>Clothing</td><td>Nike Tempo Running Shorts</td><td>Asia</td><td>104.97</td></tr><tr><td>Beauty Products</td><td>Lancome La Vie Est Belle</td><td>Europe</td><td>102.0</td></tr><tr><td>Beauty Products</td><td>Charlotte Tilbury Magic Cream</td><td>Europe</td><td>100.0</td></tr><tr><td>Electronics</td><td>Ring Video Doorbell</td><td>North America</td><td>99.99</td></tr><tr><td>Home Appliances</td><td>Ninja Professional Blender</td><td>Europe</td><td>99.99</td></tr><tr><td>Home Appliances</td><td>Crock-Pot 6-Quart Slow Cooker</td><td>Europe</td><td>99.98</td></tr><tr><td>Clothing</td><td>Under Armour Tech 2.0 T-Shirt</td><td>Asia</td><td>99.96</td></tr><tr><td>Home Appliances</td><td>Instant Pot Duo Nova</td><td>Europe</td><td>99.95</td></tr><tr><td>Clothing</td><td>Hanes ComfortSoft T-Shirt</td><td>Asia</td><td>99.9</td></tr><tr><td>Sports</td><td>Hydro Flask Standard Mouth Water Bottle</td><td>Asia</td><td>98.85</td></tr><tr><td>Home Appliances</td><td>Hamilton Beach FlexBrew Coffee Maker</td><td>Europe</td><td>89.99</td></tr><tr><td>Beauty Products</td><td>Neutrogena Skincare Set</td><td>Europe</td><td>89.99</td></tr><tr><td>Clothing</td><td>Old Navy Mid-Rise Rockstar Super Skinny Jeans</td><td>Asia</td><td>89.98</td></tr><tr><td>Sports</td><td>Adidas FIFA World Cup Football</td><td>Asia</td><td>89.97</td></tr><tr><td>Books</td><td>The Catcher in the Rye by J.D. Salinger</td><td>North America</td><td>88.93</td></tr><tr><td>Books</td><td>Educated by Tara Westover</td><td>North America</td><td>84.0</td></tr><tr><td>Beauty Products</td><td>Kiehl's Midnight Recovery Concentrate</td><td>Europe</td><td>82.0</td></tr><tr><td>Beauty Products</td><td>L'Oreal Revitalift Serum</td><td>Europe</td><td>79.98</td></tr><tr><td>Books</td><td>1984 by George Orwell</td><td>North America</td><td>79.96</td></tr><tr><td>Beauty Products</td><td>Caudalie Vinoperfect Radiance Serum</td><td>Europe</td><td>79.0</td></tr><tr><td>Beauty Products</td><td>Drunk Elephant C-Firma Day Serum</td><td>Europe</td><td>78.0</td></tr><tr><td>Books</td><td>Where the Crawdads Sing by Delia Owens</td><td>North America</td><td>75.96</td></tr><tr><td>Books</td><td>Harry Potter and the Sorcerer's Stone</td><td>North America</td><td>74.97</td></tr><tr><td>Books</td><td>Dune by Frank Herbert</td><td>North America</td><td>71.96</td></tr><tr><td>Sports</td><td>TriggerPoint GRID Foam Roller</td><td>Asia</td><td>69.98</td></tr><tr><td>Beauty Products</td><td>First Aid Beauty Ultra Repair Cream</td><td>Europe</td><td>68.0</td></tr><tr><td>Beauty Products</td><td>Tatcha The Water Cream</td><td>Europe</td><td>68.0</td></tr><tr><td>Books</td><td>Atomic Habits by James Clear</td><td>North America</td><td>67.96</td></tr><tr><td>Clothing</td><td>Forever 21 Graphic Tee</td><td>Asia</td><td>64.95</td></tr><tr><td>Books</td><td>The Da Vinci Code</td><td>North America</td><td>63.96</td></tr><tr><td>Sports</td><td>Yeti Rambler 20 oz Tumbler</td><td>Asia</td><td>59.98</td></tr><tr><td>Books</td><td>To Kill a Mockingbird by Harper Lee</td><td>North America</td><td>59.96</td></tr><tr><td>Clothing</td><td>Old Navy Relaxed-Fit T-Shirt</td><td>Asia</td><td>59.96</td></tr><tr><td>Clothing</td><td>Uniqlo Airism Mesh Boxer Briefs</td><td>Asia</td><td>59.6</td></tr><tr><td>Beauty Products</td><td>GlamGlow Supermud Clearing Treatment</td><td>Europe</td><td>59.0</td></tr><tr><td>Beauty Products</td><td>L'Occitane Shea Butter Hand Cream</td><td>Europe</td><td>58.0</td></tr><tr><td>Beauty Products</td><td>Sunday Riley Luna Sleeping Night Oil</td><td>Europe</td><td>55.0</td></tr><tr><td>Books</td><td>The Girl with the Dragon Tattoo by Stieg Larsson</td><td>North America</td><td>52.95</td></tr><tr><td>Beauty Products</td><td>Dr. Jart+ Cicapair Tiger Grass Color Correcting Treatment</td><td>Europe</td><td>52.0</td></tr><tr><td>Beauty Products</td><td>Clinique Moisture Surge</td><td>Europe</td><td>52.0</td></tr><tr><td>Books</td><td>The Great Alone by Kristin Hannah</td><td>North America</td><td>50.97</td></tr><tr><td>Beauty Products</td><td>Olay Regenerist Face Cream</td><td>Europe</td><td>49.99</td></tr><tr><td>Beauty Products</td><td>Shiseido Ultimate Sun Protector</td><td>Europe</td><td>49.0</td></tr><tr><td>Beauty Products</td><td>Anastasia Beverly Hills Brow Wiz</td><td>Europe</td><td>46.0</td></tr><tr><td>Books</td><td>Gone Girl by Gillian Flynn</td><td>North America</td><td>45.98</td></tr><tr><td>Books</td><td>The Subtle Art of Not Giving a F*ck by Mark Manson</td><td>North America</td><td>44.97</td></tr><tr><td>Books</td><td>The Alchemist by Paulo Coelho</td><td>North America</td><td>44.97</td></tr><tr><td>Books</td><td>The Girl on the Train by Paula Hawkins</td><td>North America</td><td>43.96</td></tr><tr><td>Clothing</td><td>Uniqlo Airism Seamless Boxer Briefs</td><td>Asia</td><td>39.6</td></tr><tr><td>Books</td><td>The Hobbit by J.R.R. Tolkien</td><td>North America</td><td>38.97</td></tr><tr><td>Books</td><td>Pride and Prejudice by Jane Austen</td><td>North America</td><td>38.97</td></tr><tr><td>Books</td><td>Sapiens: A Brief History of Humankind by Yuval Noah Harari</td><td>North America</td><td>37.98</td></tr><tr><td>Beauty Products</td><td>Youth to the People Superfood Antioxidant Cleanser</td><td>Europe</td><td>36.0</td></tr><tr><td>Beauty Products</td><td>Fenty Beauty Killawatt Highlighter</td><td>Europe</td><td>36.0</td></tr><tr><td>Books</td><td>The Sun Also Rises by Ernest Hemingway</td><td>North America</td><td>35.97</td></tr><tr><td>Books</td><td>The Hunger Games by Suzanne Collins</td><td>North America</td><td>35.96</td></tr><tr><td>Books</td><td>The Night Circus by Erin Morgenstern</td><td>North America</td><td>33.98</td></tr><tr><td>Books</td><td>The Outsiders by S.E. Hinton</td><td>North America</td><td>32.97</td></tr><tr><td>Books</td><td>The Handmaid's Tale by Margaret Atwood</td><td>North America</td><td>32.97</td></tr><tr><td>Beauty Products</td><td>Glossier Boy Brow</td><td>Europe</td><td>32.0</td></tr><tr><td>Beauty Products</td><td>NARS Radiant Creamy Concealer</td><td>Europe</td><td>30.0</td></tr><tr><td>Beauty Products</td><td>MAC Ruby Woo Lipstick</td><td>Europe</td><td>29.99</td></tr><tr><td>Beauty Products</td><td>CeraVe Hydrating Facial Cleanser</td><td>Europe</td><td>29.98</td></tr><tr><td>Books</td><td>The Goldfinch by Donna Tartt</td><td>North America</td><td>29.98</td></tr><tr><td>Books</td><td>Think and Grow Rich by Napoleon Hill</td><td>North America</td><td>29.97</td></tr><tr><td>Beauty Products</td><td>Paula's Choice Skin Perfecting 2% BHA Liquid Exfoliant</td><td>Europe</td><td>29.5</td></tr><tr><td>Beauty Products</td><td>Clinique Dramatically Different Moisturizing Lotion</td><td>Europe</td><td>29.5</td></tr><tr><td>Beauty Products</td><td>Tarte Shape Tape Concealer</td><td>Europe</td><td>27.0</td></tr><tr><td>Books</td><td>The Martian by Andy Weir</td><td>North America</td><td>25.98</td></tr><tr><td>Books</td><td>The Nightingale by Kristin Hannah</td><td>North America</td><td>25.98</td></tr><tr><td>Books</td><td>The Power of Now by Eckhart Tolle</td><td>North America</td><td>25.98</td></tr><tr><td>Beauty Products</td><td>Laneige Water Sleeping Mask</td><td>Europe</td><td>25.0</td></tr><tr><td>Beauty Products</td><td>Fresh Sugar Lip Treatment</td><td>Europe</td><td>24.0</td></tr><tr><td>Books</td><td>The Road by Cormac McCarthy</td><td>North America</td><td>23.98</td></tr><tr><td>Books</td><td>The Power of Habit by Charles Duhigg</td><td>North America</td><td>23.98</td></tr><tr><td>Books</td><td>The Art of War by Sun Tzu</td><td>North America</td><td>23.97</td></tr><tr><td>Books</td><td>The Great Gatsby by F. Scott Fitzgerald</td><td>North America</td><td>21.98</td></tr><tr><td>Beauty Products</td><td>Glossier Cloud Paint</td><td>Europe</td><td>18.0</td></tr><tr><td>Books</td><td>The Four Agreements by Don Miguel Ruiz</td><td>North America</td><td>17.98</td></tr><tr><td>Beauty Products</td><td>Neutrogena Hydro Boost Water Gel</td><td>Europe</td><td>16.99</td></tr><tr><td>Beauty Products</td><td>Biore UV Aqua Rich Watery Essence Sunscreen</td><td>Europe</td><td>15.0</td></tr><tr><td>Beauty Products</td><td>The Ordinary Hyaluronic Acid Serum</td><td>Europe</td><td>6.8</td></tr><tr><td>Beauty Products</td><td>The Ordinary Caffeine Solution 5% + EGCG</td><td>Europe</td><td>6.7</td></tr><tr><td>Beauty Products</td><td>The Ordinary Niacinamide Serum</td><td>Europe</td><td>6.5</td></tr></tbody></table></div>"
      ]
     },
     "metadata": {
      "application/vnd.databricks.v1+output": {
       "addedWidgets": {},
       "aggData": [],
       "aggError": "",
       "aggOverflow": false,
       "aggSchema": [],
       "aggSeriesLimitReached": false,
       "aggType": "",
       "arguments": {},
       "columnCustomDisplayInfos": {},
       "data": [
        [
         "Electronics",
         "Canon EOS R5 Camera",
         "North America",
         3899.99
        ],
        [
         "Home Appliances",
         "LG OLED TV",
         "Europe",
         2599.98
        ],
        [
         "Electronics",
         "MacBook Pro 16-inch",
         "North America",
         2499.99
        ],
        [
         "Electronics",
         "Apple MacBook Pro 16-inch",
         "North America",
         2399.0
        ],
        [
         "Electronics",
         "iPhone 14 Pro",
         "North America",
         1999.98
        ],
        [
         "Sports",
         "Peloton Bike",
         "Asia",
         1895.0
        ],
        [
         "Electronics",
         "HP Spectre x360 Laptop",
         "North America",
         1599.99
        ],
        [
         "Home Appliances",
         "Roomba i7+",
         "Europe",
         1599.98
        ],
        [
         "Electronics",
         "Samsung Odyssey G9 Gaming Monitor",
         "North America",
         1499.99
        ],
        [
         "Electronics",
         "Samsung Galaxy Tab S8",
         "North America",
         1499.98
        ],
        [
         "Electronics",
         "Microsoft Surface Laptop 4",
         "North America",
         1299.99
        ],
        [
         "Electronics",
         "Apple MacBook Air",
         "North America",
         1199.99
        ],
        [
         "Electronics",
         "Samsung QLED 4K TV",
         "North America",
         1199.99
        ],
        [
         "Home Appliances",
         "Blueair Classic 480i",
         "Europe",
         1199.98
        ],
        [
         "Electronics",
         "Apple iPad Air",
         "North America",
         1199.98
        ],
        [
         "Electronics",
         "Apple Watch Series 8",
         "North America",
         1199.97
        ],
        [
         "Electronics",
         "GoPro HERO10 Black",
         "North America",
         1199.97
        ],
        [
         "Electronics",
         "Sony WH-1000XM4 Headphones",
         "North America",
         1049.97
        ],
        [
         "Sports",
         "Garmin Fenix 6X Pro",
         "Asia",
         999.99
        ],
        [
         "Electronics",
         "Garmin Forerunner 945",
         "North America",
         999.98
        ],
        [
         "Electronics",
         "Google Pixel 6 Pro",
         "North America",
         899.99
        ],
        [
         "Home Appliances",
         "De'Longhi Magnifica Espresso Machine",
         "Europe",
         899.99
        ],
        [
         "Electronics",
         "Bose SoundLink Revolve+ Speaker",
         "North America",
         899.97
        ],
        [
         "Electronics",
         "Nintendo Switch",
         "North America",
         899.97
        ],
        [
         "Home Appliances",
         "Dyson Supersonic Hair Dryer",
         "Europe",
         799.98
        ],
        [
         "Electronics",
         "Canon EOS Rebel T7i DSLR Camera",
         "North America",
         749.99
        ],
        [
         "Sports",
         "Bowflex SelectTech 1090 Adjustable Dumbbells",
         "Asia",
         699.99
        ],
        [
         "Electronics",
         "Samsung Odyssey G7 Gaming Monitor",
         "North America",
         699.99
        ],
        [
         "Home Appliances",
         "Shark IQ Robot Vacuum",
         "Europe",
         699.98
        ],
        [
         "Sports",
         "Fitbit Versa 3",
         "Asia",
         689.85
        ],
        [
         "Home Appliances",
         "Eufy RoboVac 11S",
         "Europe",
         659.97
        ],
        [
         "Electronics",
         "Google Pixelbook Go",
         "North America",
         649.99
        ],
        [
         "Sports",
         "Garmin Forerunner 945",
         "Asia",
         599.99
        ],
        [
         "Sports",
         "Garmin Edge 530",
         "Asia",
         599.98
        ],
        [
         "Sports",
         "Babolat Pure Drive Tennis Racket",
         "Asia",
         599.97
        ],
        [
         "Home Appliances",
         "Breville Smart Grill",
         "Europe",
         599.9
        ],
        [
         "Home Appliances",
         "Anova Precision Oven",
         "Europe",
         599.0
        ],
        [
         "Electronics",
         "Apple AirPods Max",
         "North America",
         549.0
        ],
        [
         "Clothing",
         "Nike Air Force 1",
         "Asia",
         539.94
        ],
        [
         "Home Appliances",
         "Keurig K-Elite Coffee Maker",
         "Europe",
         529.97
        ],
        [
         "Home Appliances",
         "Dyson Pure Cool Link",
         "Europe",
         499.99
        ],
        [
         "Home Appliances",
         "Dyson V11 Vacuum",
         "Europe",
         499.99
        ],
        [
         "Home Appliances",
         "KitchenAid Artisan Stand Mixer",
         "Europe",
         499.99
        ],
        [
         "Electronics",
         "Sony PlayStation 5",
         "North America",
         499.99
        ],
        [
         "Electronics",
         "Apple AirPods Pro",
         "North America",
         499.98
        ],
        [
         "Clothing",
         "North Face Down Jacket",
         "Asia",
         499.98
        ],
        [
         "Home Appliances",
         "Breville Nespresso Creatista Plus",
         "Europe",
         499.95
        ],
        [
         "Sports",
         "Polar Vantage V2",
         "Asia",
         499.95
        ],
        [
         "Sports",
         "Manduka PRO Yoga Mat",
         "Asia",
         479.96
        ],
        [
         "Clothing",
         "Ray-Ban Aviator Sunglasses",
         "Asia",
         464.97
        ],
        [
         "Home Appliances",
         "Philips Sonicare DiamondClean Toothbrush",
         "Europe",
         459.98
        ],
        [
         "Electronics",
         "Google Nest Hub Max",
         "North America",
         459.98
        ],
        [
         "Home Appliances",
         "iRobot Braava Jet M6",
         "Europe",
         449.99
        ],
        [
         "Sports",
         "GoPro HERO9 Black",
         "Asia",
         449.99
        ],
        [
         "Home Appliances",
         "Dyson V8 Absolute",
         "Europe",
         399.99
        ],
        [
         "Sports",
         "Bowflex SelectTech 552 Dumbbells",
         "Asia",
         399.99
        ],
        [
         "Beauty Products",
         "Dyson Supersonic Hair Dryer",
         "Europe",
         399.99
        ],
        [
         "Sports",
         "Yeti Tundra Haul Portable Wheeled Cooler",
         "Asia",
         399.99
        ],
        [
         "Home Appliances",
         "Philips Airfryer XXL",
         "Europe",
         399.98
        ],
        [
         "Home Appliances",
         "Ninja Foodi Pressure Cooker",
         "Europe",
         399.98
        ],
        [
         "Home Appliances",
         "Cuisinart Coffee Center",
         "Europe",
         399.9
        ],
        [
         "Electronics",
         "Sonos Beam Soundbar",
         "North America",
         399.0
        ],
        [
         "Home Appliances",
         "Anova Precision Cooker",
         "Europe",
         398.0
        ],
        [
         "Sports",
         "Nike Metcon 6",
         "Asia",
         389.97
        ],
        [
         "Home Appliances",
         "KitchenAid Stand Mixer",
         "Europe",
         379.99
        ],
        [
         "Clothing",
         "Adidas Ultraboost Shoes",
         "Asia",
         359.98
        ],
        [
         "Clothing",
         "Adidas Ultraboost Running Shoes",
         "Asia",
         359.98
        ],
        [
         "Electronics",
         "Apple TV 4K",
         "North America",
         358.0
        ],
        [
         "Sports",
         "YETI Tundra 65 Cooler",
         "Asia",
         349.99
        ],
        [
         "Home Appliances",
         "Vitamix Explorian Blender",
         "Europe",
         349.99
        ],
        [
         "Sports",
         "Hyperice Hypervolt Massager",
         "Asia",
         349.0
        ],
        [
         "Clothing",
         "Adidas Originals Superstar Sneakers",
         "Asia",
         319.96
        ],
        [
         "Electronics",
         "Samsung Galaxy Watch 4",
         "North America",
         299.99
        ],
        [
         "Sports",
         "YETI Tundra 45 Cooler",
         "Asia",
         299.99
        ],
        [
         "Electronics",
         "Bose QuietComfort 35 Headphones",
         "North America",
         299.99
        ],
        [
         "Sports",
         "Garmin Forerunner 245",
         "Asia",
         299.99
        ],
        [
         "Home Appliances",
         "Breville Smart Oven",
         "Europe",
         299.99
        ],
        [
         "Sports",
         "Bose SoundSport Wireless Earbuds",
         "Asia",
         299.98
        ],
        [
         "Sports",
         "Fitbit Luxe",
         "Asia",
         299.9
        ],
        [
         "Electronics",
         "Bose QuietComfort 35 II Wireless Headphones",
         "North America",
         299.0
        ],
        [
         "Clothing",
         "Lululemon Align Leggings",
         "Asia",
         294.0
        ],
        [
         "Home Appliances",
         "Instant Pot Duo Evo Plus",
         "Europe",
         279.98
        ],
        [
         "Clothing",
         "Patagonia Better Sweater",
         "Asia",
         279.98
        ],
        [
         "Clothing",
         "Nike Air Force 1 Sneakers",
         "Asia",
         270.0
        ],
        [
         "Home Appliances",
         "Instant Pot Duo",
         "Europe",
         269.97
        ],
        [
         "Electronics",
         "Kindle Paperwhite",
         "North America",
         259.98
        ],
        [
         "Sports",
         "On Running Cloud Shoes",
         "Asia",
         259.98
        ],
        [
         "Sports",
         "Nike Air Zoom Pegasus 37",
         "Asia",
         259.98
        ],
        [
         "Sports",
         "Fitbit Charge 5",
         "Asia",
         259.98
        ],
        [
         "Clothing",
         "Adidas Originals Trefoil Hoodie",
         "Asia",
         259.96
        ],
        [
         "Electronics",
         "Amazon Echo Show 10",
         "North America",
         249.99
        ],
        [
         "Sports",
         "YETI Hopper Flip Portable Cooler",
         "Asia",
         249.99
        ],
        [
         "Sports",
         "Titleist Pro V1 Golf Balls",
         "Asia",
         249.95
        ],
        [
         "Clothing",
         "Tommy Hilfiger Polo Shirt",
         "Asia",
         249.95
        ],
        [
         "Clothing",
         "Uniqlo Ultra Light Down Jacket",
         "Asia",
         239.97
        ],
        [
         "Clothing",
         "Puma Suede Classic Sneakers",
         "Asia",
         239.96
        ],
        [
         "Electronics",
         "Anker PowerCore Portable Charger",
         "North America",
         239.96
        ],
        [
         "Clothing",
         "Columbia Fleece Jacket",
         "Asia",
         239.96
        ],
        [
         "Sports",
         "Yeti Rambler Tumbler",
         "Asia",
         239.94
        ],
        [
         "Sports",
         "Under Armour HOVR Sonic 4 Shoes",
         "Asia",
         219.98
        ],
        [
         "Sports",
         "Rogue Fitness Kettlebell",
         "Asia",
         209.97
        ],
        [
         "Clothing",
         "Levi's 501 Jeans",
         "Asia",
         209.97
        ],
        [
         "Home Appliances",
         "Cuisinart Custom 14-Cup Food Processor",
         "Europe",
         199.99
        ],
        [
         "Home Appliances",
         "Nespresso VertuoPlus",
         "Europe",
         199.99
        ],
        [
         "Electronics",
         "Logitech G Pro X Wireless Gaming Headset",
         "North America",
         199.99
        ],
        [
         "Sports",
         "Yeti Roadie 24 Cooler",
         "Asia",
         199.99
        ],
        [
         "Electronics",
         "Logitech MX Master 3 Mouse",
         "North America",
         199.98
        ],
        [
         "Electronics",
         "Amazon Echo Dot (4th Gen)",
         "North America",
         199.96
        ],
        [
         "Home Appliances",
         "Breville Smart Coffee Grinder Pro",
         "Europe",
         199.95
        ],
        [
         "Sports",
         "Fitbit Inspire 2",
         "Asia",
         199.9
        ],
        [
         "Clothing",
         "Levi's Sherpa Trucker Jacket",
         "Asia",
         196.0
        ],
        [
         "Clothing",
         "Lululemon Wunder Under High-Rise Leggings",
         "Asia",
         196.0
        ],
        [
         "Beauty Products",
         "La Mer Crème de la Mer Moisturizer",
         "Europe",
         190.0
        ],
        [
         "Home Appliances",
         "Instant Pot Duo Crisp",
         "Europe",
         179.99
        ],
        [
         "Home Appliances",
         "Panasonic NN-SN966S Microwave",
         "Europe",
         179.99
        ],
        [
         "Clothing",
         "Levi's Trucker Jacket",
         "Asia",
         179.98
        ],
        [
         "Clothing",
         "Zara Summer Dress",
         "Asia",
         179.97
        ],
        [
         "Clothing",
         "Gap 1969 Original Fit Jeans",
         "Asia",
         179.97
        ],
        [
         "Clothing",
         "Levi's 511 Slim Fit Jeans",
         "Asia",
         179.97
        ],
        [
         "Sports",
         "TRX All-in-One Suspension Training System",
         "Asia",
         169.95
        ],
        [
         "Electronics",
         "Google Nest Wifi Router",
         "North America",
         169.0
        ],
        [
         "Clothing",
         "Nike Sportswear Club Fleece Hoodie",
         "Asia",
         164.97
        ],
        [
         "Home Appliances",
         "Nespresso Vertuo Next Coffee and Espresso Maker",
         "Europe",
         159.99
        ],
        [
         "Home Appliances",
         "Cuisinart Griddler Deluxe",
         "Europe",
         159.99
        ],
        [
         "Home Appliances",
         "Keurig K-Mini Coffee Maker",
         "Europe",
         159.98
        ],
        [
         "Sports",
         "Hydro Flask Wide Mouth Water Bottle",
         "Asia",
         159.8
        ],
        [
         "Sports",
         "Yeti Rambler Bottle",
         "Asia",
         149.97
        ],
        [
         "Clothing",
         "Champion Reverse Weave Hoodie",
         "Asia",
         149.97
        ],
        [
         "Clothing",
         "Gap High Rise Skinny Jeans",
         "Asia",
         149.97
        ],
        [
         "Electronics",
         "Amazon Fire TV Stick 4K",
         "North America",
         149.97
        ],
        [
         "Clothing",
         "Calvin Klein Boxer Briefs",
         "Asia",
         149.95
        ],
        [
         "Sports",
         "Wilson Evolution Basketball",
         "Asia",
         149.95
        ],
        [
         "Clothing",
         "Adidas 3-Stripes Shorts",
         "Asia",
         149.95
        ],
        [
         "Clothing",
         "Under Armour HeatGear T-Shirt",
         "Asia",
         149.95
        ],
        [
         "Sports",
         "Spalding NBA Street Basketball",
         "Asia",
         149.94
        ],
        [
         "Sports",
         "Oakley Holbrook Sunglasses",
         "Asia",
         146.0
        ],
        [
         "Home Appliances",
         "Instant Pot Ultra",
         "Europe",
         139.99
        ],
        [
         "Clothing",
         "Nike Dri-FIT Training Shorts",
         "Asia",
         139.96
        ],
        [
         "Clothing",
         "Gap Crewneck Sweatshirt",
         "Asia",
         139.96
        ],
        [
         "Clothing",
         "Adidas Essential Track Pants",
         "Asia",
         134.97
        ],
        [
         "Books",
         "The Silent Patient by Alex Michaelides",
         "North America",
         134.95
        ],
        [
         "Books",
         "Becoming by Michelle Obama",
         "North America",
         130.0
        ],
        [
         "Beauty Products",
         "Chanel No. 5 Perfume",
         "Europe",
         129.99
        ],
        [
         "Sports",
         "Bose SoundLink Color Bluetooth Speaker II",
         "Asia",
         129.0
        ],
        [
         "Beauty Products",
         "Tom Ford Black Orchid Perfume",
         "Europe",
         125.0
        ],
        [
         "Clothing",
         "H&M Slim Fit Jeans",
         "Asia",
         119.97
        ],
        [
         "Clothing",
         "Gap Essential Crewneck T-Shirt",
         "Asia",
         119.94
        ],
        [
         "Books",
         "Salt, Fat, Acid, Heat by Samin Nosrat",
         "North America",
         107.97
        ],
        [
         "Beauty Products",
         "Sunday Riley Good Genes",
         "Europe",
         105.0
        ],
        [
         "Beauty Products",
         "Estee Lauder Advanced Night Repair",
         "Europe",
         105.0
        ],
        [
         "Clothing",
         "Nike Tempo Running Shorts",
         "Asia",
         104.97
        ],
        [
         "Beauty Products",
         "Lancome La Vie Est Belle",
         "Europe",
         102.0
        ],
        [
         "Beauty Products",
         "Charlotte Tilbury Magic Cream",
         "Europe",
         100.0
        ],
        [
         "Electronics",
         "Ring Video Doorbell",
         "North America",
         99.99
        ],
        [
         "Home Appliances",
         "Ninja Professional Blender",
         "Europe",
         99.99
        ],
        [
         "Home Appliances",
         "Crock-Pot 6-Quart Slow Cooker",
         "Europe",
         99.98
        ],
        [
         "Clothing",
         "Under Armour Tech 2.0 T-Shirt",
         "Asia",
         99.96
        ],
        [
         "Home Appliances",
         "Instant Pot Duo Nova",
         "Europe",
         99.95
        ],
        [
         "Clothing",
         "Hanes ComfortSoft T-Shirt",
         "Asia",
         99.9
        ],
        [
         "Sports",
         "Hydro Flask Standard Mouth Water Bottle",
         "Asia",
         98.85
        ],
        [
         "Home Appliances",
         "Hamilton Beach FlexBrew Coffee Maker",
         "Europe",
         89.99
        ],
        [
         "Beauty Products",
         "Neutrogena Skincare Set",
         "Europe",
         89.99
        ],
        [
         "Clothing",
         "Old Navy Mid-Rise Rockstar Super Skinny Jeans",
         "Asia",
         89.98
        ],
        [
         "Sports",
         "Adidas FIFA World Cup Football",
         "Asia",
         89.97
        ],
        [
         "Books",
         "The Catcher in the Rye by J.D. Salinger",
         "North America",
         88.93
        ],
        [
         "Books",
         "Educated by Tara Westover",
         "North America",
         84.0
        ],
        [
         "Beauty Products",
         "Kiehl's Midnight Recovery Concentrate",
         "Europe",
         82.0
        ],
        [
         "Beauty Products",
         "L'Oreal Revitalift Serum",
         "Europe",
         79.98
        ],
        [
         "Books",
         "1984 by George Orwell",
         "North America",
         79.96
        ],
        [
         "Beauty Products",
         "Caudalie Vinoperfect Radiance Serum",
         "Europe",
         79.0
        ],
        [
         "Beauty Products",
         "Drunk Elephant C-Firma Day Serum",
         "Europe",
         78.0
        ],
        [
         "Books",
         "Where the Crawdads Sing by Delia Owens",
         "North America",
         75.96
        ],
        [
         "Books",
         "Harry Potter and the Sorcerer's Stone",
         "North America",
         74.97
        ],
        [
         "Books",
         "Dune by Frank Herbert",
         "North America",
         71.96
        ],
        [
         "Sports",
         "TriggerPoint GRID Foam Roller",
         "Asia",
         69.98
        ],
        [
         "Beauty Products",
         "First Aid Beauty Ultra Repair Cream",
         "Europe",
         68.0
        ],
        [
         "Beauty Products",
         "Tatcha The Water Cream",
         "Europe",
         68.0
        ],
        [
         "Books",
         "Atomic Habits by James Clear",
         "North America",
         67.96
        ],
        [
         "Clothing",
         "Forever 21 Graphic Tee",
         "Asia",
         64.95
        ],
        [
         "Books",
         "The Da Vinci Code",
         "North America",
         63.96
        ],
        [
         "Sports",
         "Yeti Rambler 20 oz Tumbler",
         "Asia",
         59.98
        ],
        [
         "Books",
         "To Kill a Mockingbird by Harper Lee",
         "North America",
         59.96
        ],
        [
         "Clothing",
         "Old Navy Relaxed-Fit T-Shirt",
         "Asia",
         59.96
        ],
        [
         "Clothing",
         "Uniqlo Airism Mesh Boxer Briefs",
         "Asia",
         59.6
        ],
        [
         "Beauty Products",
         "GlamGlow Supermud Clearing Treatment",
         "Europe",
         59.0
        ],
        [
         "Beauty Products",
         "L'Occitane Shea Butter Hand Cream",
         "Europe",
         58.0
        ],
        [
         "Beauty Products",
         "Sunday Riley Luna Sleeping Night Oil",
         "Europe",
         55.0
        ],
        [
         "Books",
         "The Girl with the Dragon Tattoo by Stieg Larsson",
         "North America",
         52.95
        ],
        [
         "Beauty Products",
         "Dr. Jart+ Cicapair Tiger Grass Color Correcting Treatment",
         "Europe",
         52.0
        ],
        [
         "Beauty Products",
         "Clinique Moisture Surge",
         "Europe",
         52.0
        ],
        [
         "Books",
         "The Great Alone by Kristin Hannah",
         "North America",
         50.97
        ],
        [
         "Beauty Products",
         "Olay Regenerist Face Cream",
         "Europe",
         49.99
        ],
        [
         "Beauty Products",
         "Shiseido Ultimate Sun Protector",
         "Europe",
         49.0
        ],
        [
         "Beauty Products",
         "Anastasia Beverly Hills Brow Wiz",
         "Europe",
         46.0
        ],
        [
         "Books",
         "Gone Girl by Gillian Flynn",
         "North America",
         45.98
        ],
        [
         "Books",
         "The Subtle Art of Not Giving a F*ck by Mark Manson",
         "North America",
         44.97
        ],
        [
         "Books",
         "The Alchemist by Paulo Coelho",
         "North America",
         44.97
        ],
        [
         "Books",
         "The Girl on the Train by Paula Hawkins",
         "North America",
         43.96
        ],
        [
         "Clothing",
         "Uniqlo Airism Seamless Boxer Briefs",
         "Asia",
         39.6
        ],
        [
         "Books",
         "The Hobbit by J.R.R. Tolkien",
         "North America",
         38.97
        ],
        [
         "Books",
         "Pride and Prejudice by Jane Austen",
         "North America",
         38.97
        ],
        [
         "Books",
         "Sapiens: A Brief History of Humankind by Yuval Noah Harari",
         "North America",
         37.98
        ],
        [
         "Beauty Products",
         "Youth to the People Superfood Antioxidant Cleanser",
         "Europe",
         36.0
        ],
        [
         "Beauty Products",
         "Fenty Beauty Killawatt Highlighter",
         "Europe",
         36.0
        ],
        [
         "Books",
         "The Sun Also Rises by Ernest Hemingway",
         "North America",
         35.97
        ],
        [
         "Books",
         "The Hunger Games by Suzanne Collins",
         "North America",
         35.96
        ],
        [
         "Books",
         "The Night Circus by Erin Morgenstern",
         "North America",
         33.98
        ],
        [
         "Books",
         "The Outsiders by S.E. Hinton",
         "North America",
         32.97
        ],
        [
         "Books",
         "The Handmaid's Tale by Margaret Atwood",
         "North America",
         32.97
        ],
        [
         "Beauty Products",
         "Glossier Boy Brow",
         "Europe",
         32.0
        ],
        [
         "Beauty Products",
         "NARS Radiant Creamy Concealer",
         "Europe",
         30.0
        ],
        [
         "Beauty Products",
         "MAC Ruby Woo Lipstick",
         "Europe",
         29.99
        ],
        [
         "Beauty Products",
         "CeraVe Hydrating Facial Cleanser",
         "Europe",
         29.98
        ],
        [
         "Books",
         "The Goldfinch by Donna Tartt",
         "North America",
         29.98
        ],
        [
         "Books",
         "Think and Grow Rich by Napoleon Hill",
         "North America",
         29.97
        ],
        [
         "Beauty Products",
         "Paula's Choice Skin Perfecting 2% BHA Liquid Exfoliant",
         "Europe",
         29.5
        ],
        [
         "Beauty Products",
         "Clinique Dramatically Different Moisturizing Lotion",
         "Europe",
         29.5
        ],
        [
         "Beauty Products",
         "Tarte Shape Tape Concealer",
         "Europe",
         27.0
        ],
        [
         "Books",
         "The Martian by Andy Weir",
         "North America",
         25.98
        ],
        [
         "Books",
         "The Nightingale by Kristin Hannah",
         "North America",
         25.98
        ],
        [
         "Books",
         "The Power of Now by Eckhart Tolle",
         "North America",
         25.98
        ],
        [
         "Beauty Products",
         "Laneige Water Sleeping Mask",
         "Europe",
         25.0
        ],
        [
         "Beauty Products",
         "Fresh Sugar Lip Treatment",
         "Europe",
         24.0
        ],
        [
         "Books",
         "The Road by Cormac McCarthy",
         "North America",
         23.98
        ],
        [
         "Books",
         "The Power of Habit by Charles Duhigg",
         "North America",
         23.98
        ],
        [
         "Books",
         "The Art of War by Sun Tzu",
         "North America",
         23.97
        ],
        [
         "Books",
         "The Great Gatsby by F. Scott Fitzgerald",
         "North America",
         21.98
        ],
        [
         "Beauty Products",
         "Glossier Cloud Paint",
         "Europe",
         18.0
        ],
        [
         "Books",
         "The Four Agreements by Don Miguel Ruiz",
         "North America",
         17.98
        ],
        [
         "Beauty Products",
         "Neutrogena Hydro Boost Water Gel",
         "Europe",
         16.99
        ],
        [
         "Beauty Products",
         "Biore UV Aqua Rich Watery Essence Sunscreen",
         "Europe",
         15.0
        ],
        [
         "Beauty Products",
         "The Ordinary Hyaluronic Acid Serum",
         "Europe",
         6.8
        ],
        [
         "Beauty Products",
         "The Ordinary Caffeine Solution 5% + EGCG",
         "Europe",
         6.7
        ],
        [
         "Beauty Products",
         "The Ordinary Niacinamide Serum",
         "Europe",
         6.5
        ]
       ],
       "datasetInfos": [],
       "dbfsResultPath": null,
       "isJsonSchema": true,
       "metadata": {},
       "overflow": false,
       "plotOptions": {
        "customPlotOptions": {},
        "displayType": "table",
        "pivotAggregation": null,
        "pivotColumns": null,
        "xColumns": null,
        "yColumns": null
       },
       "removedWidgets": [],
       "schema": [
        {
         "metadata": "{}",
         "name": "Product Category",
         "type": "\"string\""
        },
        {
         "metadata": "{}",
         "name": "Product Name",
         "type": "\"string\""
        },
        {
         "metadata": "{}",
         "name": "Region",
         "type": "\"string\""
        },
        {
         "metadata": "{}",
         "name": "Total Revenue",
         "type": "\"double\""
        }
       ],
       "type": "table"
      }
     },
     "output_type": "display_data"
    },
    {
     "output_type": "display_data",
     "data": {
      "text/plain": [
       "Databricks visualization. Run in Databricks to view."
      ]
     },
     "metadata": {
      "application/vnd.databricks.v1.subcommand+json": {
       "baseErrorDetails": null,
       "bindings": {},
       "collapsed": false,
       "command": "%python\n__backend_agg_display_orig = display\n__backend_agg_dfs = []\ndef __backend_agg_display_new(df):\n    __backend_agg_df_modules = [\"pandas.core.frame\", \"databricks.koalas.frame\", \"pyspark.sql.dataframe\", \"pyspark.pandas.frame\", \"pyspark.sql.connect.dataframe\"]\n    if (type(df).__module__ in __backend_agg_df_modules and type(df).__name__ == 'DataFrame') or isinstance(df, list):\n        __backend_agg_dfs.append(df)\n\ndisplay = __backend_agg_display_new\n\ndef __backend_agg_user_code_fn():\n    import base64\n    exec(base64.standard_b64decode(\"ZGY0PWRmLmdyb3VwQnkoIlByb2R1Y3QgQ2F0ZWdvcnkiLCAiUHJvZHVjdCBOYW1lIiwiUmVnaW9uIikuYWdnKEYuc3VtKCJUb3RhbCBSZXZlbnVlIikuYWxpYXMoIlRvdGFsIFJldmVudWUiKSkub3JkZXJCeShGLmRlc2MoIlRvdGFsIFJldmVudWUiKSkKZGY0LmRpc3BsYXkoKQ==\").decode())\n\ntry:\n    # run user code\n    __backend_agg_user_code_fn()\n\n    #reset display function\n    display = __backend_agg_display_orig\n\n    if len(__backend_agg_dfs) > 0:\n        # create a temp view\n        if type(__backend_agg_dfs[0]).__module__ == \"databricks.koalas.frame\":\n            # koalas dataframe\n            __backend_agg_dfs[0].to_spark().createOrReplaceTempView(\"DatabricksView38a0922\")\n        elif type(__backend_agg_dfs[0]).__module__ == \"pandas.core.frame\" or isinstance(__backend_agg_dfs[0], list):\n            # pandas dataframe\n            spark.createDataFrame(__backend_agg_dfs[0]).createOrReplaceTempView(\"DatabricksView38a0922\")\n        else:\n            __backend_agg_dfs[0].createOrReplaceTempView(\"DatabricksView38a0922\")\n        #run backend agg\n        display(spark.sql(\"\"\"WITH q AS (select * from DatabricksView38a0922) SELECT `Product Name`,SUM(`Total Revenue`) `column_31fb3f5a63`,`Product Category` FROM q GROUP BY `Product Category`,`Product Name`\"\"\"))\n    else:\n        displayHTML(\"dataframe no longer exists. If you're using dataframe.display(), use display(dataframe) instead.\")\n\n\nfinally:\n    spark.sql(\"drop view if exists DatabricksView38a0922\")\n    display = __backend_agg_display_orig\n    del __backend_agg_display_new\n    del __backend_agg_display_orig\n    del __backend_agg_dfs\n    del __backend_agg_user_code_fn\n\n",
       "commandTitle": "Visualization 1",
       "commandType": "auto",
       "commandVersion": 0,
       "commentThread": [],
       "commentsVisible": false,
       "contentSha256Hex": null,
       "customPlotOptions": {
        "redashChart": [
         {
          "key": "type",
          "value": "CHART"
         },
         {
          "key": "options",
          "value": {
           "alignYAxesAtZero": true,
           "coefficient": 1,
           "columnConfigurationMap": {
            "series": {
             "column": "Product Category",
             "id": "column_31fb3f5a65"
            },
            "x": {
             "column": "Region",
             "id": "column_1af88ab79"
            },
            "y": [
             {
              "column": "Total Revenue",
              "id": "column_31fb3f5a63",
              "transform": "SUM"
             }
            ]
           },
           "dateTimeFormat": "DD/MM/YYYY HH:mm",
           "direction": {
            "type": "counterclockwise"
           },
           "error_y": {
            "type": "data",
            "visible": true
           },
           "globalSeriesType": "column",
           "hideXAxis": false,
           "hideYAxes": false,
           "isAggregationOn": true,
           "legend": {
            "traceorder": "reversed"
           },
           "missingValuesAsZero": false,
           "numberFormat": "0,0.[00000]",
           "percentFormat": "0[.]00%",
           "series": {
            "error_y": {
             "type": "data",
             "visible": true
            },
            "percentValues": false,
            "stacking": ""
           },
           "seriesOptions": {
            "Beauty Products": {
             "type": "column",
             "yAxis": 0,
             "zIndex": 0
            },
            "Books": {
             "type": "column",
             "yAxis": 0,
             "zIndex": 1
            },
            "Clothing": {
             "type": "column",
             "yAxis": 0,
             "zIndex": 2
            },
            "Electronics": {
             "type": "column",
             "yAxis": 0,
             "zIndex": 3
            },
            "Home Appliances": {
             "type": "column",
             "yAxis": 0,
             "zIndex": 4
            },
            "Sports": {
             "type": "column",
             "yAxis": 0,
             "zIndex": 5
            },
            "column_31fb3f5a63": {
             "type": "column",
             "yAxis": 0
            }
           },
           "showDataLabels": false,
           "sizemode": "diameter",
           "sortX": false,
           "sortY": true,
           "swappedAxes": false,
           "textFormat": "",
           "useAggregationsUi": true,
           "valuesOptions": {},
           "version": 2,
           "xAxis": {
            "labels": {
             "enabled": true
            },
            "type": "-"
           },
           "yAxis": [
            {
             "title": {
              "text": "Revenue"
             },
             "type": "linear"
            },
            {
             "opposite": true,
             "type": "-"
            }
           ]
          }
         }
        ]
       },
       "datasetPreviewNameToCmdIdMap": {},
       "diffDeletes": [],
       "diffInserts": [],
       "displayType": "redashChart",
       "error": null,
       "errorDetails": null,
       "errorSummary": null,
       "errorTraceType": null,
       "finishTime": 0,
       "globalVars": {},
       "guid": "",
       "height": "auto",
       "hideCommandCode": false,
       "hideCommandResult": false,
       "iPythonMetadata": null,
       "inputWidgets": {},
       "isLockedInExamMode": false,
       "latestUser": "a user",
       "latestUserId": null,
       "listResultMetadata": null,
       "metadata": {
        "byteLimit": 2048000,
        "rowLimit": 10000
       },
       "nuid": "f6982117-4dc4-4100-983d-c9023af8eef8",
       "origId": 0,
       "parentHierarchy": [],
       "pivotAggregation": null,
       "pivotColumns": null,
       "position": 9.0,
       "resultDbfsErrorMessage": null,
       "resultDbfsStatus": "INLINED_IN_TREE",
       "results": null,
       "showCommandTitle": false,
       "startTime": 0,
       "state": "finished",
       "streamStates": {},
       "subcommandOptions": {
        "queryPlan": {
         "groups": [
          {
           "column": "Region",
           "type": "column"
          },
          {
           "column": "Product Category",
           "type": "column"
          }
         ],
         "selects": [
          {
           "column": "Region",
           "type": "column"
          },
          {
           "alias": "column_31fb3f5a63",
           "args": [
            {
             "column": "Total Revenue",
             "type": "column"
            }
           ],
           "function": "SUM",
           "type": "function"
          },
          {
           "column": "Product Category",
           "type": "column"
          }
         ]
        }
       },
       "submitTime": 0,
       "subtype": "tableResultSubCmd.visualization",
       "tableResultIndex": 0,
       "useConsistentColors": false,
       "version": "CommandV1",
       "width": "auto",
       "workflows": [],
       "xColumns": null,
       "yColumns": null
      }
     },
     "output_type": "display_data"
    }
   ],
   "source": [
    "df4=df.groupBy(\"Product Category\", \"Product Name\",\"Region\").agg(F.sum(\"Total Revenue\").alias(\"Total Revenue\")).orderBy(F.desc(\"Total Revenue\"))\n",
    "df4.display()"
   ]
  }
 ],
 "metadata": {
  "application/vnd.databricks.v1+notebook": {
   "dashboards": [],
   "environmentMetadata": null,
   "language": "python",
   "notebookMetadata": {
    "pythonIndentUnit": 4
   },
   "notebookName": "Project1",
   "widgets": {}
  }
 },
 "nbformat": 4,
 "nbformat_minor": 0
}
